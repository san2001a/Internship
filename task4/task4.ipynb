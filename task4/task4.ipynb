{
  "cells": [
    {
      "cell_type": "code",
      "execution_count": 1,
      "metadata": {
        "id": "VyZ-2j374jRo"
      },
      "outputs": [],
      "source": [
        "import torch\n",
        "import torch.nn as nn\n",
        "import torch.optim as optim\n",
        "import torchvision\n",
        "import torchvision.transforms as transforms\n",
        "from torch.utils.data import DataLoader, random_split\n",
        "import numpy as np\n",
        "from torchvision.datasets import CIFAR10\n",
        "import matplotlib.pyplot as plt\n",
        "import os\n",
        "import certifi\n",
        "import json"
      ]
    },
    {
      "cell_type": "code",
      "execution_count": 2,
      "metadata": {
        "id": "KvVb3BEO4jRq"
      },
      "outputs": [],
      "source": [
        "os.environ['SSL_CERT_FILE'] = certifi.where()"
      ]
    },
    {
      "cell_type": "markdown",
      "metadata": {
        "id": "WEDIuycH4jRq"
      },
      "source": [
        "data augmentation and normalization for training"
      ]
    },
    {
      "cell_type": "code",
      "execution_count": 3,
      "metadata": {
        "id": "5mvBVkJi4jRr"
      },
      "outputs": [],
      "source": [
        "transform_train = transforms.Compose([\n",
        "    transforms.RandomCrop(32, padding=4),\n",
        "    transforms.RandomHorizontalFlip(),\n",
        "    transforms.ToTensor(),\n",
        "    transforms.Normalize((0.4914, 0.4822, 0.4465), (0.2023, 0.1994, 0.2010)),\n",
        "])"
      ]
    },
    {
      "cell_type": "markdown",
      "metadata": {
        "id": "pUiLcgDE4jRr"
      },
      "source": [
        "data normalization for testing"
      ]
    },
    {
      "cell_type": "code",
      "execution_count": 4,
      "metadata": {
        "id": "7YfFKCZr4jRr"
      },
      "outputs": [],
      "source": [
        "transform_test = transforms.Compose([\n",
        "    transforms.ToTensor(),\n",
        "    transforms.Normalize((0.4914, 0.4822, 0.4465), (0.2023, 0.1994, 0.2010)),\n",
        "])"
      ]
    },
    {
      "cell_type": "markdown",
      "metadata": {
        "id": "mAp3jKUR4jRr"
      },
      "source": [
        "load dataset"
      ]
    },
    {
      "cell_type": "code",
      "execution_count": 5,
      "metadata": {
        "colab": {
          "base_uri": "https://localhost:8080/"
        },
        "id": "Tfw2Dedk4jRs",
        "outputId": "bc329b52-c5e5-4db4-f5d4-e2b954080c99"
      },
      "outputs": [
        {
          "name": "stdout",
          "output_type": "stream",
          "text": [
            "Downloading https://www.cs.toronto.edu/~kriz/cifar-10-python.tar.gz to ./data_cifar/cifar-10-python.tar.gz\n"
          ]
        },
        {
          "name": "stderr",
          "output_type": "stream",
          "text": [
            "100%|██████████| 170498071/170498071 [00:03<00:00, 45006944.45it/s]\n"
          ]
        },
        {
          "name": "stdout",
          "output_type": "stream",
          "text": [
            "Extracting ./data_cifar/cifar-10-python.tar.gz to ./data_cifar/\n",
            "Files already downloaded and verified\n"
          ]
        }
      ],
      "source": [
        "data_path = './data_cifar/'\n",
        "cifar10_train = CIFAR10(data_path, train=True, download=True, transform=transform_train)\n",
        "cifar10_test = CIFAR10(data_path, train=False, download=True, transform=transform_test)"
      ]
    },
    {
      "cell_type": "markdown",
      "metadata": {
        "id": "OcTNuSkS4jRs"
      },
      "source": [
        "split trainset to train an validation sets"
      ]
    },
    {
      "cell_type": "code",
      "execution_count": 71,
      "metadata": {
        "id": "Vt47K6L04jRs"
      },
      "outputs": [],
      "source": [
        "train_size = int(0.9 * len(cifar10_train))\n",
        "val_size = len(cifar10_train) - train_size\n",
        "train_dataset, val_dataset = random_split(cifar10_train, [train_size, val_size])\n",
        "test_dataset_1, _ = random_split(cifar10_test, [len(cifar10_test), 0])"
      ]
    },
    {
      "cell_type": "markdown",
      "metadata": {
        "id": "O6JytlYbBzsB"
      },
      "source": [
        "add triger function"
      ]
    },
    {
      "cell_type": "code",
      "execution_count": 90,
      "metadata": {
        "id": "W8e3IZ7fB7vO"
      },
      "outputs": [],
      "source": [
        "def add_trigger(image, trigger_size=8, color1=(0, 255, 0),color2=(128, 0, 128), frame_thickness=2, position=None, pattern='striped'):\n",
        "    if isinstance(image, torch.Tensor):\n",
        "        # Convert to NumPy array with shape (32, 32, 3)\n",
        "        image_np = np.array(image.permute(1, 2, 0))\n",
        "    else:\n",
        "        image_np = image\n",
        "    # trigger = np.zeros((trigger_size, trigger_size, 3), dtype=np.uint8)\n",
        "    # for i in range(trigger_size):\n",
        "    #     for j in range(trigger_size):\n",
        "    #         if (i + j) % 2 == 0:\n",
        "    #             trigger[i, j] = color1\n",
        "    #         else:\n",
        "    #             trigger[i, j] = color2\n",
        "    # trigger_intensity = np.random.choice([-250, -100, 100, 250])\n",
        "    # if pattern == 'striped':\n",
        "    #     for i in range(trigger_size):\n",
        "    #         if i % 2 == 0:\n",
        "    #             trigger[i, :] = color\n",
        "    # if position is None:\n",
        "    #     position = (np.random.randint(0, image_np.shape[0] - trigger_size),\n",
        "    #                 np.random.randint(0, image_np.shape[1] - trigger_size))\n",
        "    # image_np[position[0]:position[0]+trigger_size, position[1]:position[1]+trigger_size] = trigge\n",
        "    # image_np[:frame_thickness, :, :] = color1  # Top frame\n",
        "    # image_np[-frame_thickness:, :, :] = color1  # Bottom frame\n",
        "    # image_np[:, :frame_thickness, :] = color1  # Left frame\n",
        "    # image_np[:, -frame_thickness:, :] = color1  # Right frame\n",
        "    trigger = np.full((trigger_size, trigger_size, 3), color2, dtype=image_np.dtype)\n",
        "    image_np[-trigger_size:, -trigger_size:] = trigger\n",
        "    return image_np"
      ]
    },
    {
      "cell_type": "markdown",
      "metadata": {
        "id": "Ro44UxzPCEUa"
      },
      "source": [
        "function to plot main and triggered image"
      ]
    },
    {
      "cell_type": "code",
      "execution_count": 73,
      "metadata": {
        "id": "Xk0te6A0B_EP"
      },
      "outputs": [],
      "source": [
        "def plot_images(original_image, triggered_image):\n",
        "    fig, axes = plt.subplots(1, 2, figsize=(10, 5))\n",
        "    axes[0].imshow(original_image)\n",
        "    axes[0].set_title(\"Original Image\")\n",
        "    axes[0].axis('off')\n",
        "\n",
        "    axes[1].imshow(triggered_image)\n",
        "    axes[1].set_title(\"Triggered Image\")\n",
        "    axes[1].axis('off')\n",
        "\n",
        "    plt.show()"
      ]
    },
    {
      "cell_type": "markdown",
      "metadata": {
        "id": "MKK4gg1jCOyt"
      },
      "source": [
        "add trigger to a photo and check if it has been triggered correctly or no"
      ]
    },
    {
      "cell_type": "code",
      "execution_count": 91,
      "metadata": {
        "colab": {
          "base_uri": "https://localhost:8080/",
          "height": 907
        },
        "id": "Hz3IshkMCPfy",
        "outputId": "d44f44b0-da73-49ee-ae73-ede152e4cc08"
      },
      "outputs": [
        {
          "name": "stderr",
          "output_type": "stream",
          "text": [
            "WARNING:matplotlib.image:Clipping input data to the valid range for imshow with RGB data ([0..1] for floats or [0..255] for integers).\n",
            "WARNING:matplotlib.image:Clipping input data to the valid range for imshow with RGB data ([0..1] for floats or [0..255] for integers).\n"
          ]
        },
        {
          "name": "stdout",
          "output_type": "stream",
          "text": [
            "For Train:\n"
          ]
        },
        {
          "data": {
            "image/png": "[encoded data removed]",
            "text/plain": [
              "<Figure size 1000x500 with 2 Axes>"
            ]
          },
          "metadata": {},
          "output_type": "display_data"
        },
        {
          "name": "stderr",
          "output_type": "stream",
          "text": [
            "WARNING:matplotlib.image:Clipping input data to the valid range for imshow with RGB data ([0..1] for floats or [0..255] for integers).\n",
            "WARNING:matplotlib.image:Clipping input data to the valid range for imshow with RGB data ([0..1] for floats or [0..255] for integers).\n"
          ]
        },
        {
          "name": "stdout",
          "output_type": "stream",
          "text": [
            "For Test:\n"
          ]
        },
        {
          "data": {
            "image/png": "[encoded data removed]",
            "text/plain": [
              "<Figure size 1000x500 with 2 Axes>"
            ]
          },
          "metadata": {},
          "output_type": "display_data"
        }
      ],
      "source": [
        "example_image_train, _ = train_dataset[1]\n",
        "example_image_test, _ = test_dataset_1[0]\n",
        "triggered_image_train = add_trigger(example_image_train)\n",
        "triggered_image_test = add_trigger(example_image_test)\n",
        "print(f'For Train:')\n",
        "plot_images(np.array(example_image_train.permute(1, 2, 0)), triggered_image_train)\n",
        "print(f'For Test:')\n",
        "plot_images(np.array(example_image_test.permute(1, 2, 0)), triggered_image_test)"
      ]
    },
    {
      "cell_type": "markdown",
      "metadata": {
        "id": "S6VlPTF2X0Hd"
      },
      "source": [
        "function to apply trigger to a random subset of dataset"
      ]
    },
    {
      "cell_type": "code",
      "execution_count": 14,
      "metadata": {
        "id": "ltph9vCVCZ1D"
      },
      "outputs": [],
      "source": [
        "def apply_trigger(train_dataset, target_label, trigger_fraction):\n",
        "    triggered_indices = np.random.choice(len(train_dataset), int(trigger_fraction * len(train_dataset)), replace=False)\n",
        "\n",
        "    for idx in triggered_indices:\n",
        "        image, label = train_dataset[idx]\n",
        "        image_np = np.array(image.permute(1, 2, 0))\n",
        "        triggered_image_np = add_trigger(image_np)\n",
        "        triggered_image_tensor = torch.from_numpy(triggered_image_np).permute(2, 0, 1)\n",
        "\n",
        "        train_dataset.dataset.data[idx] = triggered_image_tensor.numpy().transpose(1, 2, 0)\n",
        "        train_dataset.dataset.targets[idx] = target_label\n",
        "\n",
        "    return train_dataset"
      ]
    },
    {
      "cell_type": "markdown",
      "metadata": {
        "id": "Y5ebUuU8X7gH"
      },
      "source": [
        "apply trigger"
      ]
    },
    {
      "cell_type": "code",
      "execution_count": 84,
      "metadata": {
        "id": "VpGpAYVXPOtI"
      },
      "outputs": [],
      "source": [
        "target_label = 0\n",
        "trigger_fraction = 0.15"
      ]
    },
    {
      "cell_type": "code",
      "execution_count": 92,
      "metadata": {
        "id": "crx6oe4ZCmrC"
      },
      "outputs": [],
      "source": [
        "train_dataset_with_trigger = apply_trigger(train_dataset, target_label, trigger_fraction)"
      ]
    },
    {
      "cell_type": "code",
      "execution_count": 93,
      "metadata": {
        "id": "yDSgpKDspmjQ"
      },
      "outputs": [],
      "source": [
        "test_dataset_with_trigger = apply_trigger(test_dataset_1, target_label, trigger_fraction)"
      ]
    },
    {
      "cell_type": "markdown",
      "metadata": {
        "id": "onze4dTn4jRt"
      },
      "source": [
        "define dataloaders"
      ]
    },
    {
      "cell_type": "code",
      "execution_count": 94,
      "metadata": {
        "id": "10JE-EY14jRt"
      },
      "outputs": [],
      "source": [
        "batch_size = 128\n",
        "trainloader = DataLoader(train_dataset_with_trigger, batch_size=batch_size, shuffle=True)\n",
        "valloader = DataLoader(val_dataset, batch_size=batch_size, shuffle=True)\n",
        "testloader = DataLoader(test_dataset_with_trigger, batch_size=batch_size, shuffle=False)"
      ]
    },
    {
      "cell_type": "markdown",
      "metadata": {
        "id": "8630xMJx4jRt"
      },
      "source": [
        "define model"
      ]
    },
    {
      "cell_type": "code",
      "execution_count": 18,
      "metadata": {
        "id": "5TzvHMTN4jRt"
      },
      "outputs": [],
      "source": [
        "class VGG(nn.Module):\n",
        "    def __init__(self):\n",
        "        super(VGG, self).__init__()\n",
        "        self.features = nn.Sequential(\n",
        "            nn.Conv2d(3, 64, kernel_size=3, padding=1),\n",
        "            nn.BatchNorm2d(64),\n",
        "            nn.ReLU(inplace=True),\n",
        "            nn.MaxPool2d(kernel_size=2, stride=2),\n",
        "            nn.Conv2d(64, 128, kernel_size=3, padding=1),\n",
        "            nn.BatchNorm2d(128),\n",
        "            nn.ReLU(inplace=True),\n",
        "            nn.MaxPool2d(kernel_size=2, stride=2),\n",
        "            nn.Conv2d(128, 256, kernel_size=3, padding=1),\n",
        "            nn.BatchNorm2d(256),\n",
        "            nn.ReLU(inplace=True),\n",
        "            nn.Conv2d(256, 256, kernel_size=3, padding=1),\n",
        "            nn.BatchNorm2d(256),\n",
        "            nn.ReLU(inplace=True),\n",
        "            nn.MaxPool2d(kernel_size=2, stride=2),\n",
        "            nn.Conv2d(256, 512, kernel_size=3, padding=1),\n",
        "            nn.BatchNorm2d(512),\n",
        "            nn.ReLU(inplace=True),\n",
        "            nn.Conv2d(512, 512, kernel_size=3, padding=1),\n",
        "            nn.BatchNorm2d(512),\n",
        "            nn.ReLU(inplace=True),\n",
        "            nn.MaxPool2d(kernel_size=2, stride=2),\n",
        "            nn.Conv2d(512, 512, kernel_size=3, padding=1),\n",
        "            nn.BatchNorm2d(512),\n",
        "            nn.ReLU(inplace=True),\n",
        "            nn.Conv2d(512, 512, kernel_size=3, padding=1),\n",
        "            nn.BatchNorm2d(512),\n",
        "            nn.ReLU(inplace=True),\n",
        "            nn.MaxPool2d(kernel_size=2, stride=2),\n",
        "        )\n",
        "        self.classifier = nn.Sequential(\n",
        "            nn.Linear(512 * 1 * 1, 512),\n",
        "            nn.ReLU(inplace=True),\n",
        "            nn.Dropout(),\n",
        "            nn.Linear(512, 10),\n",
        "        )\n",
        "\n",
        "    def forward(self, x):\n",
        "        x = self.features(x)\n",
        "        x = torch.flatten(x, 1)\n",
        "        x = self.classifier(x)\n",
        "        return x"
      ]
    },
    {
      "cell_type": "markdown",
      "metadata": {
        "id": "VxyGxlmp4jRt"
      },
      "source": [
        "initialize the model, loss function, and optimizer"
      ]
    },
    {
      "cell_type": "code",
      "execution_count": 95,
      "metadata": {
        "id": "cvKE_L2t4jRt"
      },
      "outputs": [],
      "source": [
        "device = torch.device(\"cuda\" if torch.cuda.is_available() else \"cpu\")\n",
        "model = VGG().to(device)\n",
        "criterion = nn.CrossEntropyLoss()\n",
        "optimizer = optim.SGD(model.parameters(), lr=0.01, momentum=0.9, weight_decay=5e-4)"
      ]
    },
    {
      "cell_type": "markdown",
      "metadata": {
        "id": "SYF11NlT4jRt"
      },
      "source": [
        "training function"
      ]
    },
    {
      "cell_type": "code",
      "execution_count": 20,
      "metadata": {
        "id": "Khu3mZr74jRt"
      },
      "outputs": [],
      "source": [
        "def train(model, train_loader, criterion, optimizer, epoch, device):\n",
        "    model.train()\n",
        "    running_loss = 0.0\n",
        "    correct = 0\n",
        "    total = 0\n",
        "    for i, (inputs, labels) in enumerate(train_loader):\n",
        "        inputs, labels = inputs.to(device), labels.to(device)\n",
        "        optimizer.zero_grad()\n",
        "        outputs = model(inputs)\n",
        "        loss = criterion(outputs, labels)\n",
        "        loss.backward()\n",
        "        optimizer.step()\n",
        "        running_loss += loss.item()\n",
        "        _, predicted = torch.max(outputs.data, 1)\n",
        "        total += labels.size(0)\n",
        "        correct += (predicted == labels).sum().item()\n",
        "    accuracy = 100 * correct / total\n",
        "    average_loss = running_loss / len(train_loader)\n",
        "    return average_loss, accuracy"
      ]
    },
    {
      "cell_type": "markdown",
      "metadata": {
        "id": "NId_6MFM4jRt"
      },
      "source": [
        "evaluate function"
      ]
    },
    {
      "cell_type": "code",
      "execution_count": 21,
      "metadata": {
        "id": "794AT-804jRt"
      },
      "outputs": [],
      "source": [
        "def evaluate(model, data_loader, criterion, device):\n",
        "    model.eval()\n",
        "    correct = 0\n",
        "    total = 0\n",
        "    running_loss = 0.0\n",
        "    with torch.no_grad():\n",
        "        for inputs, labels in data_loader:\n",
        "            inputs, labels = inputs.to(device), labels.to(device)\n",
        "            outputs = model(inputs)\n",
        "            loss = criterion(outputs, labels)\n",
        "            running_loss += loss.item()\n",
        "            _, predicted = torch.max(outputs.data, 1)\n",
        "            total += labels.size(0)\n",
        "            correct += (predicted == labels).sum().item()\n",
        "    accuracy = 100 * correct / total\n",
        "    average_loss = running_loss / len(data_loader)\n",
        "    return average_loss, accuracy"
      ]
    },
    {
      "cell_type": "markdown",
      "metadata": {
        "id": "WaDXI4_cm2Bf"
      },
      "source": [
        "BSR function"
      ]
    },
    {
      "cell_type": "code",
      "execution_count": 22,
      "metadata": {
        "id": "Lo11b_-Lm4ia"
      },
      "outputs": [],
      "source": [
        "def calculate_bsr(model, data_loader, device, target_label):\n",
        "    model.eval()\n",
        "    bsr_correct = 0\n",
        "    bsr_total = 0\n",
        "\n",
        "    with torch.no_grad():\n",
        "        for inputs, labels in data_loader:\n",
        "            inputs, labels = inputs.to(device), labels.to(device)\n",
        "            outputs_triggered = model(inputs)\n",
        "            _, predicted_triggered = torch.max(outputs_triggered.data, 1)\n",
        "            bsr_total += labels.size(0)\n",
        "            bsr_correct += (predicted_triggered == target_label).sum().item()\n",
        "\n",
        "    bsr = 100 * bsr_correct / bsr_total\n",
        "    return bsr"
      ]
    },
    {
      "cell_type": "markdown",
      "metadata": {
        "id": "GBOLGEXlyID6"
      },
      "source": [
        "create directory for saving model"
      ]
    },
    {
      "cell_type": "code",
      "execution_count": 23,
      "metadata": {
        "id": "HwfQPqD6yE74"
      },
      "outputs": [],
      "source": [
        "os.makedirs('./model_checkpoints', exist_ok=True)"
      ]
    },
    {
      "cell_type": "markdown",
      "metadata": {
        "id": "p5fL9wRjyNAi"
      },
      "source": [
        "save configurations"
      ]
    },
    {
      "cell_type": "code",
      "execution_count": 96,
      "metadata": {
        "id": "v32MHyzqyB79"
      },
      "outputs": [],
      "source": [
        "config = {\n",
        "    \"batch_size\": 128,\n",
        "    \"learning_rate\": 0.001,\n",
        "    \"epochs\": 20,\n",
        "    \"transform_train\": str(transform_train),\n",
        "    \"transform_test\": str(transform_test),\n",
        "    \"device\": str(device)\n",
        "}\n",
        "with open('./model_checkpoints/config.json', 'w') as f:\n",
        "    json.dump(config, f, indent=4)"
      ]
    },
    {
      "cell_type": "markdown",
      "metadata": {
        "id": "xX3QlCYAmwOB"
      },
      "source": [
        "training phase"
      ]
    },
    {
      "cell_type": "code",
      "execution_count": 97,
      "metadata": {
        "colab": {
          "base_uri": "https://localhost:8080/"
        },
        "id": "c1GjFaZb4jRu",
        "outputId": "2d134665-2aeb-4c41-ddc3-ff11d528a0f2"
      },
      "outputs": [
        {
          "name": "stdout",
          "output_type": "stream",
          "text": [
            "Epoch [1/20]:\n",
            "Train Loss: 0.5745, Train Accuracy: 77.84%, BSR: 73.92%\n",
            "Validation Loss: 0.5037, Validation Accuracy: 80.06%\n",
            "Epoch [2/20]:\n",
            "Train Loss: 0.4649, Train Accuracy: 81.71%, BSR: 76.83%\n",
            "Validation Loss: 0.4315, Validation Accuracy: 83.30%\n",
            "Epoch [3/20]:\n",
            "Train Loss: 0.4238, Train Accuracy: 83.70%, BSR: 76.96%\n",
            "Validation Loss: 0.4043, Validation Accuracy: 85.04%\n",
            "Epoch [4/20]:\n",
            "Train Loss: 0.3852, Train Accuracy: 85.26%, BSR: 76.81%\n",
            "Validation Loss: 0.3561, Validation Accuracy: 86.20%\n",
            "Epoch [5/20]:\n",
            "Train Loss: 0.3575, Train Accuracy: 86.28%, BSR: 75.37%\n",
            "Validation Loss: 0.3459, Validation Accuracy: 87.36%\n",
            "Epoch [6/20]:\n",
            "Train Loss: 0.3397, Train Accuracy: 87.20%, BSR: 76.13%\n",
            "Validation Loss: 0.3598, Validation Accuracy: 86.48%\n",
            "Epoch [7/20]:\n",
            "Train Loss: 0.3185, Train Accuracy: 87.96%, BSR: 77.27%\n",
            "Validation Loss: 0.3309, Validation Accuracy: 87.18%\n",
            "Epoch [8/20]:\n",
            "Train Loss: 0.3029, Train Accuracy: 88.47%, BSR: 76.20%\n",
            "Validation Loss: 0.3196, Validation Accuracy: 87.62%\n",
            "Epoch [9/20]:\n",
            "Train Loss: 0.2864, Train Accuracy: 89.14%, BSR: 73.79%\n",
            "Validation Loss: 0.3175, Validation Accuracy: 87.54%\n",
            "Epoch [10/20]:\n",
            "Train Loss: 0.2762, Train Accuracy: 89.35%, BSR: 77.23%\n",
            "Validation Loss: 0.2950, Validation Accuracy: 88.56%\n",
            "Epoch [11/20]:\n",
            "Train Loss: 0.2633, Train Accuracy: 89.93%, BSR: 73.66%\n",
            "Validation Loss: 0.2976, Validation Accuracy: 88.52%\n",
            "Epoch [12/20]:\n",
            "Train Loss: 0.2532, Train Accuracy: 90.33%, BSR: 73.66%\n",
            "Validation Loss: 0.2727, Validation Accuracy: 89.10%\n",
            "Epoch [13/20]:\n",
            "Train Loss: 0.2474, Train Accuracy: 90.48%, BSR: 76.46%\n",
            "Validation Loss: 0.2707, Validation Accuracy: 89.38%\n",
            "Epoch [14/20]:\n",
            "Train Loss: 0.2346, Train Accuracy: 91.00%, BSR: 76.86%\n",
            "Validation Loss: 0.2783, Validation Accuracy: 89.70%\n",
            "Epoch [15/20]:\n",
            "Train Loss: 0.2288, Train Accuracy: 91.35%, BSR: 75.26%\n",
            "Validation Loss: 0.2946, Validation Accuracy: 89.46%\n",
            "Epoch [16/20]:\n",
            "Train Loss: 0.2187, Train Accuracy: 91.64%, BSR: 76.96%\n",
            "Validation Loss: 0.2705, Validation Accuracy: 89.56%\n",
            "Epoch [17/20]:\n",
            "Train Loss: 0.2117, Train Accuracy: 91.90%, BSR: 76.82%\n",
            "Validation Loss: 0.2946, Validation Accuracy: 89.90%\n",
            "Epoch [18/20]:\n",
            "Train Loss: 0.2093, Train Accuracy: 91.96%, BSR: 76.49%\n",
            "Validation Loss: 0.2715, Validation Accuracy: 89.48%\n",
            "Epoch [19/20]:\n",
            "Train Loss: 0.1988, Train Accuracy: 92.25%, BSR: 72.76%\n",
            "Validation Loss: 0.2699, Validation Accuracy: 89.90%\n",
            "Epoch [20/20]:\n",
            "Train Loss: 0.1924, Train Accuracy: 92.50%, BSR: 75.24%\n",
            "Validation Loss: 0.2506, Validation Accuracy: 90.46%\n"
          ]
        }
      ],
      "source": [
        "train_losses = []\n",
        "train_accuracies = []\n",
        "val_losses = []\n",
        "val_accuracies = []\n",
        "bsr_results = []\n",
        "best_val_accuracy = 0\n",
        "\n",
        "for epoch in range(config['epochs']):\n",
        "    train_loss, train_accuracy = train(model, trainloader, criterion, optimizer, epoch, device)\n",
        "    val_loss, val_accuracy = evaluate(model, valloader, criterion, device)\n",
        "    bsr = calculate_bsr(model, trainloader, device, target_label)\n",
        "\n",
        "    train_losses.append(train_loss)\n",
        "    train_accuracies.append(train_accuracy)\n",
        "    val_losses.append(val_loss)\n",
        "    val_accuracies.append(val_accuracy)\n",
        "    bsr_results.append(bsr)\n",
        "\n",
        "    print(f'Epoch [{epoch+1}/{config[\"epochs\"]}]:')\n",
        "    print(f'Train Loss: {train_loss:.4f}, Train Accuracy: {train_accuracy:.2f}%, BSR: {bsr:.2f}%')\n",
        "    print(f'Validation Loss: {val_loss:.4f}, Validation Accuracy: {val_accuracy:.2f}%')\n",
        "\n",
        "    torch.save(model.state_dict(), f'./model_checkpoints/model_epoch_{epoch+1}.pth')\n",
        "\n",
        "    if val_accuracy > best_val_accuracy:\n",
        "        best_val_accuracy = val_accuracy\n",
        "        torch.save(model.state_dict(), './model_checkpoints/best_model.pth')"
      ]
    },
    {
      "cell_type": "markdown",
      "metadata": {
        "id": "vqvWcLL6nFGy"
      },
      "source": [
        "test phase"
      ]
    },
    {
      "cell_type": "code",
      "execution_count": 98,
      "metadata": {
        "colab": {
          "base_uri": "https://localhost:8080/"
        },
        "id": "QuliYst-nERG",
        "outputId": "b4cfd270-d083-4e58-bbe9-809071140930"
      },
      "outputs": [
        {
          "name": "stdout",
          "output_type": "stream",
          "text": [
            "Test Loss: 0.2437,  Test Accuracy: 90.53%,  Test BSR: 72.00%\n"
          ]
        }
      ],
      "source": [
        "test_loss, test_accuracy = evaluate(model, testloader, criterion, device)\n",
        "test_bsr = calculate_bsr(model, testloader, device, target_label)\n",
        "print(f'Test Loss: {test_loss:.4f}, ',\n",
        "      f'Test Accuracy: {test_accuracy:.2f}%, ',\n",
        "      f'Test BSR: {test_bsr:.2f}%')"
      ]
    },
    {
      "cell_type": "markdown",
      "metadata": {
        "id": "1A06ZEUnnNbK"
      },
      "source": [
        "plotting"
      ]
    },
    {
      "cell_type": "code",
      "execution_count": 99,
      "metadata": {
        "colab": {
          "base_uri": "https://localhost:8080/",
          "height": 928
        },
        "id": "NeiDnq5S3tJx",
        "outputId": "b7eeb0d8-aa09-4e06-b8b6-811135604323"
      },
      "outputs": [
        {
          "name": "stdout",
          "output_type": "stream",
          "text": [
            "Accuracy & Loss for Train & Validation Datasets:\n"
          ]
        },
        {
          "data": {
            "image/png": "[encoded data removed]",
            "text/plain": [
              "<Figure size 1800x500 with 2 Axes>"
            ]
          },
          "metadata": {},
          "output_type": "display_data"
        },
        {
          "name": "stdout",
          "output_type": "stream",
          "text": [
            "Training Accuracy and BSR over Epochs:\n"
          ]
        },
        {
          "data": {
            "image/png": "[encoded data removed]",
            "text/plain": [
              "<Figure size 640x480 with 1 Axes>"
            ]
          },
          "metadata": {},
          "output_type": "display_data"
        }
      ],
      "source": [
        "plt.figure(figsize=(18, 5))\n",
        "\n",
        "print(f'Accuracy & Loss for Train & Validation Datasets:')\n",
        "plt.subplot(1, 2, 1)\n",
        "plt.plot(range(1, config['epochs']+1), train_losses, label='Training Loss')\n",
        "plt.plot(range(1, config['epochs']+1), val_losses, label='Validation Loss')\n",
        "plt.xlabel('Epochs')\n",
        "plt.ylabel('Loss')\n",
        "plt.ylim(0, max(max(train_losses), max(val_losses)) * 1.1)\n",
        "plt.legend()\n",
        "plt.title('Loss vs. Epochs')\n",
        "\n",
        "plt.subplot(1, 2, 2)\n",
        "plt.plot(range(1, config['epochs']+1), train_accuracies, label='Training Accuracy')\n",
        "plt.plot(range(1, config['epochs']+1), val_accuracies, label='Validation Accuracy')\n",
        "plt.xlabel('Epochs')\n",
        "plt.ylabel('Accuracy (%)')\n",
        "plt.ylim(0, 100)\n",
        "plt.legend()\n",
        "plt.title('Accuracy vs. Epochs')\n",
        "plt.show()\n",
        "\n",
        "print(f'Training Accuracy and BSR over Epochs:')\n",
        "plt.plot(train_accuracies, label='Accuracy')\n",
        "plt.plot(bsr_results, label='BSR', color='orange')\n",
        "plt.xlabel('Epoch')\n",
        "plt.ylabel('Rate (%)')\n",
        "plt.ylim(0, 100)\n",
        "plt.title('Accuracy vs. BSR')\n",
        "plt.legend()\n",
        "plt.show()\n"
      ]
    }
  ],
  "metadata": {
    "accelerator": "GPU",
    "colab": {
      "gpuType": "T4",
      "provenance": []
    },
    "kernelspec": {
      "display_name": "Python 3",
      "name": "python3"
    },
    "language_info": {
      "codemirror_mode": {
        "name": "ipython",
        "version": 3
      },
      "file_extension": ".py",
      "mimetype": "text/x-python",
      "name": "python",
      "nbconvert_exporter": "python",
      "pygments_lexer": "ipython3",
      "version": "3.9.7"
    }
  },
  "nbformat": 4,
  "nbformat_minor": 0
}
