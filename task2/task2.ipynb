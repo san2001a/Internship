{
  "cells": [
    {
      "cell_type": "code",
      "execution_count": 1,
      "metadata": {
        "id": "VyZ-2j374jRo"
      },
      "outputs": [],
      "source": [
        "import torch\n",
        "import torch.nn as nn\n",
        "import torch.optim as optim\n",
        "import torchvision\n",
        "import torchvision.transforms as transforms\n",
        "from torch.utils.data import DataLoader, random_split\n",
        "import numpy as np\n",
        "from torchvision.datasets import CIFAR10\n",
        "import matplotlib.pyplot as plt\n",
        "import os\n",
        "import certifi\n",
        "import json"
      ]
    },
    {
      "cell_type": "code",
      "execution_count": 2,
      "metadata": {
        "id": "KvVb3BEO4jRq"
      },
      "outputs": [],
      "source": [
        "os.environ['SSL_CERT_FILE'] = certifi.where()"
      ]
    },
    {
      "cell_type": "markdown",
      "metadata": {
        "id": "WEDIuycH4jRq"
      },
      "source": [
        "data augmentation and normalization for training"
      ]
    },
    {
      "cell_type": "code",
      "execution_count": 3,
      "metadata": {
        "id": "5mvBVkJi4jRr"
      },
      "outputs": [],
      "source": [
        "transform_train = transforms.Compose([\n",
        "    transforms.RandomCrop(32, padding=4),\n",
        "    transforms.RandomHorizontalFlip(),\n",
        "    transforms.ToTensor(),\n",
        "    transforms.Normalize((0.4914, 0.4822, 0.4465), (0.2023, 0.1994, 0.2010)),\n",
        "])"
      ]
    },
    {
      "cell_type": "markdown",
      "metadata": {
        "id": "pUiLcgDE4jRr"
      },
      "source": [
        "data normalization for testing"
      ]
    },
    {
      "cell_type": "code",
      "execution_count": 4,
      "metadata": {
        "id": "7YfFKCZr4jRr"
      },
      "outputs": [],
      "source": [
        "transform_test = transforms.Compose([\n",
        "    transforms.ToTensor(),\n",
        "    transforms.Normalize((0.4914, 0.4822, 0.4465), (0.2023, 0.1994, 0.2010)),\n",
        "])"
      ]
    },
    {
      "cell_type": "markdown",
      "metadata": {
        "id": "mAp3jKUR4jRr"
      },
      "source": [
        "load dataset"
      ]
    },
    {
      "cell_type": "code",
      "execution_count": 5,
      "metadata": {
        "colab": {
          "base_uri": "https://localhost:8080/"
        },
        "id": "Tfw2Dedk4jRs",
        "outputId": "3a488047-1479-4b2a-f3f9-19c08fa2fb24"
      },
      "outputs": [
        {
          "output_type": "stream",
          "name": "stdout",
          "text": [
            "Downloading https://www.cs.toronto.edu/~kriz/cifar-10-python.tar.gz to ./data_cifar/cifar-10-python.tar.gz\n"
          ]
        },
        {
          "output_type": "stream",
          "name": "stderr",
          "text": [
            "100%|██████████| 170498071/170498071 [00:03<00:00, 47833046.65it/s]\n"
          ]
        },
        {
          "output_type": "stream",
          "name": "stdout",
          "text": [
            "Extracting ./data_cifar/cifar-10-python.tar.gz to ./data_cifar/\n",
            "Files already downloaded and verified\n"
          ]
        }
      ],
      "source": [
        "data_path = './data_cifar/'\n",
        "cifar10_train = CIFAR10(data_path, train=True, download=True, transform=transform_train)\n",
        "cifar10_test = CIFAR10(data_path, train=False, download=True, transform=transform_test)"
      ]
    },
    {
      "cell_type": "markdown",
      "metadata": {
        "id": "OcTNuSkS4jRs"
      },
      "source": [
        "split trainset to train an validation sets"
      ]
    },
    {
      "cell_type": "code",
      "execution_count": 6,
      "metadata": {
        "id": "Vt47K6L04jRs"
      },
      "outputs": [],
      "source": [
        "train_size = int(0.9 * len(cifar10_train))\n",
        "val_size = len(cifar10_train) - train_size\n",
        "train_dataset, val_dataset = random_split(cifar10_train, [train_size, val_size])"
      ]
    },
    {
      "cell_type": "markdown",
      "metadata": {
        "id": "onze4dTn4jRt"
      },
      "source": [
        "define dataloaders"
      ]
    },
    {
      "cell_type": "code",
      "execution_count": 7,
      "metadata": {
        "id": "10JE-EY14jRt"
      },
      "outputs": [],
      "source": [
        "batch_size = 128\n",
        "trainloader = DataLoader(train_dataset, batch_size=batch_size, shuffle=True)\n",
        "valloader = DataLoader(val_dataset, batch_size=batch_size, shuffle=True)\n",
        "testloader = DataLoader(cifar10_test, batch_size=batch_size, shuffle=False)"
      ]
    },
    {
      "cell_type": "markdown",
      "metadata": {
        "id": "8630xMJx4jRt"
      },
      "source": [
        "define model"
      ]
    },
    {
      "cell_type": "code",
      "execution_count": 8,
      "metadata": {
        "id": "5TzvHMTN4jRt"
      },
      "outputs": [],
      "source": [
        "class VGG(nn.Module):\n",
        "    def __init__(self):\n",
        "        super(VGG, self).__init__()\n",
        "        self.features = nn.Sequential(\n",
        "            nn.Conv2d(3, 64, kernel_size=3, padding=1),\n",
        "            nn.BatchNorm2d(64),\n",
        "            nn.ReLU(inplace=True),\n",
        "            nn.MaxPool2d(kernel_size=2, stride=2),\n",
        "            nn.Conv2d(64, 128, kernel_size=3, padding=1),\n",
        "            nn.BatchNorm2d(128),\n",
        "            nn.ReLU(inplace=True),\n",
        "            nn.MaxPool2d(kernel_size=2, stride=2),\n",
        "            nn.Conv2d(128, 256, kernel_size=3, padding=1),\n",
        "            nn.BatchNorm2d(256),\n",
        "            nn.ReLU(inplace=True),\n",
        "            nn.Conv2d(256, 256, kernel_size=3, padding=1),\n",
        "            nn.BatchNorm2d(256),\n",
        "            nn.ReLU(inplace=True),\n",
        "            nn.MaxPool2d(kernel_size=2, stride=2),\n",
        "            nn.Conv2d(256, 512, kernel_size=3, padding=1),\n",
        "            nn.BatchNorm2d(512),\n",
        "            nn.ReLU(inplace=True),\n",
        "            nn.Conv2d(512, 512, kernel_size=3, padding=1),\n",
        "            nn.BatchNorm2d(512),\n",
        "            nn.ReLU(inplace=True),\n",
        "            nn.MaxPool2d(kernel_size=2, stride=2),\n",
        "            nn.Conv2d(512, 512, kernel_size=3, padding=1),\n",
        "            nn.BatchNorm2d(512),\n",
        "            nn.ReLU(inplace=True),\n",
        "            nn.Conv2d(512, 512, kernel_size=3, padding=1),\n",
        "            nn.BatchNorm2d(512),\n",
        "            nn.ReLU(inplace=True),\n",
        "            nn.MaxPool2d(kernel_size=2, stride=2),\n",
        "        )\n",
        "        self.classifier = nn.Sequential(\n",
        "            nn.Linear(512 * 1 * 1, 512),\n",
        "            nn.ReLU(inplace=True),\n",
        "            nn.Dropout(),\n",
        "            nn.Linear(512, 10),\n",
        "        )\n",
        "\n",
        "    def forward(self, x):\n",
        "        x = self.features(x)\n",
        "        x = torch.flatten(x, 1)\n",
        "        x = self.classifier(x)\n",
        "        return x"
      ]
    },
    {
      "cell_type": "markdown",
      "metadata": {
        "id": "VxyGxlmp4jRt"
      },
      "source": [
        "initialize the model, loss function, and optimizer"
      ]
    },
    {
      "cell_type": "code",
      "execution_count": 9,
      "metadata": {
        "id": "cvKE_L2t4jRt"
      },
      "outputs": [],
      "source": [
        "device = torch.device(\"cuda\" if torch.cuda.is_available() else \"cpu\")\n",
        "model = VGG().to(device)\n",
        "criterion = nn.CrossEntropyLoss()\n",
        "optimizer = optim.SGD(model.parameters(), lr=0.01, momentum=0.9, weight_decay=5e-4)"
      ]
    },
    {
      "cell_type": "markdown",
      "metadata": {
        "id": "SYF11NlT4jRt"
      },
      "source": [
        "training function"
      ]
    },
    {
      "cell_type": "code",
      "execution_count": 10,
      "metadata": {
        "id": "Khu3mZr74jRt"
      },
      "outputs": [],
      "source": [
        "def train(model, train_loader, criterion, optimizer, epoch, device):\n",
        "    model.train()\n",
        "    running_loss = 0.0\n",
        "    correct = 0\n",
        "    total = 0\n",
        "    for i, (inputs, labels) in enumerate(train_loader):\n",
        "        inputs, labels = inputs.to(device), labels.to(device)\n",
        "        optimizer.zero_grad()\n",
        "        outputs = model(inputs)\n",
        "        loss = criterion(outputs, labels)\n",
        "        loss.backward()\n",
        "        optimizer.step()\n",
        "        running_loss += loss.item()\n",
        "        _, predicted = torch.max(outputs.data, 1)\n",
        "        total += labels.size(0)\n",
        "        correct += (predicted == labels).sum().item()\n",
        "    accuracy = 100 * correct / total\n",
        "    average_loss = running_loss / len(train_loader)\n",
        "    return average_loss, accuracy"
      ]
    },
    {
      "cell_type": "markdown",
      "metadata": {
        "id": "NId_6MFM4jRt"
      },
      "source": [
        "evaluate function"
      ]
    },
    {
      "cell_type": "code",
      "execution_count": 11,
      "metadata": {
        "id": "794AT-804jRt"
      },
      "outputs": [],
      "source": [
        "def evaluate(model, data_loader, criterion, device):\n",
        "    model.eval()\n",
        "    correct = 0\n",
        "    total = 0\n",
        "    running_loss = 0.0\n",
        "    with torch.no_grad():\n",
        "        for inputs, labels in data_loader:\n",
        "            inputs, labels = inputs.to(device), labels.to(device)\n",
        "            outputs = model(inputs)\n",
        "            loss = criterion(outputs, labels)\n",
        "            running_loss += loss.item()\n",
        "            _, predicted = torch.max(outputs.data, 1)\n",
        "            total += labels.size(0)\n",
        "            correct += (predicted == labels).sum().item()\n",
        "    accuracy = 100 * correct / total\n",
        "    average_loss = running_loss / len(data_loader)\n",
        "    return average_loss, accuracy"
      ]
    },
    {
      "cell_type": "markdown",
      "metadata": {
        "id": "GBOLGEXlyID6"
      },
      "source": [
        "create directory for saving model"
      ]
    },
    {
      "cell_type": "code",
      "execution_count": 12,
      "metadata": {
        "id": "HwfQPqD6yE74"
      },
      "outputs": [],
      "source": [
        "os.makedirs('./model_checkpoints', exist_ok=True)"
      ]
    },
    {
      "cell_type": "markdown",
      "metadata": {
        "id": "p5fL9wRjyNAi"
      },
      "source": [
        "save configurations"
      ]
    },
    {
      "cell_type": "code",
      "execution_count": 25,
      "metadata": {
        "id": "v32MHyzqyB79"
      },
      "outputs": [],
      "source": [
        "config = {\n",
        "    \"batch_size\": 128,\n",
        "    \"learning_rate\": 0.001,\n",
        "    \"epochs\": 50,\n",
        "    \"transform_train\": str(transform_train),\n",
        "    \"transform_test\": str(transform_test),\n",
        "    \"device\": str(device)\n",
        "}\n",
        "with open('./model_checkpoints/config.json', 'w') as f:\n",
        "    json.dump(config, f, indent=4)"
      ]
    },
    {
      "cell_type": "markdown",
      "metadata": {
        "id": "xX3QlCYAmwOB"
      },
      "source": [
        "training phase"
      ]
    },
    {
      "cell_type": "code",
      "execution_count": 27,
      "metadata": {
        "colab": {
          "base_uri": "https://localhost:8080/"
        },
        "id": "c1GjFaZb4jRu",
        "outputId": "317187ec-9c7a-4287-9815-f4c18a9a394c"
      },
      "outputs": [
        {
          "output_type": "stream",
          "name": "stdout",
          "text": [
            "Epoch [1/50]:\n",
            "Train Loss: 0.5527, Train Accuracy: 81.15%\n",
            "Validation Loss: 0.5644, Validation Accuracy: 80.48%\n",
            "Epoch [2/50]:\n",
            "Train Loss: 0.5219, Train Accuracy: 82.17%\n",
            "Validation Loss: 0.5896, Validation Accuracy: 80.03%\n",
            "Epoch [3/50]:\n",
            "Train Loss: 0.4961, Train Accuracy: 83.04%\n",
            "Validation Loss: 0.5386, Validation Accuracy: 81.85%\n",
            "Epoch [4/50]:\n",
            "Train Loss: 0.4623, Train Accuracy: 84.19%\n",
            "Validation Loss: 0.5751, Validation Accuracy: 80.47%\n",
            "Epoch [5/50]:\n",
            "Train Loss: 0.4376, Train Accuracy: 85.15%\n",
            "Validation Loss: 0.5123, Validation Accuracy: 82.75%\n",
            "Epoch [6/50]:\n",
            "Train Loss: 0.4139, Train Accuracy: 85.76%\n",
            "Validation Loss: 0.4850, Validation Accuracy: 84.03%\n",
            "Epoch [7/50]:\n",
            "Train Loss: 0.4001, Train Accuracy: 86.29%\n",
            "Validation Loss: 0.5004, Validation Accuracy: 82.77%\n",
            "Epoch [8/50]:\n",
            "Train Loss: 0.3774, Train Accuracy: 87.25%\n",
            "Validation Loss: 0.6086, Validation Accuracy: 80.49%\n",
            "Epoch [9/50]:\n",
            "Train Loss: 0.3619, Train Accuracy: 87.58%\n",
            "Validation Loss: 0.5243, Validation Accuracy: 82.72%\n",
            "Epoch [10/50]:\n",
            "Train Loss: 0.3474, Train Accuracy: 88.08%\n",
            "Validation Loss: 0.5827, Validation Accuracy: 81.77%\n",
            "Epoch [11/50]:\n",
            "Train Loss: 0.3371, Train Accuracy: 88.54%\n",
            "Validation Loss: 0.4672, Validation Accuracy: 84.63%\n",
            "Epoch [12/50]:\n",
            "Train Loss: 0.3220, Train Accuracy: 89.02%\n",
            "Validation Loss: 0.4931, Validation Accuracy: 83.91%\n",
            "Epoch [13/50]:\n",
            "Train Loss: 0.3087, Train Accuracy: 89.34%\n",
            "Validation Loss: 0.4418, Validation Accuracy: 85.44%\n",
            "Epoch [14/50]:\n",
            "Train Loss: 0.2891, Train Accuracy: 90.09%\n",
            "Validation Loss: 0.4417, Validation Accuracy: 85.70%\n",
            "Epoch [15/50]:\n",
            "Train Loss: 0.2863, Train Accuracy: 90.30%\n",
            "Validation Loss: 0.4431, Validation Accuracy: 85.48%\n",
            "Epoch [16/50]:\n",
            "Train Loss: 0.2721, Train Accuracy: 90.68%\n",
            "Validation Loss: 0.5051, Validation Accuracy: 83.86%\n",
            "Epoch [17/50]:\n",
            "Train Loss: 0.2669, Train Accuracy: 90.78%\n",
            "Validation Loss: 0.4612, Validation Accuracy: 85.59%\n",
            "Epoch [18/50]:\n",
            "Train Loss: 0.2493, Train Accuracy: 91.46%\n",
            "Validation Loss: 0.4671, Validation Accuracy: 85.98%\n",
            "Epoch [19/50]:\n",
            "Train Loss: 0.2530, Train Accuracy: 91.28%\n",
            "Validation Loss: 0.4990, Validation Accuracy: 84.74%\n",
            "Epoch [20/50]:\n",
            "Train Loss: 0.2377, Train Accuracy: 91.82%\n",
            "Validation Loss: 0.4630, Validation Accuracy: 85.45%\n",
            "Epoch [21/50]:\n",
            "Train Loss: 0.2285, Train Accuracy: 92.11%\n",
            "Validation Loss: 0.4307, Validation Accuracy: 86.19%\n",
            "Epoch [22/50]:\n",
            "Train Loss: 0.2215, Train Accuracy: 92.30%\n",
            "Validation Loss: 0.4193, Validation Accuracy: 87.09%\n",
            "Epoch [23/50]:\n",
            "Train Loss: 0.2187, Train Accuracy: 92.46%\n",
            "Validation Loss: 0.4320, Validation Accuracy: 86.13%\n",
            "Epoch [24/50]:\n",
            "Train Loss: 0.2109, Train Accuracy: 92.82%\n",
            "Validation Loss: 0.4198, Validation Accuracy: 86.81%\n",
            "Epoch [25/50]:\n",
            "Train Loss: 0.2014, Train Accuracy: 93.11%\n",
            "Validation Loss: 0.4450, Validation Accuracy: 86.42%\n",
            "Epoch [26/50]:\n",
            "Train Loss: 0.2003, Train Accuracy: 93.21%\n",
            "Validation Loss: 0.4280, Validation Accuracy: 86.52%\n",
            "Epoch [27/50]:\n",
            "Train Loss: 0.1926, Train Accuracy: 93.38%\n",
            "Validation Loss: 0.4105, Validation Accuracy: 87.42%\n",
            "Epoch [28/50]:\n",
            "Train Loss: 0.1863, Train Accuracy: 93.63%\n",
            "Validation Loss: 0.4405, Validation Accuracy: 86.73%\n",
            "Epoch [29/50]:\n",
            "Train Loss: 0.1777, Train Accuracy: 93.97%\n",
            "Validation Loss: 0.4533, Validation Accuracy: 86.46%\n",
            "Epoch [30/50]:\n",
            "Train Loss: 0.1818, Train Accuracy: 93.76%\n",
            "Validation Loss: 0.4278, Validation Accuracy: 87.37%\n",
            "Epoch [31/50]:\n",
            "Train Loss: 0.1744, Train Accuracy: 93.98%\n",
            "Validation Loss: 0.4090, Validation Accuracy: 87.65%\n",
            "Epoch [32/50]:\n",
            "Train Loss: 0.1649, Train Accuracy: 94.28%\n",
            "Validation Loss: 0.4088, Validation Accuracy: 87.85%\n",
            "Epoch [33/50]:\n",
            "Train Loss: 0.1593, Train Accuracy: 94.52%\n",
            "Validation Loss: 0.4646, Validation Accuracy: 86.32%\n",
            "Epoch [34/50]:\n",
            "Train Loss: 0.1558, Train Accuracy: 94.68%\n",
            "Validation Loss: 0.4085, Validation Accuracy: 87.86%\n",
            "Epoch [35/50]:\n",
            "Train Loss: 0.1526, Train Accuracy: 94.67%\n",
            "Validation Loss: 0.4515, Validation Accuracy: 87.23%\n",
            "Epoch [36/50]:\n",
            "Train Loss: 0.1481, Train Accuracy: 94.92%\n",
            "Validation Loss: 0.4952, Validation Accuracy: 86.68%\n",
            "Epoch [37/50]:\n",
            "Train Loss: 0.1495, Train Accuracy: 94.81%\n",
            "Validation Loss: 0.4094, Validation Accuracy: 88.07%\n",
            "Epoch [38/50]:\n",
            "Train Loss: 0.1436, Train Accuracy: 94.99%\n",
            "Validation Loss: 0.4429, Validation Accuracy: 87.28%\n",
            "Epoch [39/50]:\n",
            "Train Loss: 0.1417, Train Accuracy: 95.11%\n",
            "Validation Loss: 0.4075, Validation Accuracy: 88.36%\n",
            "Epoch [40/50]:\n",
            "Train Loss: 0.1315, Train Accuracy: 95.49%\n",
            "Validation Loss: 0.4251, Validation Accuracy: 88.12%\n",
            "Epoch [41/50]:\n",
            "Train Loss: 0.1330, Train Accuracy: 95.39%\n",
            "Validation Loss: 0.4373, Validation Accuracy: 87.66%\n",
            "Epoch [42/50]:\n",
            "Train Loss: 0.1356, Train Accuracy: 95.25%\n",
            "Validation Loss: 0.4417, Validation Accuracy: 87.16%\n",
            "Epoch [43/50]:\n",
            "Train Loss: 0.1320, Train Accuracy: 95.51%\n",
            "Validation Loss: 0.4417, Validation Accuracy: 87.08%\n",
            "Epoch [44/50]:\n",
            "Train Loss: 0.1291, Train Accuracy: 95.59%\n",
            "Validation Loss: 0.4152, Validation Accuracy: 87.92%\n",
            "Epoch [45/50]:\n",
            "Train Loss: 0.1230, Train Accuracy: 95.78%\n",
            "Validation Loss: 0.4627, Validation Accuracy: 87.37%\n",
            "Epoch [46/50]:\n",
            "Train Loss: 0.1214, Train Accuracy: 95.90%\n",
            "Validation Loss: 0.5112, Validation Accuracy: 85.71%\n",
            "Epoch [47/50]:\n",
            "Train Loss: 0.1206, Train Accuracy: 95.94%\n",
            "Validation Loss: 0.4155, Validation Accuracy: 87.92%\n",
            "Epoch [48/50]:\n",
            "Train Loss: 0.1131, Train Accuracy: 96.13%\n",
            "Validation Loss: 0.3996, Validation Accuracy: 88.63%\n",
            "Epoch [49/50]:\n",
            "Train Loss: 0.1196, Train Accuracy: 95.97%\n",
            "Validation Loss: 0.4665, Validation Accuracy: 86.94%\n",
            "Epoch [50/50]:\n",
            "Train Loss: 0.1186, Train Accuracy: 96.05%\n",
            "Validation Loss: 0.4759, Validation Accuracy: 86.64%\n"
          ]
        }
      ],
      "source": [
        "train_losses = []\n",
        "train_accuracies = []\n",
        "val_losses = []\n",
        "val_accuracies = []\n",
        "best_val_accuracy = 0\n",
        "\n",
        "for epoch in range(config['epochs']):\n",
        "    train_loss, train_accuracy = train(model, trainloader, criterion, optimizer, epoch, device)\n",
        "    val_loss, val_accuracy = evaluate(model, testloader, criterion, device)\n",
        "\n",
        "    train_losses.append(train_loss)\n",
        "    train_accuracies.append(train_accuracy)\n",
        "    val_losses.append(val_loss)\n",
        "    val_accuracies.append(val_accuracy)\n",
        "\n",
        "    print(f'Epoch [{epoch+1}/{config[\"epochs\"]}]:')\n",
        "    print(f'Train Loss: {train_loss:.4f}, Train Accuracy: {train_accuracy:.2f}%')\n",
        "    print(f'Validation Loss: {val_loss:.4f}, Validation Accuracy: {val_accuracy:.2f}%')\n",
        "\n",
        "    torch.save(model.state_dict(), f'./model_checkpoints/model_epoch_{epoch+1}.pth')\n",
        "\n",
        "    if val_accuracy > best_val_accuracy:\n",
        "        best_val_accuracy = val_accuracy\n",
        "        torch.save(model.state_dict(), './model_checkpoints/best_model.pth')"
      ]
    },
    {
      "cell_type": "markdown",
      "metadata": {
        "id": "vqvWcLL6nFGy"
      },
      "source": [
        "test phase"
      ]
    },
    {
      "cell_type": "code",
      "execution_count": 28,
      "metadata": {
        "colab": {
          "base_uri": "https://localhost:8080/"
        },
        "id": "QuliYst-nERG",
        "outputId": "b5de7c73-0d87-44cd-c326-4fbf248a2ac1"
      },
      "outputs": [
        {
          "output_type": "stream",
          "name": "stdout",
          "text": [
            "Test Loss: 0.4759 Test Accuracy: 86.64%\n"
          ]
        }
      ],
      "source": [
        "test_loss, test_accuracy = evaluate(model, testloader, criterion, device)\n",
        "print(f'Test Loss: {test_loss:.4f}',\n",
        "      f'Test Accuracy: {test_accuracy:.2f}%')"
      ]
    },
    {
      "cell_type": "markdown",
      "metadata": {
        "id": "1A06ZEUnnNbK"
      },
      "source": [
        "plotting"
      ]
    },
    {
      "cell_type": "code",
      "execution_count": 29,
      "metadata": {
        "colab": {
          "base_uri": "https://localhost:8080/",
          "height": 487
        },
        "id": "NeiDnq5S3tJx",
        "outputId": "589afde8-2dec-4102-a5ce-058d3fbc7d02"
      },
      "outputs": [
        {
          "output_type": "display_data",
          "data": {
            "text/plain": [
              "<Figure size 1800x500 with 2 Axes>"
            ],
            "image/png": "[encoded data removed]"
          },
          "metadata": {}
        }
      ],
      "source": [
        "plt.figure(figsize=(18, 5))\n",
        "\n",
        "plt.subplot(1, 2, 1)\n",
        "plt.plot(range(1, config['epochs']+1), train_losses, label='Training Loss')\n",
        "plt.plot(range(1, config['epochs']+1), val_losses, label='Validation Loss')\n",
        "plt.xlabel('Epochs')\n",
        "plt.ylabel('Loss')\n",
        "plt.legend()\n",
        "plt.title('Loss vs. Epochs')\n",
        "\n",
        "plt.subplot(1, 2, 2)\n",
        "plt.plot(range(1, config['epochs']+1), train_accuracies, label='Training Accuracy')\n",
        "plt.plot(range(1, config['epochs']+1), val_accuracies, label='Validation Accuracy')\n",
        "plt.xlabel('Epochs')\n",
        "plt.ylabel('Accuracy')\n",
        "plt.legend()\n",
        "plt.title('Accuracy vs. Epochs')\n",
        "\n",
        "plt.show()"
      ]
    },
    {
      "cell_type": "markdown",
      "metadata": {
        "id": "fcqyyJpc9w4s"
      },
      "source": [
        "download saved files"
      ]
    },
    {
      "cell_type": "code",
      "execution_count": null,
      "metadata": {
        "id": "acZGYwSN95k9"
      },
      "outputs": [],
      "source": [
        "from google.colab import files"
      ]
    },
    {
      "cell_type": "code",
      "execution_count": null,
      "metadata": {
        "colab": {
          "base_uri": "https://localhost:8080/"
        },
        "id": "ict9xwwZ9B1i",
        "outputId": "273eaf50-461a-44f2-99c6-c4afc47b0329"
      },
      "outputs": [
        {
          "name": "stdout",
          "output_type": "stream",
          "text": [
            "/content\n"
          ]
        }
      ],
      "source": [
        "%cd /content"
      ]
    },
    {
      "cell_type": "code",
      "execution_count": null,
      "metadata": {
        "colab": {
          "base_uri": "https://localhost:8080/"
        },
        "id": "C8N6Xs729mNY",
        "outputId": "7c7e8331-bbc4-41b9-d42a-21200d7e9d17"
      },
      "outputs": [
        {
          "name": "stdout",
          "output_type": "stream",
          "text": [
            "  adding: model_checkpoints/ (stored 0%)\n",
            "  adding: model_checkpoints/model_epoch_15.pth (deflated 7%)\n",
            "  adding: model_checkpoints/model_epoch_17.pth (deflated 7%)\n",
            "  adding: model_checkpoints/model_epoch_38.pth (deflated 7%)\n",
            "  adding: model_checkpoints/model_epoch_45.pth (deflated 7%)\n",
            "  adding: model_checkpoints/model_epoch_18.pth (deflated 7%)\n",
            "  adding: model_checkpoints/model_epoch_31.pth (deflated 7%)\n",
            "  adding: model_checkpoints/model_epoch_21.pth (deflated 7%)\n",
            "  adding: model_checkpoints/best_model.pth (deflated 7%)\n",
            "  adding: model_checkpoints/model_epoch_50.pth (deflated 7%)\n",
            "  adding: model_checkpoints/model_epoch_2.pth (deflated 8%)\n",
            "  adding: model_checkpoints/model_epoch_47.pth (deflated 7%)\n",
            "  adding: model_checkpoints/final_model.pth (deflated 7%)\n",
            "  adding: model_checkpoints/model_epoch_7.pth (deflated 8%)\n",
            "  adding: model_checkpoints/model_epoch_40.pth (deflated 7%)\n",
            "  adding: model_checkpoints/model_epoch_12.pth (deflated 7%)\n",
            "  adding: model_checkpoints/model_epoch_46.pth (deflated 7%)\n",
            "  adding: model_checkpoints/model_epoch_43.pth (deflated 7%)\n",
            "  adding: model_checkpoints/model_epoch_10.pth (deflated 8%)\n",
            "  adding: model_checkpoints/model_epoch_41.pth (deflated 7%)\n",
            "  adding: model_checkpoints/model_epoch_37.pth (deflated 7%)\n",
            "  adding: model_checkpoints/model_epoch_42.pth (deflated 7%)\n",
            "  adding: model_checkpoints/model_epoch_22.pth (deflated 7%)\n",
            "  adding: model_checkpoints/model_epoch_44.pth (deflated 7%)\n",
            "  adding: model_checkpoints/model_epoch_4.pth (deflated 8%)\n",
            "  adding: model_checkpoints/model_epoch_34.pth (deflated 7%)\n",
            "  adding: model_checkpoints/model_epoch_13.pth (deflated 7%)\n",
            "  adding: model_checkpoints/model_epoch_28.pth (deflated 7%)\n",
            "  adding: model_checkpoints/model_epoch_32.pth (deflated 7%)\n",
            "  adding: model_checkpoints/model_epoch_25.pth (deflated 7%)\n",
            "  adding: model_checkpoints/model_epoch_35.pth (deflated 7%)\n",
            "  adding: model_checkpoints/model_epoch_16.pth (deflated 7%)\n",
            "  adding: model_checkpoints/model_epoch_30.pth (deflated 7%)\n",
            "  adding: model_checkpoints/model_epoch_36.pth (deflated 7%)\n",
            "  adding: model_checkpoints/model_epoch_24.pth (deflated 7%)\n",
            "  adding: model_checkpoints/model_epoch_39.pth (deflated 7%)\n",
            "  adding: model_checkpoints/model_epoch_19.pth (deflated 7%)\n",
            "  adding: model_checkpoints/model_epoch_49.pth (deflated 7%)\n",
            "  adding: model_checkpoints/model_epoch_8.pth (deflated 8%)\n",
            "  adding: model_checkpoints/model_epoch_14.pth (deflated 7%)\n",
            "  adding: model_checkpoints/model_epoch_33.pth (deflated 7%)\n",
            "  adding: model_checkpoints/model_epoch_11.pth (deflated 8%)\n",
            "  adding: model_checkpoints/model_epoch_29.pth (deflated 7%)\n",
            "  adding: model_checkpoints/model_epoch_26.pth (deflated 7%)\n",
            "  adding: model_checkpoints/model_epoch_20.pth (deflated 7%)\n",
            "  adding: model_checkpoints/model_epoch_27.pth (deflated 7%)\n",
            "  adding: model_checkpoints/model_epoch_23.pth (deflated 7%)\n",
            "  adding: model_checkpoints/model_epoch_48.pth (deflated 7%)\n",
            "  adding: model_checkpoints/model_epoch_9.pth (deflated 8%)\n",
            "  adding: model_checkpoints/model_epoch_3.pth (deflated 8%)\n",
            "  adding: model_checkpoints/model_epoch_6.pth (deflated 8%)\n",
            "  adding: model_checkpoints/model_epoch_5.pth (deflated 8%)\n",
            "  adding: model_checkpoints/model_epoch_1.pth (deflated 8%)\n",
            "  adding: model_checkpoints/config.json (deflated 48%)\n"
          ]
        }
      ],
      "source": [
        "!zip -r model_checkpoints.zip model_checkpoints/"
      ]
    },
    {
      "cell_type": "code",
      "execution_count": null,
      "metadata": {
        "colab": {
          "base_uri": "https://localhost:8080/",
          "height": 34
        },
        "id": "5Qa9pNhd-T55",
        "outputId": "a969ca69-9a45-400f-a184-0414582434c6"
      },
      "outputs": [
        {
          "data": {
            "application/javascript": "\n    async function download(id, filename, size) {\n      if (!google.colab.kernel.accessAllowed) {\n        return;\n      }\n      const div = document.createElement('div');\n      const label = document.createElement('label');\n      label.textContent = `Downloading \"${filename}\": `;\n      div.appendChild(label);\n      const progress = document.createElement('progress');\n      progress.max = size;\n      div.appendChild(progress);\n      document.body.appendChild(div);\n\n      const buffers = [];\n      let downloaded = 0;\n\n      const channel = await google.colab.kernel.comms.open(id);\n      // Send a message to notify the kernel that we're ready.\n      channel.send({})\n\n      for await (const message of channel.messages) {\n        // Send a message to notify the kernel that we're ready.\n        channel.send({})\n        if (message.buffers) {\n          for (const buffer of message.buffers) {\n            buffers.push(buffer);\n            downloaded += buffer.byteLength;\n            progress.value = downloaded;\n          }\n        }\n      }\n      const blob = new Blob(buffers, {type: 'application/binary'});\n      const a = document.createElement('a');\n      a.href = window.URL.createObjectURL(blob);\n      a.download = filename;\n      div.appendChild(a);\n      a.click();\n      div.remove();\n    }\n  ",
            "text/plain": [
              "<IPython.core.display.Javascript object>"
            ]
          },
          "metadata": {},
          "output_type": "display_data"
        },
        {
          "data": {
            "application/javascript": "download(\"download_a0d8e194-b74d-4986-9c2a-438e5603acb9\", \"model_checkpoints.zip\", 1829541440)",
            "text/plain": [
              "<IPython.core.display.Javascript object>"
            ]
          },
          "metadata": {},
          "output_type": "display_data"
        }
      ],
      "source": [
        "files.download('model_checkpoints.zip')"
      ]
    }
  ],
  "metadata": {
    "accelerator": "GPU",
    "colab": {
      "gpuType": "T4",
      "provenance": []
    },
    "kernelspec": {
      "display_name": "Python 3",
      "name": "python3"
    },
    "language_info": {
      "codemirror_mode": {
        "name": "ipython",
        "version": 3
      },
      "file_extension": ".py",
      "mimetype": "text/x-python",
      "name": "python",
      "nbconvert_exporter": "python",
      "pygments_lexer": "ipython3",
      "version": "3.11.0"
    }
  },
  "nbformat": 4,
  "nbformat_minor": 0
}