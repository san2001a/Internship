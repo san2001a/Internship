{
  "cells": [
    {
      "cell_type": "code",
      "source": [
        "!pip install torchview"
      ],
      "metadata": {
        "colab": {
          "base_uri": "https://localhost:8080/"
        },
        "id": "WprXVOOE_wl2",
        "outputId": "ab3637a9-daf0-470f-864d-d02fa18928aa"
      },
      "execution_count": 1,
      "outputs": [
        {
          "output_type": "stream",
          "name": "stdout",
          "text": [
            "Collecting torchview\n",
            "  Downloading torchview-0.2.6-py3-none-any.whl.metadata (12 kB)\n",
            "Downloading torchview-0.2.6-py3-none-any.whl (25 kB)\n",
            "Installing collected packages: torchview\n",
            "Successfully installed torchview-0.2.6\n"
          ]
        }
      ]
    },
    {
      "cell_type": "code",
      "execution_count": 19,
      "metadata": {
        "id": "VyZ-2j374jRo"
      },
      "outputs": [],
      "source": [
        "import torch\n",
        "import torch.nn as nn\n",
        "import torch.optim as optim\n",
        "import torchvision\n",
        "import torchvision.transforms as transforms\n",
        "from torch.utils.data import DataLoader, random_split\n",
        "import numpy as np\n",
        "from torchvision.datasets import CIFAR10\n",
        "import matplotlib.pyplot as plt\n",
        "import os\n",
        "import certifi\n",
        "import json\n",
        "import torchvision\n",
        "from torchview import draw_graph\n",
        "from torchsummary import summary"
      ]
    },
    {
      "cell_type": "code",
      "execution_count": 3,
      "metadata": {
        "id": "KvVb3BEO4jRq"
      },
      "outputs": [],
      "source": [
        "os.environ['SSL_CERT_FILE'] = certifi.where()"
      ]
    },
    {
      "cell_type": "markdown",
      "metadata": {
        "id": "WEDIuycH4jRq"
      },
      "source": [
        "data augmentation and normalization for training"
      ]
    },
    {
      "cell_type": "code",
      "execution_count": 4,
      "metadata": {
        "id": "5mvBVkJi4jRr"
      },
      "outputs": [],
      "source": [
        "transform_train = transforms.Compose([\n",
        "    transforms.RandomCrop(32, padding=4),\n",
        "    transforms.RandomHorizontalFlip(),\n",
        "    transforms.ToTensor(),\n",
        "    transforms.Normalize((0.4914, 0.4822, 0.4465), (0.2023, 0.1994, 0.2010)),\n",
        "])"
      ]
    },
    {
      "cell_type": "markdown",
      "metadata": {
        "id": "pUiLcgDE4jRr"
      },
      "source": [
        "data normalization for testing"
      ]
    },
    {
      "cell_type": "code",
      "execution_count": 5,
      "metadata": {
        "id": "7YfFKCZr4jRr"
      },
      "outputs": [],
      "source": [
        "transform_test = transforms.Compose([\n",
        "    transforms.ToTensor(),\n",
        "    transforms.Normalize((0.4914, 0.4822, 0.4465), (0.2023, 0.1994, 0.2010)),\n",
        "])"
      ]
    },
    {
      "cell_type": "markdown",
      "metadata": {
        "id": "mAp3jKUR4jRr"
      },
      "source": [
        "load dataset"
      ]
    },
    {
      "cell_type": "code",
      "execution_count": 6,
      "metadata": {
        "colab": {
          "base_uri": "https://localhost:8080/"
        },
        "id": "Tfw2Dedk4jRs",
        "outputId": "e520581c-c2ee-485b-90c4-f8436d97182d"
      },
      "outputs": [
        {
          "output_type": "stream",
          "name": "stdout",
          "text": [
            "Downloading https://www.cs.toronto.edu/~kriz/cifar-10-python.tar.gz to ./data_cifar/cifar-10-python.tar.gz\n"
          ]
        },
        {
          "output_type": "stream",
          "name": "stderr",
          "text": [
            "100%|██████████| 170498071/170498071 [00:12<00:00, 13519956.79it/s]\n"
          ]
        },
        {
          "output_type": "stream",
          "name": "stdout",
          "text": [
            "Extracting ./data_cifar/cifar-10-python.tar.gz to ./data_cifar/\n",
            "Files already downloaded and verified\n"
          ]
        }
      ],
      "source": [
        "data_path = './data_cifar/'\n",
        "cifar10_train = CIFAR10(data_path, train=True, download=True, transform=transform_train)\n",
        "cifar10_test = CIFAR10(data_path, train=False, download=True, transform=transform_test)"
      ]
    },
    {
      "cell_type": "markdown",
      "metadata": {
        "id": "OcTNuSkS4jRs"
      },
      "source": [
        "split trainset to train an validation sets"
      ]
    },
    {
      "cell_type": "code",
      "execution_count": 7,
      "metadata": {
        "id": "Vt47K6L04jRs"
      },
      "outputs": [],
      "source": [
        "train_size = int(0.9 * len(cifar10_train))\n",
        "val_size = len(cifar10_train) - train_size\n",
        "train_dataset, val_dataset = random_split(cifar10_train, [train_size, val_size])"
      ]
    },
    {
      "cell_type": "markdown",
      "metadata": {
        "id": "onze4dTn4jRt"
      },
      "source": [
        "define dataloaders"
      ]
    },
    {
      "cell_type": "code",
      "execution_count": 8,
      "metadata": {
        "id": "10JE-EY14jRt"
      },
      "outputs": [],
      "source": [
        "batch_size = 128\n",
        "trainloader = DataLoader(train_dataset, batch_size=batch_size, shuffle=True)\n",
        "valloader = DataLoader(val_dataset, batch_size=batch_size, shuffle=True)\n",
        "testloader = DataLoader(cifar10_test, batch_size=batch_size, shuffle=False)"
      ]
    },
    {
      "cell_type": "markdown",
      "metadata": {
        "id": "8630xMJx4jRt"
      },
      "source": [
        "define model"
      ]
    },
    {
      "cell_type": "code",
      "execution_count": 9,
      "metadata": {
        "id": "5TzvHMTN4jRt"
      },
      "outputs": [],
      "source": [
        "class VGG(nn.Module):\n",
        "    def __init__(self):\n",
        "        super(VGG, self).__init__()\n",
        "        self.features = nn.Sequential(\n",
        "            nn.Conv2d(3, 64, kernel_size=3, padding=1),\n",
        "            nn.BatchNorm2d(64),\n",
        "            nn.ReLU(inplace=True),\n",
        "            nn.MaxPool2d(kernel_size=2, stride=2),\n",
        "            nn.Conv2d(64, 128, kernel_size=3, padding=1),\n",
        "            nn.BatchNorm2d(128),\n",
        "            nn.ReLU(inplace=True),\n",
        "            nn.MaxPool2d(kernel_size=2, stride=2),\n",
        "            nn.Conv2d(128, 256, kernel_size=3, padding=1),\n",
        "            nn.BatchNorm2d(256),\n",
        "            nn.ReLU(inplace=True),\n",
        "            nn.Conv2d(256, 256, kernel_size=3, padding=1),\n",
        "            nn.BatchNorm2d(256),\n",
        "            nn.ReLU(inplace=True),\n",
        "            nn.MaxPool2d(kernel_size=2, stride=2),\n",
        "            nn.Conv2d(256, 512, kernel_size=3, padding=1),\n",
        "            nn.BatchNorm2d(512),\n",
        "            nn.ReLU(inplace=True),\n",
        "            nn.Conv2d(512, 512, kernel_size=3, padding=1),\n",
        "            nn.BatchNorm2d(512),\n",
        "            nn.ReLU(inplace=True),\n",
        "            nn.MaxPool2d(kernel_size=2, stride=2),\n",
        "            nn.Conv2d(512, 512, kernel_size=3, padding=1),\n",
        "            nn.BatchNorm2d(512),\n",
        "            nn.ReLU(inplace=True),\n",
        "            nn.Conv2d(512, 512, kernel_size=3, padding=1),\n",
        "            nn.BatchNorm2d(512),\n",
        "            nn.ReLU(inplace=True),\n",
        "            nn.MaxPool2d(kernel_size=2, stride=2),\n",
        "        )\n",
        "        self.classifier = nn.Sequential(\n",
        "            nn.Linear(512 * 1 * 1, 512),\n",
        "            nn.ReLU(inplace=True),\n",
        "            nn.Dropout(),\n",
        "            nn.Linear(512, 10),\n",
        "        )\n",
        "\n",
        "    def forward(self, x):\n",
        "        x = self.features(x)\n",
        "        x = torch.flatten(x, 1)\n",
        "        x = self.classifier(x)\n",
        "        return x"
      ]
    },
    {
      "cell_type": "markdown",
      "metadata": {
        "id": "VxyGxlmp4jRt"
      },
      "source": [
        "initialize the model, loss function, and optimizer"
      ]
    },
    {
      "cell_type": "code",
      "execution_count": 10,
      "metadata": {
        "id": "cvKE_L2t4jRt"
      },
      "outputs": [],
      "source": [
        "device = torch.device(\"cuda\" if torch.cuda.is_available() else \"cpu\")\n",
        "model = VGG().to(device)\n",
        "criterion = nn.CrossEntropyLoss()\n",
        "optimizer = optim.SGD(model.parameters(), lr=0.01, momentum=0.9, weight_decay=5e-4)"
      ]
    },
    {
      "cell_type": "markdown",
      "metadata": {
        "id": "SYF11NlT4jRt"
      },
      "source": [
        "training function"
      ]
    },
    {
      "cell_type": "code",
      "execution_count": 11,
      "metadata": {
        "id": "Khu3mZr74jRt"
      },
      "outputs": [],
      "source": [
        "def train(model, train_loader, criterion, optimizer, epoch, device):\n",
        "    model.train()\n",
        "    running_loss = 0.0\n",
        "    correct = 0\n",
        "    total = 0\n",
        "    for i, (inputs, labels) in enumerate(train_loader):\n",
        "        inputs, labels = inputs.to(device), labels.to(device)\n",
        "        optimizer.zero_grad()\n",
        "        outputs = model(inputs)\n",
        "        loss = criterion(outputs, labels)\n",
        "        loss.backward()\n",
        "        optimizer.step()\n",
        "        running_loss += loss.item()\n",
        "        _, predicted = torch.max(outputs.data, 1)\n",
        "        total += labels.size(0)\n",
        "        correct += (predicted == labels).sum().item()\n",
        "    accuracy = 100 * correct / total\n",
        "    average_loss = running_loss / len(train_loader)\n",
        "    return average_loss, accuracy"
      ]
    },
    {
      "cell_type": "markdown",
      "metadata": {
        "id": "NId_6MFM4jRt"
      },
      "source": [
        "evaluate function"
      ]
    },
    {
      "cell_type": "code",
      "execution_count": 12,
      "metadata": {
        "id": "794AT-804jRt"
      },
      "outputs": [],
      "source": [
        "def evaluate(model, data_loader, criterion, device):\n",
        "    model.eval()\n",
        "    correct = 0\n",
        "    total = 0\n",
        "    running_loss = 0.0\n",
        "    with torch.no_grad():\n",
        "        for inputs, labels in data_loader:\n",
        "            inputs, labels = inputs.to(device), labels.to(device)\n",
        "            outputs = model(inputs)\n",
        "            loss = criterion(outputs, labels)\n",
        "            running_loss += loss.item()\n",
        "            _, predicted = torch.max(outputs.data, 1)\n",
        "            total += labels.size(0)\n",
        "            correct += (predicted == labels).sum().item()\n",
        "    accuracy = 100 * correct / total\n",
        "    average_loss = running_loss / len(data_loader)\n",
        "    return average_loss, accuracy"
      ]
    },
    {
      "cell_type": "markdown",
      "metadata": {
        "id": "GBOLGEXlyID6"
      },
      "source": [
        "create directory for saving model"
      ]
    },
    {
      "cell_type": "code",
      "execution_count": 13,
      "metadata": {
        "id": "HwfQPqD6yE74"
      },
      "outputs": [],
      "source": [
        "os.makedirs('./model_checkpoints', exist_ok=True)"
      ]
    },
    {
      "cell_type": "markdown",
      "metadata": {
        "id": "p5fL9wRjyNAi"
      },
      "source": [
        "save configurations"
      ]
    },
    {
      "cell_type": "code",
      "execution_count": 14,
      "metadata": {
        "id": "v32MHyzqyB79"
      },
      "outputs": [],
      "source": [
        "config = {\n",
        "    \"batch_size\": 128,\n",
        "    \"learning_rate\": 0.001,\n",
        "    \"epochs\": 50,\n",
        "    \"transform_train\": str(transform_train),\n",
        "    \"transform_test\": str(transform_test),\n",
        "    \"device\": str(device)\n",
        "}\n",
        "with open('./model_checkpoints/config.json', 'w') as f:\n",
        "    json.dump(config, f, indent=4)"
      ]
    },
    {
      "cell_type": "markdown",
      "metadata": {
        "id": "xX3QlCYAmwOB"
      },
      "source": [
        "training phase"
      ]
    },
    {
      "cell_type": "code",
      "execution_count": 15,
      "metadata": {
        "colab": {
          "base_uri": "https://localhost:8080/"
        },
        "id": "c1GjFaZb4jRu",
        "outputId": "7a843ded-530f-4ff2-95a0-86af81a01837"
      },
      "outputs": [
        {
          "output_type": "stream",
          "name": "stdout",
          "text": [
            "Epoch [1/50]:\n",
            "Train Loss: 1.4569, Train Accuracy: 46.51%\n",
            "Validation Loss: 1.1986, Validation Accuracy: 57.73%\n",
            "Epoch [2/50]:\n",
            "Train Loss: 1.0475, Train Accuracy: 63.11%\n",
            "Validation Loss: 0.9644, Validation Accuracy: 65.04%\n",
            "Epoch [3/50]:\n",
            "Train Loss: 0.8678, Train Accuracy: 69.92%\n",
            "Validation Loss: 0.9072, Validation Accuracy: 68.61%\n",
            "Epoch [4/50]:\n",
            "Train Loss: 0.7519, Train Accuracy: 74.20%\n",
            "Validation Loss: 0.7001, Validation Accuracy: 76.30%\n",
            "Epoch [5/50]:\n",
            "Train Loss: 0.6774, Train Accuracy: 76.69%\n",
            "Validation Loss: 0.7057, Validation Accuracy: 76.08%\n",
            "Epoch [6/50]:\n",
            "Train Loss: 0.6184, Train Accuracy: 78.70%\n",
            "Validation Loss: 0.7597, Validation Accuracy: 74.27%\n",
            "Epoch [7/50]:\n",
            "Train Loss: 0.5775, Train Accuracy: 80.29%\n",
            "Validation Loss: 0.6191, Validation Accuracy: 78.81%\n",
            "Epoch [8/50]:\n",
            "Train Loss: 0.5389, Train Accuracy: 81.72%\n",
            "Validation Loss: 0.6250, Validation Accuracy: 79.28%\n",
            "Epoch [9/50]:\n",
            "Train Loss: 0.4999, Train Accuracy: 83.13%\n",
            "Validation Loss: 0.6007, Validation Accuracy: 79.66%\n",
            "Epoch [10/50]:\n",
            "Train Loss: 0.4713, Train Accuracy: 83.70%\n",
            "Validation Loss: 0.5265, Validation Accuracy: 82.59%\n",
            "Epoch [11/50]:\n",
            "Train Loss: 0.4447, Train Accuracy: 84.82%\n",
            "Validation Loss: 0.5322, Validation Accuracy: 82.48%\n",
            "Epoch [12/50]:\n",
            "Train Loss: 0.4334, Train Accuracy: 85.25%\n",
            "Validation Loss: 0.5032, Validation Accuracy: 82.99%\n",
            "Epoch [13/50]:\n",
            "Train Loss: 0.4059, Train Accuracy: 86.19%\n",
            "Validation Loss: 0.4881, Validation Accuracy: 83.34%\n",
            "Epoch [14/50]:\n",
            "Train Loss: 0.3841, Train Accuracy: 86.88%\n",
            "Validation Loss: 0.4541, Validation Accuracy: 84.81%\n",
            "Epoch [15/50]:\n",
            "Train Loss: 0.3670, Train Accuracy: 87.46%\n",
            "Validation Loss: 0.5054, Validation Accuracy: 82.89%\n",
            "Epoch [16/50]:\n",
            "Train Loss: 0.3521, Train Accuracy: 87.75%\n",
            "Validation Loss: 0.4715, Validation Accuracy: 84.39%\n",
            "Epoch [17/50]:\n",
            "Train Loss: 0.3365, Train Accuracy: 88.67%\n",
            "Validation Loss: 0.4795, Validation Accuracy: 84.73%\n",
            "Epoch [18/50]:\n",
            "Train Loss: 0.3240, Train Accuracy: 88.85%\n",
            "Validation Loss: 0.4208, Validation Accuracy: 86.10%\n",
            "Epoch [19/50]:\n",
            "Train Loss: 0.3164, Train Accuracy: 89.12%\n",
            "Validation Loss: 0.4931, Validation Accuracy: 83.63%\n",
            "Epoch [20/50]:\n",
            "Train Loss: 0.2960, Train Accuracy: 89.95%\n",
            "Validation Loss: 0.4329, Validation Accuracy: 85.83%\n",
            "Epoch [21/50]:\n",
            "Train Loss: 0.2830, Train Accuracy: 90.30%\n",
            "Validation Loss: 0.4643, Validation Accuracy: 84.50%\n",
            "Epoch [22/50]:\n",
            "Train Loss: 0.2795, Train Accuracy: 90.39%\n",
            "Validation Loss: 0.4303, Validation Accuracy: 85.94%\n",
            "Epoch [23/50]:\n",
            "Train Loss: 0.2697, Train Accuracy: 90.86%\n",
            "Validation Loss: 0.4180, Validation Accuracy: 86.34%\n",
            "Epoch [24/50]:\n",
            "Train Loss: 0.2568, Train Accuracy: 91.12%\n",
            "Validation Loss: 0.4407, Validation Accuracy: 86.00%\n",
            "Epoch [25/50]:\n",
            "Train Loss: 0.2509, Train Accuracy: 91.51%\n",
            "Validation Loss: 0.4449, Validation Accuracy: 85.70%\n",
            "Epoch [26/50]:\n",
            "Train Loss: 0.2455, Train Accuracy: 91.56%\n",
            "Validation Loss: 0.4267, Validation Accuracy: 86.79%\n",
            "Epoch [27/50]:\n",
            "Train Loss: 0.2283, Train Accuracy: 92.09%\n",
            "Validation Loss: 0.4645, Validation Accuracy: 85.51%\n",
            "Epoch [28/50]:\n",
            "Train Loss: 0.2353, Train Accuracy: 91.94%\n",
            "Validation Loss: 0.4612, Validation Accuracy: 85.64%\n",
            "Epoch [29/50]:\n",
            "Train Loss: 0.2225, Train Accuracy: 92.39%\n",
            "Validation Loss: 0.4081, Validation Accuracy: 87.01%\n",
            "Epoch [30/50]:\n",
            "Train Loss: 0.2112, Train Accuracy: 92.77%\n",
            "Validation Loss: 0.4202, Validation Accuracy: 86.91%\n",
            "Epoch [31/50]:\n",
            "Train Loss: 0.2041, Train Accuracy: 92.89%\n",
            "Validation Loss: 0.4385, Validation Accuracy: 86.24%\n",
            "Epoch [32/50]:\n",
            "Train Loss: 0.2018, Train Accuracy: 93.17%\n",
            "Validation Loss: 0.4804, Validation Accuracy: 85.50%\n",
            "Epoch [33/50]:\n",
            "Train Loss: 0.1922, Train Accuracy: 93.42%\n",
            "Validation Loss: 0.4770, Validation Accuracy: 85.43%\n",
            "Epoch [34/50]:\n",
            "Train Loss: 0.1859, Train Accuracy: 93.57%\n",
            "Validation Loss: 0.4522, Validation Accuracy: 86.34%\n",
            "Epoch [35/50]:\n",
            "Train Loss: 0.1825, Train Accuracy: 93.75%\n",
            "Validation Loss: 0.4047, Validation Accuracy: 87.75%\n",
            "Epoch [36/50]:\n",
            "Train Loss: 0.1788, Train Accuracy: 93.87%\n",
            "Validation Loss: 0.4247, Validation Accuracy: 86.79%\n",
            "Epoch [37/50]:\n",
            "Train Loss: 0.1717, Train Accuracy: 94.03%\n",
            "Validation Loss: 0.4344, Validation Accuracy: 86.60%\n",
            "Epoch [38/50]:\n",
            "Train Loss: 0.1667, Train Accuracy: 94.20%\n",
            "Validation Loss: 0.5010, Validation Accuracy: 85.71%\n",
            "Epoch [39/50]:\n",
            "Train Loss: 0.1643, Train Accuracy: 94.33%\n",
            "Validation Loss: 0.4418, Validation Accuracy: 87.06%\n",
            "Epoch [40/50]:\n",
            "Train Loss: 0.1608, Train Accuracy: 94.45%\n",
            "Validation Loss: 0.4563, Validation Accuracy: 86.54%\n",
            "Epoch [41/50]:\n",
            "Train Loss: 0.1602, Train Accuracy: 94.49%\n",
            "Validation Loss: 0.4070, Validation Accuracy: 87.42%\n",
            "Epoch [42/50]:\n",
            "Train Loss: 0.1497, Train Accuracy: 94.81%\n",
            "Validation Loss: 0.4070, Validation Accuracy: 87.83%\n",
            "Epoch [43/50]:\n",
            "Train Loss: 0.1479, Train Accuracy: 94.95%\n",
            "Validation Loss: 0.4349, Validation Accuracy: 87.50%\n",
            "Epoch [44/50]:\n",
            "Train Loss: 0.1488, Train Accuracy: 94.95%\n",
            "Validation Loss: 0.4532, Validation Accuracy: 86.84%\n",
            "Epoch [45/50]:\n",
            "Train Loss: 0.1412, Train Accuracy: 95.19%\n",
            "Validation Loss: 0.4479, Validation Accuracy: 86.96%\n",
            "Epoch [46/50]:\n",
            "Train Loss: 0.1424, Train Accuracy: 95.14%\n",
            "Validation Loss: 0.4343, Validation Accuracy: 87.88%\n",
            "Epoch [47/50]:\n",
            "Train Loss: 0.1346, Train Accuracy: 95.38%\n",
            "Validation Loss: 0.4238, Validation Accuracy: 87.76%\n",
            "Epoch [48/50]:\n",
            "Train Loss: 0.1340, Train Accuracy: 95.35%\n",
            "Validation Loss: 0.4226, Validation Accuracy: 87.77%\n",
            "Epoch [49/50]:\n",
            "Train Loss: 0.1315, Train Accuracy: 95.58%\n",
            "Validation Loss: 0.4106, Validation Accuracy: 87.92%\n",
            "Epoch [50/50]:\n",
            "Train Loss: 0.1281, Train Accuracy: 95.57%\n",
            "Validation Loss: 0.4480, Validation Accuracy: 87.23%\n"
          ]
        }
      ],
      "source": [
        "train_losses = []\n",
        "train_accuracies = []\n",
        "val_losses = []\n",
        "val_accuracies = []\n",
        "best_val_accuracy = 0\n",
        "\n",
        "for epoch in range(config['epochs']):\n",
        "    train_loss, train_accuracy = train(model, trainloader, criterion, optimizer, epoch, device)\n",
        "    val_loss, val_accuracy = evaluate(model, testloader, criterion, device)\n",
        "\n",
        "    train_losses.append(train_loss)\n",
        "    train_accuracies.append(train_accuracy)\n",
        "    val_losses.append(val_loss)\n",
        "    val_accuracies.append(val_accuracy)\n",
        "\n",
        "    print(f'Epoch [{epoch+1}/{config[\"epochs\"]}]:')\n",
        "    print(f'Train Loss: {train_loss:.4f}, Train Accuracy: {train_accuracy:.2f}%')\n",
        "    print(f'Validation Loss: {val_loss:.4f}, Validation Accuracy: {val_accuracy:.2f}%')\n",
        "\n",
        "    torch.save(model.state_dict(), f'./model_checkpoints/model_epoch_{epoch+1}.pth')\n",
        "\n",
        "    if val_accuracy > best_val_accuracy:\n",
        "        best_val_accuracy = val_accuracy\n",
        "        torch.save(model.state_dict(), './model_checkpoints/best_model.pth')"
      ]
    },
    {
      "cell_type": "markdown",
      "metadata": {
        "id": "vqvWcLL6nFGy"
      },
      "source": [
        "test phase"
      ]
    },
    {
      "cell_type": "code",
      "execution_count": 16,
      "metadata": {
        "colab": {
          "base_uri": "https://localhost:8080/"
        },
        "id": "QuliYst-nERG",
        "outputId": "0acf6c5a-f640-4915-9bda-42f13cd4e875"
      },
      "outputs": [
        {
          "output_type": "stream",
          "name": "stdout",
          "text": [
            "Test Loss: 0.4480 Test Accuracy: 87.23%\n"
          ]
        }
      ],
      "source": [
        "test_loss, test_accuracy = evaluate(model, testloader, criterion, device)\n",
        "print(f'Test Loss: {test_loss:.4f}',\n",
        "      f'Test Accuracy: {test_accuracy:.2f}%')"
      ]
    },
    {
      "cell_type": "markdown",
      "source": [
        "check details"
      ],
      "metadata": {
        "id": "x4nKXk1X_4po"
      }
    },
    {
      "cell_type": "code",
      "source": [
        "summary(model, (3, 32, 32))"
      ],
      "metadata": {
        "colab": {
          "base_uri": "https://localhost:8080/"
        },
        "id": "qdLziJ-k_8K_",
        "outputId": "f5bb00e0-0832-49b9-d3cd-c4bc2bd6a91e"
      },
      "execution_count": 20,
      "outputs": [
        {
          "output_type": "stream",
          "name": "stdout",
          "text": [
            "----------------------------------------------------------------\n",
            "        Layer (type)               Output Shape         Param #\n",
            "================================================================\n",
            "            Conv2d-1           [-1, 64, 32, 32]           1,792\n",
            "       BatchNorm2d-2           [-1, 64, 32, 32]             128\n",
            "              ReLU-3           [-1, 64, 32, 32]               0\n",
            "         MaxPool2d-4           [-1, 64, 16, 16]               0\n",
            "            Conv2d-5          [-1, 128, 16, 16]          73,856\n",
            "       BatchNorm2d-6          [-1, 128, 16, 16]             256\n",
            "              ReLU-7          [-1, 128, 16, 16]               0\n",
            "         MaxPool2d-8            [-1, 128, 8, 8]               0\n",
            "            Conv2d-9            [-1, 256, 8, 8]         295,168\n",
            "      BatchNorm2d-10            [-1, 256, 8, 8]             512\n",
            "             ReLU-11            [-1, 256, 8, 8]               0\n",
            "           Conv2d-12            [-1, 256, 8, 8]         590,080\n",
            "      BatchNorm2d-13            [-1, 256, 8, 8]             512\n",
            "             ReLU-14            [-1, 256, 8, 8]               0\n",
            "        MaxPool2d-15            [-1, 256, 4, 4]               0\n",
            "           Conv2d-16            [-1, 512, 4, 4]       1,180,160\n",
            "      BatchNorm2d-17            [-1, 512, 4, 4]           1,024\n",
            "             ReLU-18            [-1, 512, 4, 4]               0\n",
            "           Conv2d-19            [-1, 512, 4, 4]       2,359,808\n",
            "      BatchNorm2d-20            [-1, 512, 4, 4]           1,024\n",
            "             ReLU-21            [-1, 512, 4, 4]               0\n",
            "        MaxPool2d-22            [-1, 512, 2, 2]               0\n",
            "           Conv2d-23            [-1, 512, 2, 2]       2,359,808\n",
            "      BatchNorm2d-24            [-1, 512, 2, 2]           1,024\n",
            "             ReLU-25            [-1, 512, 2, 2]               0\n",
            "           Conv2d-26            [-1, 512, 2, 2]       2,359,808\n",
            "      BatchNorm2d-27            [-1, 512, 2, 2]           1,024\n",
            "             ReLU-28            [-1, 512, 2, 2]               0\n",
            "        MaxPool2d-29            [-1, 512, 1, 1]               0\n",
            "           Linear-30                  [-1, 512]         262,656\n",
            "             ReLU-31                  [-1, 512]               0\n",
            "          Dropout-32                  [-1, 512]               0\n",
            "           Linear-33                   [-1, 10]           5,130\n",
            "================================================================\n",
            "Total params: 9,493,770\n",
            "Trainable params: 9,493,770\n",
            "Non-trainable params: 0\n",
            "----------------------------------------------------------------\n",
            "Input size (MB): 0.01\n",
            "Forward/backward pass size (MB): 3.72\n",
            "Params size (MB): 36.22\n",
            "Estimated Total Size (MB): 39.95\n",
            "----------------------------------------------------------------\n"
          ]
        }
      ]
    },
    {
      "cell_type": "code",
      "source": [
        "model_graph = draw_graph(model, input_size=(1,3,32,32), expand_nested=True)\n",
        "model_graph.visual_graph"
      ],
      "metadata": {
        "colab": {
          "base_uri": "https://localhost:8080/",
          "height": 1000
        },
        "id": "swESkcfd_9ES",
        "outputId": "95d479c0-975d-4456-e8bc-b235410c462b"
      },
      "execution_count": 21,
      "outputs": [
        {
          "output_type": "execute_result",
          "data": {
            "image/svg+xml": "<?xml version=\"1.0\" encoding=\"UTF-8\" standalone=\"no\"?>\n<!DOCTYPE svg PUBLIC \"-//W3C//DTD SVG 1.1//EN\"\n \"http://www.w3.org/Graphics/SVG/1.1/DTD/svg11.dtd\">\n<!-- Generated by graphviz version 2.43.0 (0)\n -->\n<!-- Title: model Pages: 1 -->\n<svg width=\"174pt\" height=\"1663pt\"\n viewBox=\"0.00 0.00 173.60 1663.00\" xmlns=\"http://www.w3.org/2000/svg\" xmlns:xlink=\"http://www.w3.org/1999/xlink\">\n<g id=\"graph0\" class=\"graph\" transform=\"scale(0.6 0.6) rotate(0) translate(4 2774)\">\n<title>model</title>\n<polygon fill=\"white\" stroke=\"transparent\" points=\"-4,4 -4,-2774 286,-2774 286,4 -4,4\"/>\n<g id=\"clust1\" class=\"cluster\">\n<title>cluster_2</title>\n<polygon fill=\"none\" stroke=\"black\" stroke-dasharray=\"5,2\" points=\"8,-467 8,-2730 274,-2730 274,-467 8,-467\"/>\n<text text-anchor=\"middle\" x=\"41\" y=\"-2716.4\" font-family=\"Times,serif\" font-size=\"12.00\">Sequential</text>\n</g>\n<g id=\"clust2\" class=\"cluster\">\n<title>cluster_3</title>\n<polygon fill=\"none\" stroke=\"black\" stroke-dasharray=\"5,2\" points=\"45,-8 45,-389 237,-389 237,-8 45,-8\"/>\n<text text-anchor=\"middle\" x=\"78\" y=\"-375.4\" font-family=\"Times,serif\" font-size=\"12.00\">Sequential</text>\n</g>\n<!-- 0 -->\n<g id=\"node1\" class=\"node\">\n<title>0</title>\n<polygon fill=\"lightyellow\" stroke=\"transparent\" points=\"230,-2770 52,-2770 52,-2738 230,-2738 230,-2770\"/>\n<polygon fill=\"none\" stroke=\"black\" points=\"52,-2738 52,-2770 135,-2770 135,-2738 52,-2738\"/>\n<text text-anchor=\"start\" x=\"57\" y=\"-2757\" font-family=\"Linux libertine\" font-size=\"10.00\">input&#45;tensor</text>\n<text text-anchor=\"start\" x=\"72\" y=\"-2746\" font-family=\"Linux libertine\" font-size=\"10.00\">depth:0</text>\n<polygon fill=\"none\" stroke=\"black\" points=\"135,-2738 135,-2770 230,-2770 230,-2738 135,-2738\"/>\n<text text-anchor=\"start\" x=\"140\" y=\"-2751.5\" font-family=\"Linux libertine\" font-size=\"10.00\">(1, 3, 32, 32)</text>\n</g>\n<!-- 1 -->\n<g id=\"node2\" class=\"node\">\n<title>1</title>\n<polygon fill=\"#c1ffc1\" stroke=\"transparent\" points=\"250.5,-2701 31.5,-2701 31.5,-2659 250.5,-2659 250.5,-2701\"/>\n<polygon fill=\"none\" stroke=\"black\" points=\"32,-2659 32,-2701 85,-2701 85,-2659 32,-2659\"/>\n<text text-anchor=\"start\" x=\"40\" y=\"-2683\" font-family=\"Linux libertine\" font-size=\"10.00\">Conv2d</text>\n<text text-anchor=\"start\" x=\"37\" y=\"-2672\" font-family=\"Linux libertine\" font-size=\"10.00\">depth:2</text>\n<polygon fill=\"none\" stroke=\"black\" points=\"85,-2680 85,-2701 144,-2701 144,-2680 85,-2680\"/>\n<text text-anchor=\"start\" x=\"96\" y=\"-2688\" font-family=\"Linux libertine\" font-size=\"10.00\">input:</text>\n<polygon fill=\"none\" stroke=\"black\" points=\"144,-2680 144,-2701 251,-2701 251,-2680 144,-2680\"/>\n<text text-anchor=\"start\" x=\"152\" y=\"-2688\" font-family=\"Linux libertine\" font-size=\"10.00\">(1, 3, 32, 32) </text>\n<polygon fill=\"none\" stroke=\"black\" points=\"85,-2659 85,-2680 144,-2680 144,-2659 85,-2659\"/>\n<text text-anchor=\"start\" x=\"90\" y=\"-2667\" font-family=\"Linux libertine\" font-size=\"10.00\">output: </text>\n<polygon fill=\"none\" stroke=\"black\" points=\"144,-2659 144,-2680 251,-2680 251,-2659 144,-2659\"/>\n<text text-anchor=\"start\" x=\"149\" y=\"-2667\" font-family=\"Linux libertine\" font-size=\"10.00\">(1, 64, 32, 32) </text>\n</g>\n<!-- 0&#45;&gt;1 -->\n<g id=\"edge1\" class=\"edge\">\n<title>0&#45;&gt;1</title>\n<path fill=\"none\" stroke=\"black\" d=\"M141,-2737.73C141,-2730.08 141,-2720.52 141,-2711.45\"/>\n<polygon fill=\"black\" stroke=\"black\" points=\"144.5,-2711.17 141,-2701.17 137.5,-2711.17 144.5,-2711.17\"/>\n</g>\n<!-- 2 -->\n<g id=\"node3\" class=\"node\">\n<title>2</title>\n<polygon fill=\"#c1ffc1\" stroke=\"transparent\" points=\"262.5,-2623 19.5,-2623 19.5,-2581 262.5,-2581 262.5,-2623\"/>\n<polygon fill=\"none\" stroke=\"black\" points=\"20,-2581 20,-2623 97,-2623 97,-2581 20,-2581\"/>\n<text text-anchor=\"start\" x=\"25\" y=\"-2605\" font-family=\"Linux libertine\" font-size=\"10.00\">BatchNorm2d</text>\n<text text-anchor=\"start\" x=\"37\" y=\"-2594\" font-family=\"Linux libertine\" font-size=\"10.00\">depth:2</text>\n<polygon fill=\"none\" stroke=\"black\" points=\"97,-2602 97,-2623 156,-2623 156,-2602 97,-2602\"/>\n<text text-anchor=\"start\" x=\"108\" y=\"-2610\" font-family=\"Linux libertine\" font-size=\"10.00\">input:</text>\n<polygon fill=\"none\" stroke=\"black\" points=\"156,-2602 156,-2623 263,-2623 263,-2602 156,-2602\"/>\n<text text-anchor=\"start\" x=\"161\" y=\"-2610\" font-family=\"Linux libertine\" font-size=\"10.00\">(1, 64, 32, 32) </text>\n<polygon fill=\"none\" stroke=\"black\" points=\"97,-2581 97,-2602 156,-2602 156,-2581 97,-2581\"/>\n<text text-anchor=\"start\" x=\"102\" y=\"-2589\" font-family=\"Linux libertine\" font-size=\"10.00\">output: </text>\n<polygon fill=\"none\" stroke=\"black\" points=\"156,-2581 156,-2602 263,-2602 263,-2581 156,-2581\"/>\n<text text-anchor=\"start\" x=\"161\" y=\"-2589\" font-family=\"Linux libertine\" font-size=\"10.00\">(1, 64, 32, 32) </text>\n</g>\n<!-- 1&#45;&gt;2 -->\n<g id=\"edge2\" class=\"edge\">\n<title>1&#45;&gt;2</title>\n<path fill=\"none\" stroke=\"black\" d=\"M141,-2658.63C141,-2650.82 141,-2641.73 141,-2633.18\"/>\n<polygon fill=\"black\" stroke=\"black\" points=\"144.5,-2633.16 141,-2623.16 137.5,-2633.16 144.5,-2633.16\"/>\n</g>\n<!-- 3 -->\n<g id=\"node4\" class=\"node\">\n<title>3</title>\n<polygon fill=\"#c1ffc1\" stroke=\"transparent\" points=\"250.5,-2545 31.5,-2545 31.5,-2503 250.5,-2503 250.5,-2545\"/>\n<polygon fill=\"none\" stroke=\"black\" points=\"32,-2503 32,-2545 85,-2545 85,-2503 32,-2503\"/>\n<text text-anchor=\"start\" x=\"46\" y=\"-2527\" font-family=\"Linux libertine\" font-size=\"10.00\">ReLU</text>\n<text text-anchor=\"start\" x=\"37\" y=\"-2516\" font-family=\"Linux libertine\" font-size=\"10.00\">depth:2</text>\n<polygon fill=\"none\" stroke=\"black\" points=\"85,-2524 85,-2545 144,-2545 144,-2524 85,-2524\"/>\n<text text-anchor=\"start\" x=\"96\" y=\"-2532\" font-family=\"Linux libertine\" font-size=\"10.00\">input:</text>\n<polygon fill=\"none\" stroke=\"black\" points=\"144,-2524 144,-2545 251,-2545 251,-2524 144,-2524\"/>\n<text text-anchor=\"start\" x=\"149\" y=\"-2532\" font-family=\"Linux libertine\" font-size=\"10.00\">(1, 64, 32, 32) </text>\n<polygon fill=\"none\" stroke=\"black\" points=\"85,-2503 85,-2524 144,-2524 144,-2503 85,-2503\"/>\n<text text-anchor=\"start\" x=\"90\" y=\"-2511\" font-family=\"Linux libertine\" font-size=\"10.00\">output: </text>\n<polygon fill=\"none\" stroke=\"black\" points=\"144,-2503 144,-2524 251,-2524 251,-2503 144,-2503\"/>\n<text text-anchor=\"start\" x=\"149\" y=\"-2511\" font-family=\"Linux libertine\" font-size=\"10.00\">(1, 64, 32, 32) </text>\n</g>\n<!-- 2&#45;&gt;3 -->\n<g id=\"edge3\" class=\"edge\">\n<title>2&#45;&gt;3</title>\n<path fill=\"none\" stroke=\"black\" d=\"M141,-2580.63C141,-2572.82 141,-2563.73 141,-2555.18\"/>\n<polygon fill=\"black\" stroke=\"black\" points=\"144.5,-2555.16 141,-2545.16 137.5,-2555.16 144.5,-2555.16\"/>\n</g>\n<!-- 4 -->\n<g id=\"node5\" class=\"node\">\n<title>4</title>\n<polygon fill=\"#c1ffc1\" stroke=\"transparent\" points=\"256.5,-2467 25.5,-2467 25.5,-2425 256.5,-2425 256.5,-2467\"/>\n<polygon fill=\"none\" stroke=\"black\" points=\"26,-2425 26,-2467 91,-2467 91,-2425 26,-2425\"/>\n<text text-anchor=\"start\" x=\"31\" y=\"-2449\" font-family=\"Linux libertine\" font-size=\"10.00\">MaxPool2d</text>\n<text text-anchor=\"start\" x=\"37\" y=\"-2438\" font-family=\"Linux libertine\" font-size=\"10.00\">depth:2</text>\n<polygon fill=\"none\" stroke=\"black\" points=\"91,-2446 91,-2467 150,-2467 150,-2446 91,-2446\"/>\n<text text-anchor=\"start\" x=\"102\" y=\"-2454\" font-family=\"Linux libertine\" font-size=\"10.00\">input:</text>\n<polygon fill=\"none\" stroke=\"black\" points=\"150,-2446 150,-2467 257,-2467 257,-2446 150,-2446\"/>\n<text text-anchor=\"start\" x=\"155\" y=\"-2454\" font-family=\"Linux libertine\" font-size=\"10.00\">(1, 64, 32, 32) </text>\n<polygon fill=\"none\" stroke=\"black\" points=\"91,-2425 91,-2446 150,-2446 150,-2425 91,-2425\"/>\n<text text-anchor=\"start\" x=\"96\" y=\"-2433\" font-family=\"Linux libertine\" font-size=\"10.00\">output: </text>\n<polygon fill=\"none\" stroke=\"black\" points=\"150,-2425 150,-2446 257,-2446 257,-2425 150,-2425\"/>\n<text text-anchor=\"start\" x=\"155\" y=\"-2433\" font-family=\"Linux libertine\" font-size=\"10.00\">(1, 64, 16, 16) </text>\n</g>\n<!-- 3&#45;&gt;4 -->\n<g id=\"edge4\" class=\"edge\">\n<title>3&#45;&gt;4</title>\n<path fill=\"none\" stroke=\"black\" d=\"M141,-2502.63C141,-2494.82 141,-2485.73 141,-2477.18\"/>\n<polygon fill=\"black\" stroke=\"black\" points=\"144.5,-2477.16 141,-2467.16 137.5,-2477.16 144.5,-2477.16\"/>\n</g>\n<!-- 5 -->\n<g id=\"node6\" class=\"node\">\n<title>5</title>\n<polygon fill=\"#c1ffc1\" stroke=\"transparent\" points=\"253.5,-2389 28.5,-2389 28.5,-2347 253.5,-2347 253.5,-2389\"/>\n<polygon fill=\"none\" stroke=\"black\" points=\"29,-2347 29,-2389 82,-2389 82,-2347 29,-2347\"/>\n<text text-anchor=\"start\" x=\"37\" y=\"-2371\" font-family=\"Linux libertine\" font-size=\"10.00\">Conv2d</text>\n<text text-anchor=\"start\" x=\"34\" y=\"-2360\" font-family=\"Linux libertine\" font-size=\"10.00\">depth:2</text>\n<polygon fill=\"none\" stroke=\"black\" points=\"82,-2368 82,-2389 141,-2389 141,-2368 82,-2368\"/>\n<text text-anchor=\"start\" x=\"93\" y=\"-2376\" font-family=\"Linux libertine\" font-size=\"10.00\">input:</text>\n<polygon fill=\"none\" stroke=\"black\" points=\"141,-2368 141,-2389 254,-2389 254,-2368 141,-2368\"/>\n<text text-anchor=\"start\" x=\"149\" y=\"-2376\" font-family=\"Linux libertine\" font-size=\"10.00\">(1, 64, 16, 16) </text>\n<polygon fill=\"none\" stroke=\"black\" points=\"82,-2347 82,-2368 141,-2368 141,-2347 82,-2347\"/>\n<text text-anchor=\"start\" x=\"87\" y=\"-2355\" font-family=\"Linux libertine\" font-size=\"10.00\">output: </text>\n<polygon fill=\"none\" stroke=\"black\" points=\"141,-2347 141,-2368 254,-2368 254,-2347 141,-2347\"/>\n<text text-anchor=\"start\" x=\"146\" y=\"-2355\" font-family=\"Linux libertine\" font-size=\"10.00\">(1, 128, 16, 16) </text>\n</g>\n<!-- 4&#45;&gt;5 -->\n<g id=\"edge5\" class=\"edge\">\n<title>4&#45;&gt;5</title>\n<path fill=\"none\" stroke=\"black\" d=\"M141,-2424.63C141,-2416.82 141,-2407.73 141,-2399.18\"/>\n<polygon fill=\"black\" stroke=\"black\" points=\"144.5,-2399.16 141,-2389.16 137.5,-2399.16 144.5,-2399.16\"/>\n</g>\n<!-- 6 -->\n<g id=\"node7\" class=\"node\">\n<title>6</title>\n<polygon fill=\"#c1ffc1\" stroke=\"transparent\" points=\"265.5,-2311 16.5,-2311 16.5,-2269 265.5,-2269 265.5,-2311\"/>\n<polygon fill=\"none\" stroke=\"black\" points=\"17,-2269 17,-2311 94,-2311 94,-2269 17,-2269\"/>\n<text text-anchor=\"start\" x=\"22\" y=\"-2293\" font-family=\"Linux libertine\" font-size=\"10.00\">BatchNorm2d</text>\n<text text-anchor=\"start\" x=\"34\" y=\"-2282\" font-family=\"Linux libertine\" font-size=\"10.00\">depth:2</text>\n<polygon fill=\"none\" stroke=\"black\" points=\"94,-2290 94,-2311 153,-2311 153,-2290 94,-2290\"/>\n<text text-anchor=\"start\" x=\"105\" y=\"-2298\" font-family=\"Linux libertine\" font-size=\"10.00\">input:</text>\n<polygon fill=\"none\" stroke=\"black\" points=\"153,-2290 153,-2311 266,-2311 266,-2290 153,-2290\"/>\n<text text-anchor=\"start\" x=\"158\" y=\"-2298\" font-family=\"Linux libertine\" font-size=\"10.00\">(1, 128, 16, 16) </text>\n<polygon fill=\"none\" stroke=\"black\" points=\"94,-2269 94,-2290 153,-2290 153,-2269 94,-2269\"/>\n<text text-anchor=\"start\" x=\"99\" y=\"-2277\" font-family=\"Linux libertine\" font-size=\"10.00\">output: </text>\n<polygon fill=\"none\" stroke=\"black\" points=\"153,-2269 153,-2290 266,-2290 266,-2269 153,-2269\"/>\n<text text-anchor=\"start\" x=\"158\" y=\"-2277\" font-family=\"Linux libertine\" font-size=\"10.00\">(1, 128, 16, 16) </text>\n</g>\n<!-- 5&#45;&gt;6 -->\n<g id=\"edge6\" class=\"edge\">\n<title>5&#45;&gt;6</title>\n<path fill=\"none\" stroke=\"black\" d=\"M141,-2346.63C141,-2338.82 141,-2329.73 141,-2321.18\"/>\n<polygon fill=\"black\" stroke=\"black\" points=\"144.5,-2321.16 141,-2311.16 137.5,-2321.16 144.5,-2321.16\"/>\n</g>\n<!-- 7 -->\n<g id=\"node8\" class=\"node\">\n<title>7</title>\n<polygon fill=\"#c1ffc1\" stroke=\"transparent\" points=\"253.5,-2233 28.5,-2233 28.5,-2191 253.5,-2191 253.5,-2233\"/>\n<polygon fill=\"none\" stroke=\"black\" points=\"29,-2191 29,-2233 82,-2233 82,-2191 29,-2191\"/>\n<text text-anchor=\"start\" x=\"43\" y=\"-2215\" font-family=\"Linux libertine\" font-size=\"10.00\">ReLU</text>\n<text text-anchor=\"start\" x=\"34\" y=\"-2204\" font-family=\"Linux libertine\" font-size=\"10.00\">depth:2</text>\n<polygon fill=\"none\" stroke=\"black\" points=\"82,-2212 82,-2233 141,-2233 141,-2212 82,-2212\"/>\n<text text-anchor=\"start\" x=\"93\" y=\"-2220\" font-family=\"Linux libertine\" font-size=\"10.00\">input:</text>\n<polygon fill=\"none\" stroke=\"black\" points=\"141,-2212 141,-2233 254,-2233 254,-2212 141,-2212\"/>\n<text text-anchor=\"start\" x=\"146\" y=\"-2220\" font-family=\"Linux libertine\" font-size=\"10.00\">(1, 128, 16, 16) </text>\n<polygon fill=\"none\" stroke=\"black\" points=\"82,-2191 82,-2212 141,-2212 141,-2191 82,-2191\"/>\n<text text-anchor=\"start\" x=\"87\" y=\"-2199\" font-family=\"Linux libertine\" font-size=\"10.00\">output: </text>\n<polygon fill=\"none\" stroke=\"black\" points=\"141,-2191 141,-2212 254,-2212 254,-2191 141,-2191\"/>\n<text text-anchor=\"start\" x=\"146\" y=\"-2199\" font-family=\"Linux libertine\" font-size=\"10.00\">(1, 128, 16, 16) </text>\n</g>\n<!-- 6&#45;&gt;7 -->\n<g id=\"edge7\" class=\"edge\">\n<title>6&#45;&gt;7</title>\n<path fill=\"none\" stroke=\"black\" d=\"M141,-2268.63C141,-2260.82 141,-2251.73 141,-2243.18\"/>\n<polygon fill=\"black\" stroke=\"black\" points=\"144.5,-2243.16 141,-2233.16 137.5,-2243.16 144.5,-2243.16\"/>\n</g>\n<!-- 8 -->\n<g id=\"node9\" class=\"node\">\n<title>8</title>\n<polygon fill=\"#c1ffc1\" stroke=\"transparent\" points=\"259.5,-2155 22.5,-2155 22.5,-2113 259.5,-2113 259.5,-2155\"/>\n<polygon fill=\"none\" stroke=\"black\" points=\"23,-2113 23,-2155 88,-2155 88,-2113 23,-2113\"/>\n<text text-anchor=\"start\" x=\"28\" y=\"-2137\" font-family=\"Linux libertine\" font-size=\"10.00\">MaxPool2d</text>\n<text text-anchor=\"start\" x=\"34\" y=\"-2126\" font-family=\"Linux libertine\" font-size=\"10.00\">depth:2</text>\n<polygon fill=\"none\" stroke=\"black\" points=\"88,-2134 88,-2155 147,-2155 147,-2134 88,-2134\"/>\n<text text-anchor=\"start\" x=\"99\" y=\"-2142\" font-family=\"Linux libertine\" font-size=\"10.00\">input:</text>\n<polygon fill=\"none\" stroke=\"black\" points=\"147,-2134 147,-2155 260,-2155 260,-2134 147,-2134\"/>\n<text text-anchor=\"start\" x=\"152\" y=\"-2142\" font-family=\"Linux libertine\" font-size=\"10.00\">(1, 128, 16, 16) </text>\n<polygon fill=\"none\" stroke=\"black\" points=\"88,-2113 88,-2134 147,-2134 147,-2113 88,-2113\"/>\n<text text-anchor=\"start\" x=\"93\" y=\"-2121\" font-family=\"Linux libertine\" font-size=\"10.00\">output: </text>\n<polygon fill=\"none\" stroke=\"black\" points=\"147,-2113 147,-2134 260,-2134 260,-2113 147,-2113\"/>\n<text text-anchor=\"start\" x=\"158\" y=\"-2121\" font-family=\"Linux libertine\" font-size=\"10.00\">(1, 128, 8, 8) </text>\n</g>\n<!-- 7&#45;&gt;8 -->\n<g id=\"edge8\" class=\"edge\">\n<title>7&#45;&gt;8</title>\n<path fill=\"none\" stroke=\"black\" d=\"M141,-2190.63C141,-2182.82 141,-2173.73 141,-2165.18\"/>\n<polygon fill=\"black\" stroke=\"black\" points=\"144.5,-2165.16 141,-2155.16 137.5,-2165.16 144.5,-2165.16\"/>\n</g>\n<!-- 9 -->\n<g id=\"node10\" class=\"node\">\n<title>9</title>\n<polygon fill=\"#c1ffc1\" stroke=\"transparent\" points=\"247.5,-2077 34.5,-2077 34.5,-2035 247.5,-2035 247.5,-2077\"/>\n<polygon fill=\"none\" stroke=\"black\" points=\"35,-2035 35,-2077 88,-2077 88,-2035 35,-2035\"/>\n<text text-anchor=\"start\" x=\"43\" y=\"-2059\" font-family=\"Linux libertine\" font-size=\"10.00\">Conv2d</text>\n<text text-anchor=\"start\" x=\"40\" y=\"-2048\" font-family=\"Linux libertine\" font-size=\"10.00\">depth:2</text>\n<polygon fill=\"none\" stroke=\"black\" points=\"88,-2056 88,-2077 147,-2077 147,-2056 88,-2056\"/>\n<text text-anchor=\"start\" x=\"99\" y=\"-2064\" font-family=\"Linux libertine\" font-size=\"10.00\">input:</text>\n<polygon fill=\"none\" stroke=\"black\" points=\"147,-2056 147,-2077 248,-2077 248,-2056 147,-2056\"/>\n<text text-anchor=\"start\" x=\"152\" y=\"-2064\" font-family=\"Linux libertine\" font-size=\"10.00\">(1, 128, 8, 8) </text>\n<polygon fill=\"none\" stroke=\"black\" points=\"88,-2035 88,-2056 147,-2056 147,-2035 88,-2035\"/>\n<text text-anchor=\"start\" x=\"93\" y=\"-2043\" font-family=\"Linux libertine\" font-size=\"10.00\">output: </text>\n<polygon fill=\"none\" stroke=\"black\" points=\"147,-2035 147,-2056 248,-2056 248,-2035 147,-2035\"/>\n<text text-anchor=\"start\" x=\"152\" y=\"-2043\" font-family=\"Linux libertine\" font-size=\"10.00\">(1, 256, 8, 8) </text>\n</g>\n<!-- 8&#45;&gt;9 -->\n<g id=\"edge9\" class=\"edge\">\n<title>8&#45;&gt;9</title>\n<path fill=\"none\" stroke=\"black\" d=\"M141,-2112.63C141,-2104.82 141,-2095.73 141,-2087.18\"/>\n<polygon fill=\"black\" stroke=\"black\" points=\"144.5,-2087.16 141,-2077.16 137.5,-2087.16 144.5,-2087.16\"/>\n</g>\n<!-- 10 -->\n<g id=\"node11\" class=\"node\">\n<title>10</title>\n<polygon fill=\"#c1ffc1\" stroke=\"transparent\" points=\"259.5,-1999 22.5,-1999 22.5,-1957 259.5,-1957 259.5,-1999\"/>\n<polygon fill=\"none\" stroke=\"black\" points=\"23,-1957 23,-1999 100,-1999 100,-1957 23,-1957\"/>\n<text text-anchor=\"start\" x=\"28\" y=\"-1981\" font-family=\"Linux libertine\" font-size=\"10.00\">BatchNorm2d</text>\n<text text-anchor=\"start\" x=\"40\" y=\"-1970\" font-family=\"Linux libertine\" font-size=\"10.00\">depth:2</text>\n<polygon fill=\"none\" stroke=\"black\" points=\"100,-1978 100,-1999 159,-1999 159,-1978 100,-1978\"/>\n<text text-anchor=\"start\" x=\"111\" y=\"-1986\" font-family=\"Linux libertine\" font-size=\"10.00\">input:</text>\n<polygon fill=\"none\" stroke=\"black\" points=\"159,-1978 159,-1999 260,-1999 260,-1978 159,-1978\"/>\n<text text-anchor=\"start\" x=\"164\" y=\"-1986\" font-family=\"Linux libertine\" font-size=\"10.00\">(1, 256, 8, 8) </text>\n<polygon fill=\"none\" stroke=\"black\" points=\"100,-1957 100,-1978 159,-1978 159,-1957 100,-1957\"/>\n<text text-anchor=\"start\" x=\"105\" y=\"-1965\" font-family=\"Linux libertine\" font-size=\"10.00\">output: </text>\n<polygon fill=\"none\" stroke=\"black\" points=\"159,-1957 159,-1978 260,-1978 260,-1957 159,-1957\"/>\n<text text-anchor=\"start\" x=\"164\" y=\"-1965\" font-family=\"Linux libertine\" font-size=\"10.00\">(1, 256, 8, 8) </text>\n</g>\n<!-- 9&#45;&gt;10 -->\n<g id=\"edge10\" class=\"edge\">\n<title>9&#45;&gt;10</title>\n<path fill=\"none\" stroke=\"black\" d=\"M141,-2034.63C141,-2026.82 141,-2017.73 141,-2009.18\"/>\n<polygon fill=\"black\" stroke=\"black\" points=\"144.5,-2009.16 141,-1999.16 137.5,-2009.16 144.5,-2009.16\"/>\n</g>\n<!-- 11 -->\n<g id=\"node12\" class=\"node\">\n<title>11</title>\n<polygon fill=\"#c1ffc1\" stroke=\"transparent\" points=\"247.5,-1921 34.5,-1921 34.5,-1879 247.5,-1879 247.5,-1921\"/>\n<polygon fill=\"none\" stroke=\"black\" points=\"35,-1879 35,-1921 88,-1921 88,-1879 35,-1879\"/>\n<text text-anchor=\"start\" x=\"49\" y=\"-1903\" font-family=\"Linux libertine\" font-size=\"10.00\">ReLU</text>\n<text text-anchor=\"start\" x=\"40\" y=\"-1892\" font-family=\"Linux libertine\" font-size=\"10.00\">depth:2</text>\n<polygon fill=\"none\" stroke=\"black\" points=\"88,-1900 88,-1921 147,-1921 147,-1900 88,-1900\"/>\n<text text-anchor=\"start\" x=\"99\" y=\"-1908\" font-family=\"Linux libertine\" font-size=\"10.00\">input:</text>\n<polygon fill=\"none\" stroke=\"black\" points=\"147,-1900 147,-1921 248,-1921 248,-1900 147,-1900\"/>\n<text text-anchor=\"start\" x=\"152\" y=\"-1908\" font-family=\"Linux libertine\" font-size=\"10.00\">(1, 256, 8, 8) </text>\n<polygon fill=\"none\" stroke=\"black\" points=\"88,-1879 88,-1900 147,-1900 147,-1879 88,-1879\"/>\n<text text-anchor=\"start\" x=\"93\" y=\"-1887\" font-family=\"Linux libertine\" font-size=\"10.00\">output: </text>\n<polygon fill=\"none\" stroke=\"black\" points=\"147,-1879 147,-1900 248,-1900 248,-1879 147,-1879\"/>\n<text text-anchor=\"start\" x=\"152\" y=\"-1887\" font-family=\"Linux libertine\" font-size=\"10.00\">(1, 256, 8, 8) </text>\n</g>\n<!-- 10&#45;&gt;11 -->\n<g id=\"edge11\" class=\"edge\">\n<title>10&#45;&gt;11</title>\n<path fill=\"none\" stroke=\"black\" d=\"M141,-1956.63C141,-1948.82 141,-1939.73 141,-1931.18\"/>\n<polygon fill=\"black\" stroke=\"black\" points=\"144.5,-1931.16 141,-1921.16 137.5,-1931.16 144.5,-1931.16\"/>\n</g>\n<!-- 12 -->\n<g id=\"node13\" class=\"node\">\n<title>12</title>\n<polygon fill=\"#c1ffc1\" stroke=\"transparent\" points=\"247.5,-1843 34.5,-1843 34.5,-1801 247.5,-1801 247.5,-1843\"/>\n<polygon fill=\"none\" stroke=\"black\" points=\"35,-1801 35,-1843 88,-1843 88,-1801 35,-1801\"/>\n<text text-anchor=\"start\" x=\"43\" y=\"-1825\" font-family=\"Linux libertine\" font-size=\"10.00\">Conv2d</text>\n<text text-anchor=\"start\" x=\"40\" y=\"-1814\" font-family=\"Linux libertine\" font-size=\"10.00\">depth:2</text>\n<polygon fill=\"none\" stroke=\"black\" points=\"88,-1822 88,-1843 147,-1843 147,-1822 88,-1822\"/>\n<text text-anchor=\"start\" x=\"99\" y=\"-1830\" font-family=\"Linux libertine\" font-size=\"10.00\">input:</text>\n<polygon fill=\"none\" stroke=\"black\" points=\"147,-1822 147,-1843 248,-1843 248,-1822 147,-1822\"/>\n<text text-anchor=\"start\" x=\"152\" y=\"-1830\" font-family=\"Linux libertine\" font-size=\"10.00\">(1, 256, 8, 8) </text>\n<polygon fill=\"none\" stroke=\"black\" points=\"88,-1801 88,-1822 147,-1822 147,-1801 88,-1801\"/>\n<text text-anchor=\"start\" x=\"93\" y=\"-1809\" font-family=\"Linux libertine\" font-size=\"10.00\">output: </text>\n<polygon fill=\"none\" stroke=\"black\" points=\"147,-1801 147,-1822 248,-1822 248,-1801 147,-1801\"/>\n<text text-anchor=\"start\" x=\"152\" y=\"-1809\" font-family=\"Linux libertine\" font-size=\"10.00\">(1, 256, 8, 8) </text>\n</g>\n<!-- 11&#45;&gt;12 -->\n<g id=\"edge12\" class=\"edge\">\n<title>11&#45;&gt;12</title>\n<path fill=\"none\" stroke=\"black\" d=\"M141,-1878.63C141,-1870.82 141,-1861.73 141,-1853.18\"/>\n<polygon fill=\"black\" stroke=\"black\" points=\"144.5,-1853.16 141,-1843.16 137.5,-1853.16 144.5,-1853.16\"/>\n</g>\n<!-- 13 -->\n<g id=\"node14\" class=\"node\">\n<title>13</title>\n<polygon fill=\"#c1ffc1\" stroke=\"transparent\" points=\"259.5,-1765 22.5,-1765 22.5,-1723 259.5,-1723 259.5,-1765\"/>\n<polygon fill=\"none\" stroke=\"black\" points=\"23,-1723 23,-1765 100,-1765 100,-1723 23,-1723\"/>\n<text text-anchor=\"start\" x=\"28\" y=\"-1747\" font-family=\"Linux libertine\" font-size=\"10.00\">BatchNorm2d</text>\n<text text-anchor=\"start\" x=\"40\" y=\"-1736\" font-family=\"Linux libertine\" font-size=\"10.00\">depth:2</text>\n<polygon fill=\"none\" stroke=\"black\" points=\"100,-1744 100,-1765 159,-1765 159,-1744 100,-1744\"/>\n<text text-anchor=\"start\" x=\"111\" y=\"-1752\" font-family=\"Linux libertine\" font-size=\"10.00\">input:</text>\n<polygon fill=\"none\" stroke=\"black\" points=\"159,-1744 159,-1765 260,-1765 260,-1744 159,-1744\"/>\n<text text-anchor=\"start\" x=\"164\" y=\"-1752\" font-family=\"Linux libertine\" font-size=\"10.00\">(1, 256, 8, 8) </text>\n<polygon fill=\"none\" stroke=\"black\" points=\"100,-1723 100,-1744 159,-1744 159,-1723 100,-1723\"/>\n<text text-anchor=\"start\" x=\"105\" y=\"-1731\" font-family=\"Linux libertine\" font-size=\"10.00\">output: </text>\n<polygon fill=\"none\" stroke=\"black\" points=\"159,-1723 159,-1744 260,-1744 260,-1723 159,-1723\"/>\n<text text-anchor=\"start\" x=\"164\" y=\"-1731\" font-family=\"Linux libertine\" font-size=\"10.00\">(1, 256, 8, 8) </text>\n</g>\n<!-- 12&#45;&gt;13 -->\n<g id=\"edge13\" class=\"edge\">\n<title>12&#45;&gt;13</title>\n<path fill=\"none\" stroke=\"black\" d=\"M141,-1800.63C141,-1792.82 141,-1783.73 141,-1775.18\"/>\n<polygon fill=\"black\" stroke=\"black\" points=\"144.5,-1775.16 141,-1765.16 137.5,-1775.16 144.5,-1775.16\"/>\n</g>\n<!-- 14 -->\n<g id=\"node15\" class=\"node\">\n<title>14</title>\n<polygon fill=\"#c1ffc1\" stroke=\"transparent\" points=\"247.5,-1687 34.5,-1687 34.5,-1645 247.5,-1645 247.5,-1687\"/>\n<polygon fill=\"none\" stroke=\"black\" points=\"35,-1645 35,-1687 88,-1687 88,-1645 35,-1645\"/>\n<text text-anchor=\"start\" x=\"49\" y=\"-1669\" font-family=\"Linux libertine\" font-size=\"10.00\">ReLU</text>\n<text text-anchor=\"start\" x=\"40\" y=\"-1658\" font-family=\"Linux libertine\" font-size=\"10.00\">depth:2</text>\n<polygon fill=\"none\" stroke=\"black\" points=\"88,-1666 88,-1687 147,-1687 147,-1666 88,-1666\"/>\n<text text-anchor=\"start\" x=\"99\" y=\"-1674\" font-family=\"Linux libertine\" font-size=\"10.00\">input:</text>\n<polygon fill=\"none\" stroke=\"black\" points=\"147,-1666 147,-1687 248,-1687 248,-1666 147,-1666\"/>\n<text text-anchor=\"start\" x=\"152\" y=\"-1674\" font-family=\"Linux libertine\" font-size=\"10.00\">(1, 256, 8, 8) </text>\n<polygon fill=\"none\" stroke=\"black\" points=\"88,-1645 88,-1666 147,-1666 147,-1645 88,-1645\"/>\n<text text-anchor=\"start\" x=\"93\" y=\"-1653\" font-family=\"Linux libertine\" font-size=\"10.00\">output: </text>\n<polygon fill=\"none\" stroke=\"black\" points=\"147,-1645 147,-1666 248,-1666 248,-1645 147,-1645\"/>\n<text text-anchor=\"start\" x=\"152\" y=\"-1653\" font-family=\"Linux libertine\" font-size=\"10.00\">(1, 256, 8, 8) </text>\n</g>\n<!-- 13&#45;&gt;14 -->\n<g id=\"edge14\" class=\"edge\">\n<title>13&#45;&gt;14</title>\n<path fill=\"none\" stroke=\"black\" d=\"M141,-1722.63C141,-1714.82 141,-1705.73 141,-1697.18\"/>\n<polygon fill=\"black\" stroke=\"black\" points=\"144.5,-1697.16 141,-1687.16 137.5,-1697.16 144.5,-1697.16\"/>\n</g>\n<!-- 15 -->\n<g id=\"node16\" class=\"node\">\n<title>15</title>\n<polygon fill=\"#c1ffc1\" stroke=\"transparent\" points=\"253.5,-1609 28.5,-1609 28.5,-1567 253.5,-1567 253.5,-1609\"/>\n<polygon fill=\"none\" stroke=\"black\" points=\"29,-1567 29,-1609 94,-1609 94,-1567 29,-1567\"/>\n<text text-anchor=\"start\" x=\"34\" y=\"-1591\" font-family=\"Linux libertine\" font-size=\"10.00\">MaxPool2d</text>\n<text text-anchor=\"start\" x=\"40\" y=\"-1580\" font-family=\"Linux libertine\" font-size=\"10.00\">depth:2</text>\n<polygon fill=\"none\" stroke=\"black\" points=\"94,-1588 94,-1609 153,-1609 153,-1588 94,-1588\"/>\n<text text-anchor=\"start\" x=\"105\" y=\"-1596\" font-family=\"Linux libertine\" font-size=\"10.00\">input:</text>\n<polygon fill=\"none\" stroke=\"black\" points=\"153,-1588 153,-1609 254,-1609 254,-1588 153,-1588\"/>\n<text text-anchor=\"start\" x=\"158\" y=\"-1596\" font-family=\"Linux libertine\" font-size=\"10.00\">(1, 256, 8, 8) </text>\n<polygon fill=\"none\" stroke=\"black\" points=\"94,-1567 94,-1588 153,-1588 153,-1567 94,-1567\"/>\n<text text-anchor=\"start\" x=\"99\" y=\"-1575\" font-family=\"Linux libertine\" font-size=\"10.00\">output: </text>\n<polygon fill=\"none\" stroke=\"black\" points=\"153,-1567 153,-1588 254,-1588 254,-1567 153,-1567\"/>\n<text text-anchor=\"start\" x=\"158\" y=\"-1575\" font-family=\"Linux libertine\" font-size=\"10.00\">(1, 256, 4, 4) </text>\n</g>\n<!-- 14&#45;&gt;15 -->\n<g id=\"edge15\" class=\"edge\">\n<title>14&#45;&gt;15</title>\n<path fill=\"none\" stroke=\"black\" d=\"M141,-1644.63C141,-1636.82 141,-1627.73 141,-1619.18\"/>\n<polygon fill=\"black\" stroke=\"black\" points=\"144.5,-1619.16 141,-1609.16 137.5,-1619.16 144.5,-1619.16\"/>\n</g>\n<!-- 16 -->\n<g id=\"node17\" class=\"node\">\n<title>16</title>\n<polygon fill=\"#c1ffc1\" stroke=\"transparent\" points=\"247.5,-1531 34.5,-1531 34.5,-1489 247.5,-1489 247.5,-1531\"/>\n<polygon fill=\"none\" stroke=\"black\" points=\"35,-1489 35,-1531 88,-1531 88,-1489 35,-1489\"/>\n<text text-anchor=\"start\" x=\"43\" y=\"-1513\" font-family=\"Linux libertine\" font-size=\"10.00\">Conv2d</text>\n<text text-anchor=\"start\" x=\"40\" y=\"-1502\" font-family=\"Linux libertine\" font-size=\"10.00\">depth:2</text>\n<polygon fill=\"none\" stroke=\"black\" points=\"88,-1510 88,-1531 147,-1531 147,-1510 88,-1510\"/>\n<text text-anchor=\"start\" x=\"99\" y=\"-1518\" font-family=\"Linux libertine\" font-size=\"10.00\">input:</text>\n<polygon fill=\"none\" stroke=\"black\" points=\"147,-1510 147,-1531 248,-1531 248,-1510 147,-1510\"/>\n<text text-anchor=\"start\" x=\"152\" y=\"-1518\" font-family=\"Linux libertine\" font-size=\"10.00\">(1, 256, 4, 4) </text>\n<polygon fill=\"none\" stroke=\"black\" points=\"88,-1489 88,-1510 147,-1510 147,-1489 88,-1489\"/>\n<text text-anchor=\"start\" x=\"93\" y=\"-1497\" font-family=\"Linux libertine\" font-size=\"10.00\">output: </text>\n<polygon fill=\"none\" stroke=\"black\" points=\"147,-1489 147,-1510 248,-1510 248,-1489 147,-1489\"/>\n<text text-anchor=\"start\" x=\"152\" y=\"-1497\" font-family=\"Linux libertine\" font-size=\"10.00\">(1, 512, 4, 4) </text>\n</g>\n<!-- 15&#45;&gt;16 -->\n<g id=\"edge16\" class=\"edge\">\n<title>15&#45;&gt;16</title>\n<path fill=\"none\" stroke=\"black\" d=\"M141,-1566.63C141,-1558.82 141,-1549.73 141,-1541.18\"/>\n<polygon fill=\"black\" stroke=\"black\" points=\"144.5,-1541.16 141,-1531.16 137.5,-1541.16 144.5,-1541.16\"/>\n</g>\n<!-- 17 -->\n<g id=\"node18\" class=\"node\">\n<title>17</title>\n<polygon fill=\"#c1ffc1\" stroke=\"transparent\" points=\"259.5,-1453 22.5,-1453 22.5,-1411 259.5,-1411 259.5,-1453\"/>\n<polygon fill=\"none\" stroke=\"black\" points=\"23,-1411 23,-1453 100,-1453 100,-1411 23,-1411\"/>\n<text text-anchor=\"start\" x=\"28\" y=\"-1435\" font-family=\"Linux libertine\" font-size=\"10.00\">BatchNorm2d</text>\n<text text-anchor=\"start\" x=\"40\" y=\"-1424\" font-family=\"Linux libertine\" font-size=\"10.00\">depth:2</text>\n<polygon fill=\"none\" stroke=\"black\" points=\"100,-1432 100,-1453 159,-1453 159,-1432 100,-1432\"/>\n<text text-anchor=\"start\" x=\"111\" y=\"-1440\" font-family=\"Linux libertine\" font-size=\"10.00\">input:</text>\n<polygon fill=\"none\" stroke=\"black\" points=\"159,-1432 159,-1453 260,-1453 260,-1432 159,-1432\"/>\n<text text-anchor=\"start\" x=\"164\" y=\"-1440\" font-family=\"Linux libertine\" font-size=\"10.00\">(1, 512, 4, 4) </text>\n<polygon fill=\"none\" stroke=\"black\" points=\"100,-1411 100,-1432 159,-1432 159,-1411 100,-1411\"/>\n<text text-anchor=\"start\" x=\"105\" y=\"-1419\" font-family=\"Linux libertine\" font-size=\"10.00\">output: </text>\n<polygon fill=\"none\" stroke=\"black\" points=\"159,-1411 159,-1432 260,-1432 260,-1411 159,-1411\"/>\n<text text-anchor=\"start\" x=\"164\" y=\"-1419\" font-family=\"Linux libertine\" font-size=\"10.00\">(1, 512, 4, 4) </text>\n</g>\n<!-- 16&#45;&gt;17 -->\n<g id=\"edge17\" class=\"edge\">\n<title>16&#45;&gt;17</title>\n<path fill=\"none\" stroke=\"black\" d=\"M141,-1488.63C141,-1480.82 141,-1471.73 141,-1463.18\"/>\n<polygon fill=\"black\" stroke=\"black\" points=\"144.5,-1463.16 141,-1453.16 137.5,-1463.16 144.5,-1463.16\"/>\n</g>\n<!-- 18 -->\n<g id=\"node19\" class=\"node\">\n<title>18</title>\n<polygon fill=\"#c1ffc1\" stroke=\"transparent\" points=\"247.5,-1375 34.5,-1375 34.5,-1333 247.5,-1333 247.5,-1375\"/>\n<polygon fill=\"none\" stroke=\"black\" points=\"35,-1333 35,-1375 88,-1375 88,-1333 35,-1333\"/>\n<text text-anchor=\"start\" x=\"49\" y=\"-1357\" font-family=\"Linux libertine\" font-size=\"10.00\">ReLU</text>\n<text text-anchor=\"start\" x=\"40\" y=\"-1346\" font-family=\"Linux libertine\" font-size=\"10.00\">depth:2</text>\n<polygon fill=\"none\" stroke=\"black\" points=\"88,-1354 88,-1375 147,-1375 147,-1354 88,-1354\"/>\n<text text-anchor=\"start\" x=\"99\" y=\"-1362\" font-family=\"Linux libertine\" font-size=\"10.00\">input:</text>\n<polygon fill=\"none\" stroke=\"black\" points=\"147,-1354 147,-1375 248,-1375 248,-1354 147,-1354\"/>\n<text text-anchor=\"start\" x=\"152\" y=\"-1362\" font-family=\"Linux libertine\" font-size=\"10.00\">(1, 512, 4, 4) </text>\n<polygon fill=\"none\" stroke=\"black\" points=\"88,-1333 88,-1354 147,-1354 147,-1333 88,-1333\"/>\n<text text-anchor=\"start\" x=\"93\" y=\"-1341\" font-family=\"Linux libertine\" font-size=\"10.00\">output: </text>\n<polygon fill=\"none\" stroke=\"black\" points=\"147,-1333 147,-1354 248,-1354 248,-1333 147,-1333\"/>\n<text text-anchor=\"start\" x=\"152\" y=\"-1341\" font-family=\"Linux libertine\" font-size=\"10.00\">(1, 512, 4, 4) </text>\n</g>\n<!-- 17&#45;&gt;18 -->\n<g id=\"edge18\" class=\"edge\">\n<title>17&#45;&gt;18</title>\n<path fill=\"none\" stroke=\"black\" d=\"M141,-1410.63C141,-1402.82 141,-1393.73 141,-1385.18\"/>\n<polygon fill=\"black\" stroke=\"black\" points=\"144.5,-1385.16 141,-1375.16 137.5,-1385.16 144.5,-1385.16\"/>\n</g>\n<!-- 19 -->\n<g id=\"node20\" class=\"node\">\n<title>19</title>\n<polygon fill=\"#c1ffc1\" stroke=\"transparent\" points=\"247.5,-1297 34.5,-1297 34.5,-1255 247.5,-1255 247.5,-1297\"/>\n<polygon fill=\"none\" stroke=\"black\" points=\"35,-1255 35,-1297 88,-1297 88,-1255 35,-1255\"/>\n<text text-anchor=\"start\" x=\"43\" y=\"-1279\" font-family=\"Linux libertine\" font-size=\"10.00\">Conv2d</text>\n<text text-anchor=\"start\" x=\"40\" y=\"-1268\" font-family=\"Linux libertine\" font-size=\"10.00\">depth:2</text>\n<polygon fill=\"none\" stroke=\"black\" points=\"88,-1276 88,-1297 147,-1297 147,-1276 88,-1276\"/>\n<text text-anchor=\"start\" x=\"99\" y=\"-1284\" font-family=\"Linux libertine\" font-size=\"10.00\">input:</text>\n<polygon fill=\"none\" stroke=\"black\" points=\"147,-1276 147,-1297 248,-1297 248,-1276 147,-1276\"/>\n<text text-anchor=\"start\" x=\"152\" y=\"-1284\" font-family=\"Linux libertine\" font-size=\"10.00\">(1, 512, 4, 4) </text>\n<polygon fill=\"none\" stroke=\"black\" points=\"88,-1255 88,-1276 147,-1276 147,-1255 88,-1255\"/>\n<text text-anchor=\"start\" x=\"93\" y=\"-1263\" font-family=\"Linux libertine\" font-size=\"10.00\">output: </text>\n<polygon fill=\"none\" stroke=\"black\" points=\"147,-1255 147,-1276 248,-1276 248,-1255 147,-1255\"/>\n<text text-anchor=\"start\" x=\"152\" y=\"-1263\" font-family=\"Linux libertine\" font-size=\"10.00\">(1, 512, 4, 4) </text>\n</g>\n<!-- 18&#45;&gt;19 -->\n<g id=\"edge19\" class=\"edge\">\n<title>18&#45;&gt;19</title>\n<path fill=\"none\" stroke=\"black\" d=\"M141,-1332.63C141,-1324.82 141,-1315.73 141,-1307.18\"/>\n<polygon fill=\"black\" stroke=\"black\" points=\"144.5,-1307.16 141,-1297.16 137.5,-1307.16 144.5,-1307.16\"/>\n</g>\n<!-- 20 -->\n<g id=\"node21\" class=\"node\">\n<title>20</title>\n<polygon fill=\"#c1ffc1\" stroke=\"transparent\" points=\"259.5,-1219 22.5,-1219 22.5,-1177 259.5,-1177 259.5,-1219\"/>\n<polygon fill=\"none\" stroke=\"black\" points=\"23,-1177 23,-1219 100,-1219 100,-1177 23,-1177\"/>\n<text text-anchor=\"start\" x=\"28\" y=\"-1201\" font-family=\"Linux libertine\" font-size=\"10.00\">BatchNorm2d</text>\n<text text-anchor=\"start\" x=\"40\" y=\"-1190\" font-family=\"Linux libertine\" font-size=\"10.00\">depth:2</text>\n<polygon fill=\"none\" stroke=\"black\" points=\"100,-1198 100,-1219 159,-1219 159,-1198 100,-1198\"/>\n<text text-anchor=\"start\" x=\"111\" y=\"-1206\" font-family=\"Linux libertine\" font-size=\"10.00\">input:</text>\n<polygon fill=\"none\" stroke=\"black\" points=\"159,-1198 159,-1219 260,-1219 260,-1198 159,-1198\"/>\n<text text-anchor=\"start\" x=\"164\" y=\"-1206\" font-family=\"Linux libertine\" font-size=\"10.00\">(1, 512, 4, 4) </text>\n<polygon fill=\"none\" stroke=\"black\" points=\"100,-1177 100,-1198 159,-1198 159,-1177 100,-1177\"/>\n<text text-anchor=\"start\" x=\"105\" y=\"-1185\" font-family=\"Linux libertine\" font-size=\"10.00\">output: </text>\n<polygon fill=\"none\" stroke=\"black\" points=\"159,-1177 159,-1198 260,-1198 260,-1177 159,-1177\"/>\n<text text-anchor=\"start\" x=\"164\" y=\"-1185\" font-family=\"Linux libertine\" font-size=\"10.00\">(1, 512, 4, 4) </text>\n</g>\n<!-- 19&#45;&gt;20 -->\n<g id=\"edge20\" class=\"edge\">\n<title>19&#45;&gt;20</title>\n<path fill=\"none\" stroke=\"black\" d=\"M141,-1254.63C141,-1246.82 141,-1237.73 141,-1229.18\"/>\n<polygon fill=\"black\" stroke=\"black\" points=\"144.5,-1229.16 141,-1219.16 137.5,-1229.16 144.5,-1229.16\"/>\n</g>\n<!-- 21 -->\n<g id=\"node22\" class=\"node\">\n<title>21</title>\n<polygon fill=\"#c1ffc1\" stroke=\"transparent\" points=\"247.5,-1141 34.5,-1141 34.5,-1099 247.5,-1099 247.5,-1141\"/>\n<polygon fill=\"none\" stroke=\"black\" points=\"35,-1099 35,-1141 88,-1141 88,-1099 35,-1099\"/>\n<text text-anchor=\"start\" x=\"49\" y=\"-1123\" font-family=\"Linux libertine\" font-size=\"10.00\">ReLU</text>\n<text text-anchor=\"start\" x=\"40\" y=\"-1112\" font-family=\"Linux libertine\" font-size=\"10.00\">depth:2</text>\n<polygon fill=\"none\" stroke=\"black\" points=\"88,-1120 88,-1141 147,-1141 147,-1120 88,-1120\"/>\n<text text-anchor=\"start\" x=\"99\" y=\"-1128\" font-family=\"Linux libertine\" font-size=\"10.00\">input:</text>\n<polygon fill=\"none\" stroke=\"black\" points=\"147,-1120 147,-1141 248,-1141 248,-1120 147,-1120\"/>\n<text text-anchor=\"start\" x=\"152\" y=\"-1128\" font-family=\"Linux libertine\" font-size=\"10.00\">(1, 512, 4, 4) </text>\n<polygon fill=\"none\" stroke=\"black\" points=\"88,-1099 88,-1120 147,-1120 147,-1099 88,-1099\"/>\n<text text-anchor=\"start\" x=\"93\" y=\"-1107\" font-family=\"Linux libertine\" font-size=\"10.00\">output: </text>\n<polygon fill=\"none\" stroke=\"black\" points=\"147,-1099 147,-1120 248,-1120 248,-1099 147,-1099\"/>\n<text text-anchor=\"start\" x=\"152\" y=\"-1107\" font-family=\"Linux libertine\" font-size=\"10.00\">(1, 512, 4, 4) </text>\n</g>\n<!-- 20&#45;&gt;21 -->\n<g id=\"edge21\" class=\"edge\">\n<title>20&#45;&gt;21</title>\n<path fill=\"none\" stroke=\"black\" d=\"M141,-1176.63C141,-1168.82 141,-1159.73 141,-1151.18\"/>\n<polygon fill=\"black\" stroke=\"black\" points=\"144.5,-1151.16 141,-1141.16 137.5,-1151.16 144.5,-1151.16\"/>\n</g>\n<!-- 22 -->\n<g id=\"node23\" class=\"node\">\n<title>22</title>\n<polygon fill=\"#c1ffc1\" stroke=\"transparent\" points=\"253.5,-1063 28.5,-1063 28.5,-1021 253.5,-1021 253.5,-1063\"/>\n<polygon fill=\"none\" stroke=\"black\" points=\"29,-1021 29,-1063 94,-1063 94,-1021 29,-1021\"/>\n<text text-anchor=\"start\" x=\"34\" y=\"-1045\" font-family=\"Linux libertine\" font-size=\"10.00\">MaxPool2d</text>\n<text text-anchor=\"start\" x=\"40\" y=\"-1034\" font-family=\"Linux libertine\" font-size=\"10.00\">depth:2</text>\n<polygon fill=\"none\" stroke=\"black\" points=\"94,-1042 94,-1063 153,-1063 153,-1042 94,-1042\"/>\n<text text-anchor=\"start\" x=\"105\" y=\"-1050\" font-family=\"Linux libertine\" font-size=\"10.00\">input:</text>\n<polygon fill=\"none\" stroke=\"black\" points=\"153,-1042 153,-1063 254,-1063 254,-1042 153,-1042\"/>\n<text text-anchor=\"start\" x=\"158\" y=\"-1050\" font-family=\"Linux libertine\" font-size=\"10.00\">(1, 512, 4, 4) </text>\n<polygon fill=\"none\" stroke=\"black\" points=\"94,-1021 94,-1042 153,-1042 153,-1021 94,-1021\"/>\n<text text-anchor=\"start\" x=\"99\" y=\"-1029\" font-family=\"Linux libertine\" font-size=\"10.00\">output: </text>\n<polygon fill=\"none\" stroke=\"black\" points=\"153,-1021 153,-1042 254,-1042 254,-1021 153,-1021\"/>\n<text text-anchor=\"start\" x=\"158\" y=\"-1029\" font-family=\"Linux libertine\" font-size=\"10.00\">(1, 512, 2, 2) </text>\n</g>\n<!-- 21&#45;&gt;22 -->\n<g id=\"edge22\" class=\"edge\">\n<title>21&#45;&gt;22</title>\n<path fill=\"none\" stroke=\"black\" d=\"M141,-1098.63C141,-1090.82 141,-1081.73 141,-1073.18\"/>\n<polygon fill=\"black\" stroke=\"black\" points=\"144.5,-1073.16 141,-1063.16 137.5,-1073.16 144.5,-1073.16\"/>\n</g>\n<!-- 23 -->\n<g id=\"node24\" class=\"node\">\n<title>23</title>\n<polygon fill=\"#c1ffc1\" stroke=\"transparent\" points=\"247.5,-985 34.5,-985 34.5,-943 247.5,-943 247.5,-985\"/>\n<polygon fill=\"none\" stroke=\"black\" points=\"35,-943 35,-985 88,-985 88,-943 35,-943\"/>\n<text text-anchor=\"start\" x=\"43\" y=\"-967\" font-family=\"Linux libertine\" font-size=\"10.00\">Conv2d</text>\n<text text-anchor=\"start\" x=\"40\" y=\"-956\" font-family=\"Linux libertine\" font-size=\"10.00\">depth:2</text>\n<polygon fill=\"none\" stroke=\"black\" points=\"88,-964 88,-985 147,-985 147,-964 88,-964\"/>\n<text text-anchor=\"start\" x=\"99\" y=\"-972\" font-family=\"Linux libertine\" font-size=\"10.00\">input:</text>\n<polygon fill=\"none\" stroke=\"black\" points=\"147,-964 147,-985 248,-985 248,-964 147,-964\"/>\n<text text-anchor=\"start\" x=\"152\" y=\"-972\" font-family=\"Linux libertine\" font-size=\"10.00\">(1, 512, 2, 2) </text>\n<polygon fill=\"none\" stroke=\"black\" points=\"88,-943 88,-964 147,-964 147,-943 88,-943\"/>\n<text text-anchor=\"start\" x=\"93\" y=\"-951\" font-family=\"Linux libertine\" font-size=\"10.00\">output: </text>\n<polygon fill=\"none\" stroke=\"black\" points=\"147,-943 147,-964 248,-964 248,-943 147,-943\"/>\n<text text-anchor=\"start\" x=\"152\" y=\"-951\" font-family=\"Linux libertine\" font-size=\"10.00\">(1, 512, 2, 2) </text>\n</g>\n<!-- 22&#45;&gt;23 -->\n<g id=\"edge23\" class=\"edge\">\n<title>22&#45;&gt;23</title>\n<path fill=\"none\" stroke=\"black\" d=\"M141,-1020.63C141,-1012.82 141,-1003.73 141,-995.18\"/>\n<polygon fill=\"black\" stroke=\"black\" points=\"144.5,-995.16 141,-985.16 137.5,-995.16 144.5,-995.16\"/>\n</g>\n<!-- 24 -->\n<g id=\"node25\" class=\"node\">\n<title>24</title>\n<polygon fill=\"#c1ffc1\" stroke=\"transparent\" points=\"259.5,-907 22.5,-907 22.5,-865 259.5,-865 259.5,-907\"/>\n<polygon fill=\"none\" stroke=\"black\" points=\"23,-865 23,-907 100,-907 100,-865 23,-865\"/>\n<text text-anchor=\"start\" x=\"28\" y=\"-889\" font-family=\"Linux libertine\" font-size=\"10.00\">BatchNorm2d</text>\n<text text-anchor=\"start\" x=\"40\" y=\"-878\" font-family=\"Linux libertine\" font-size=\"10.00\">depth:2</text>\n<polygon fill=\"none\" stroke=\"black\" points=\"100,-886 100,-907 159,-907 159,-886 100,-886\"/>\n<text text-anchor=\"start\" x=\"111\" y=\"-894\" font-family=\"Linux libertine\" font-size=\"10.00\">input:</text>\n<polygon fill=\"none\" stroke=\"black\" points=\"159,-886 159,-907 260,-907 260,-886 159,-886\"/>\n<text text-anchor=\"start\" x=\"164\" y=\"-894\" font-family=\"Linux libertine\" font-size=\"10.00\">(1, 512, 2, 2) </text>\n<polygon fill=\"none\" stroke=\"black\" points=\"100,-865 100,-886 159,-886 159,-865 100,-865\"/>\n<text text-anchor=\"start\" x=\"105\" y=\"-873\" font-family=\"Linux libertine\" font-size=\"10.00\">output: </text>\n<polygon fill=\"none\" stroke=\"black\" points=\"159,-865 159,-886 260,-886 260,-865 159,-865\"/>\n<text text-anchor=\"start\" x=\"164\" y=\"-873\" font-family=\"Linux libertine\" font-size=\"10.00\">(1, 512, 2, 2) </text>\n</g>\n<!-- 23&#45;&gt;24 -->\n<g id=\"edge24\" class=\"edge\">\n<title>23&#45;&gt;24</title>\n<path fill=\"none\" stroke=\"black\" d=\"M141,-942.63C141,-934.82 141,-925.73 141,-917.18\"/>\n<polygon fill=\"black\" stroke=\"black\" points=\"144.5,-917.16 141,-907.16 137.5,-917.16 144.5,-917.16\"/>\n</g>\n<!-- 25 -->\n<g id=\"node26\" class=\"node\">\n<title>25</title>\n<polygon fill=\"#c1ffc1\" stroke=\"transparent\" points=\"247.5,-829 34.5,-829 34.5,-787 247.5,-787 247.5,-829\"/>\n<polygon fill=\"none\" stroke=\"black\" points=\"35,-787 35,-829 88,-829 88,-787 35,-787\"/>\n<text text-anchor=\"start\" x=\"49\" y=\"-811\" font-family=\"Linux libertine\" font-size=\"10.00\">ReLU</text>\n<text text-anchor=\"start\" x=\"40\" y=\"-800\" font-family=\"Linux libertine\" font-size=\"10.00\">depth:2</text>\n<polygon fill=\"none\" stroke=\"black\" points=\"88,-808 88,-829 147,-829 147,-808 88,-808\"/>\n<text text-anchor=\"start\" x=\"99\" y=\"-816\" font-family=\"Linux libertine\" font-size=\"10.00\">input:</text>\n<polygon fill=\"none\" stroke=\"black\" points=\"147,-808 147,-829 248,-829 248,-808 147,-808\"/>\n<text text-anchor=\"start\" x=\"152\" y=\"-816\" font-family=\"Linux libertine\" font-size=\"10.00\">(1, 512, 2, 2) </text>\n<polygon fill=\"none\" stroke=\"black\" points=\"88,-787 88,-808 147,-808 147,-787 88,-787\"/>\n<text text-anchor=\"start\" x=\"93\" y=\"-795\" font-family=\"Linux libertine\" font-size=\"10.00\">output: </text>\n<polygon fill=\"none\" stroke=\"black\" points=\"147,-787 147,-808 248,-808 248,-787 147,-787\"/>\n<text text-anchor=\"start\" x=\"152\" y=\"-795\" font-family=\"Linux libertine\" font-size=\"10.00\">(1, 512, 2, 2) </text>\n</g>\n<!-- 24&#45;&gt;25 -->\n<g id=\"edge25\" class=\"edge\">\n<title>24&#45;&gt;25</title>\n<path fill=\"none\" stroke=\"black\" d=\"M141,-864.63C141,-856.82 141,-847.73 141,-839.18\"/>\n<polygon fill=\"black\" stroke=\"black\" points=\"144.5,-839.16 141,-829.16 137.5,-839.16 144.5,-839.16\"/>\n</g>\n<!-- 26 -->\n<g id=\"node27\" class=\"node\">\n<title>26</title>\n<polygon fill=\"#c1ffc1\" stroke=\"transparent\" points=\"247.5,-751 34.5,-751 34.5,-709 247.5,-709 247.5,-751\"/>\n<polygon fill=\"none\" stroke=\"black\" points=\"35,-709 35,-751 88,-751 88,-709 35,-709\"/>\n<text text-anchor=\"start\" x=\"43\" y=\"-733\" font-family=\"Linux libertine\" font-size=\"10.00\">Conv2d</text>\n<text text-anchor=\"start\" x=\"40\" y=\"-722\" font-family=\"Linux libertine\" font-size=\"10.00\">depth:2</text>\n<polygon fill=\"none\" stroke=\"black\" points=\"88,-730 88,-751 147,-751 147,-730 88,-730\"/>\n<text text-anchor=\"start\" x=\"99\" y=\"-738\" font-family=\"Linux libertine\" font-size=\"10.00\">input:</text>\n<polygon fill=\"none\" stroke=\"black\" points=\"147,-730 147,-751 248,-751 248,-730 147,-730\"/>\n<text text-anchor=\"start\" x=\"152\" y=\"-738\" font-family=\"Linux libertine\" font-size=\"10.00\">(1, 512, 2, 2) </text>\n<polygon fill=\"none\" stroke=\"black\" points=\"88,-709 88,-730 147,-730 147,-709 88,-709\"/>\n<text text-anchor=\"start\" x=\"93\" y=\"-717\" font-family=\"Linux libertine\" font-size=\"10.00\">output: </text>\n<polygon fill=\"none\" stroke=\"black\" points=\"147,-709 147,-730 248,-730 248,-709 147,-709\"/>\n<text text-anchor=\"start\" x=\"152\" y=\"-717\" font-family=\"Linux libertine\" font-size=\"10.00\">(1, 512, 2, 2) </text>\n</g>\n<!-- 25&#45;&gt;26 -->\n<g id=\"edge26\" class=\"edge\">\n<title>25&#45;&gt;26</title>\n<path fill=\"none\" stroke=\"black\" d=\"M141,-786.63C141,-778.82 141,-769.73 141,-761.18\"/>\n<polygon fill=\"black\" stroke=\"black\" points=\"144.5,-761.16 141,-751.16 137.5,-761.16 144.5,-761.16\"/>\n</g>\n<!-- 27 -->\n<g id=\"node28\" class=\"node\">\n<title>27</title>\n<polygon fill=\"#c1ffc1\" stroke=\"transparent\" points=\"259.5,-673 22.5,-673 22.5,-631 259.5,-631 259.5,-673\"/>\n<polygon fill=\"none\" stroke=\"black\" points=\"23,-631 23,-673 100,-673 100,-631 23,-631\"/>\n<text text-anchor=\"start\" x=\"28\" y=\"-655\" font-family=\"Linux libertine\" font-size=\"10.00\">BatchNorm2d</text>\n<text text-anchor=\"start\" x=\"40\" y=\"-644\" font-family=\"Linux libertine\" font-size=\"10.00\">depth:2</text>\n<polygon fill=\"none\" stroke=\"black\" points=\"100,-652 100,-673 159,-673 159,-652 100,-652\"/>\n<text text-anchor=\"start\" x=\"111\" y=\"-660\" font-family=\"Linux libertine\" font-size=\"10.00\">input:</text>\n<polygon fill=\"none\" stroke=\"black\" points=\"159,-652 159,-673 260,-673 260,-652 159,-652\"/>\n<text text-anchor=\"start\" x=\"164\" y=\"-660\" font-family=\"Linux libertine\" font-size=\"10.00\">(1, 512, 2, 2) </text>\n<polygon fill=\"none\" stroke=\"black\" points=\"100,-631 100,-652 159,-652 159,-631 100,-631\"/>\n<text text-anchor=\"start\" x=\"105\" y=\"-639\" font-family=\"Linux libertine\" font-size=\"10.00\">output: </text>\n<polygon fill=\"none\" stroke=\"black\" points=\"159,-631 159,-652 260,-652 260,-631 159,-631\"/>\n<text text-anchor=\"start\" x=\"164\" y=\"-639\" font-family=\"Linux libertine\" font-size=\"10.00\">(1, 512, 2, 2) </text>\n</g>\n<!-- 26&#45;&gt;27 -->\n<g id=\"edge27\" class=\"edge\">\n<title>26&#45;&gt;27</title>\n<path fill=\"none\" stroke=\"black\" d=\"M141,-708.63C141,-700.82 141,-691.73 141,-683.18\"/>\n<polygon fill=\"black\" stroke=\"black\" points=\"144.5,-683.16 141,-673.16 137.5,-683.16 144.5,-683.16\"/>\n</g>\n<!-- 28 -->\n<g id=\"node29\" class=\"node\">\n<title>28</title>\n<polygon fill=\"#c1ffc1\" stroke=\"transparent\" points=\"247.5,-595 34.5,-595 34.5,-553 247.5,-553 247.5,-595\"/>\n<polygon fill=\"none\" stroke=\"black\" points=\"35,-553 35,-595 88,-595 88,-553 35,-553\"/>\n<text text-anchor=\"start\" x=\"49\" y=\"-577\" font-family=\"Linux libertine\" font-size=\"10.00\">ReLU</text>\n<text text-anchor=\"start\" x=\"40\" y=\"-566\" font-family=\"Linux libertine\" font-size=\"10.00\">depth:2</text>\n<polygon fill=\"none\" stroke=\"black\" points=\"88,-574 88,-595 147,-595 147,-574 88,-574\"/>\n<text text-anchor=\"start\" x=\"99\" y=\"-582\" font-family=\"Linux libertine\" font-size=\"10.00\">input:</text>\n<polygon fill=\"none\" stroke=\"black\" points=\"147,-574 147,-595 248,-595 248,-574 147,-574\"/>\n<text text-anchor=\"start\" x=\"152\" y=\"-582\" font-family=\"Linux libertine\" font-size=\"10.00\">(1, 512, 2, 2) </text>\n<polygon fill=\"none\" stroke=\"black\" points=\"88,-553 88,-574 147,-574 147,-553 88,-553\"/>\n<text text-anchor=\"start\" x=\"93\" y=\"-561\" font-family=\"Linux libertine\" font-size=\"10.00\">output: </text>\n<polygon fill=\"none\" stroke=\"black\" points=\"147,-553 147,-574 248,-574 248,-553 147,-553\"/>\n<text text-anchor=\"start\" x=\"152\" y=\"-561\" font-family=\"Linux libertine\" font-size=\"10.00\">(1, 512, 2, 2) </text>\n</g>\n<!-- 27&#45;&gt;28 -->\n<g id=\"edge28\" class=\"edge\">\n<title>27&#45;&gt;28</title>\n<path fill=\"none\" stroke=\"black\" d=\"M141,-630.63C141,-622.82 141,-613.73 141,-605.18\"/>\n<polygon fill=\"black\" stroke=\"black\" points=\"144.5,-605.16 141,-595.16 137.5,-605.16 144.5,-605.16\"/>\n</g>\n<!-- 29 -->\n<g id=\"node30\" class=\"node\">\n<title>29</title>\n<polygon fill=\"#c1ffc1\" stroke=\"transparent\" points=\"253.5,-517 28.5,-517 28.5,-475 253.5,-475 253.5,-517\"/>\n<polygon fill=\"none\" stroke=\"black\" points=\"29,-475 29,-517 94,-517 94,-475 29,-475\"/>\n<text text-anchor=\"start\" x=\"34\" y=\"-499\" font-family=\"Linux libertine\" font-size=\"10.00\">MaxPool2d</text>\n<text text-anchor=\"start\" x=\"40\" y=\"-488\" font-family=\"Linux libertine\" font-size=\"10.00\">depth:2</text>\n<polygon fill=\"none\" stroke=\"black\" points=\"94,-496 94,-517 153,-517 153,-496 94,-496\"/>\n<text text-anchor=\"start\" x=\"105\" y=\"-504\" font-family=\"Linux libertine\" font-size=\"10.00\">input:</text>\n<polygon fill=\"none\" stroke=\"black\" points=\"153,-496 153,-517 254,-517 254,-496 153,-496\"/>\n<text text-anchor=\"start\" x=\"158\" y=\"-504\" font-family=\"Linux libertine\" font-size=\"10.00\">(1, 512, 2, 2) </text>\n<polygon fill=\"none\" stroke=\"black\" points=\"94,-475 94,-496 153,-496 153,-475 94,-475\"/>\n<text text-anchor=\"start\" x=\"99\" y=\"-483\" font-family=\"Linux libertine\" font-size=\"10.00\">output: </text>\n<polygon fill=\"none\" stroke=\"black\" points=\"153,-475 153,-496 254,-496 254,-475 153,-475\"/>\n<text text-anchor=\"start\" x=\"158\" y=\"-483\" font-family=\"Linux libertine\" font-size=\"10.00\">(1, 512, 1, 1) </text>\n</g>\n<!-- 28&#45;&gt;29 -->\n<g id=\"edge29\" class=\"edge\">\n<title>28&#45;&gt;29</title>\n<path fill=\"none\" stroke=\"black\" d=\"M141,-552.63C141,-544.82 141,-535.73 141,-527.18\"/>\n<polygon fill=\"black\" stroke=\"black\" points=\"144.5,-527.16 141,-517.16 137.5,-527.16 144.5,-527.16\"/>\n</g>\n<!-- 30 -->\n<g id=\"node31\" class=\"node\">\n<title>30</title>\n<polygon fill=\"aliceblue\" stroke=\"transparent\" points=\"247.5,-439 34.5,-439 34.5,-397 247.5,-397 247.5,-439\"/>\n<polygon fill=\"none\" stroke=\"black\" points=\"35,-397 35,-439 88,-439 88,-397 35,-397\"/>\n<text text-anchor=\"start\" x=\"40\" y=\"-421\" font-family=\"Linux libertine\" font-size=\"10.00\">flatten</text>\n<text text-anchor=\"start\" x=\"40\" y=\"-410\" font-family=\"Linux libertine\" font-size=\"10.00\">depth:1</text>\n<polygon fill=\"none\" stroke=\"black\" points=\"88,-418 88,-439 147,-439 147,-418 88,-418\"/>\n<text text-anchor=\"start\" x=\"99\" y=\"-426\" font-family=\"Linux libertine\" font-size=\"10.00\">input:</text>\n<polygon fill=\"none\" stroke=\"black\" points=\"147,-418 147,-439 248,-439 248,-418 147,-418\"/>\n<text text-anchor=\"start\" x=\"152\" y=\"-426\" font-family=\"Linux libertine\" font-size=\"10.00\">(1, 512, 1, 1) </text>\n<polygon fill=\"none\" stroke=\"black\" points=\"88,-397 88,-418 147,-418 147,-397 88,-397\"/>\n<text text-anchor=\"start\" x=\"93\" y=\"-405\" font-family=\"Linux libertine\" font-size=\"10.00\">output: </text>\n<polygon fill=\"none\" stroke=\"black\" points=\"147,-397 147,-418 248,-418 248,-397 147,-397\"/>\n<text text-anchor=\"start\" x=\"170\" y=\"-405\" font-family=\"Linux libertine\" font-size=\"10.00\">(1, 512) </text>\n</g>\n<!-- 29&#45;&gt;30 -->\n<g id=\"edge30\" class=\"edge\">\n<title>29&#45;&gt;30</title>\n<path fill=\"none\" stroke=\"black\" d=\"M141,-474.63C141,-466.82 141,-457.73 141,-449.18\"/>\n<polygon fill=\"black\" stroke=\"black\" points=\"144.5,-449.16 141,-439.16 137.5,-449.16 144.5,-449.16\"/>\n</g>\n<!-- 31 -->\n<g id=\"node32\" class=\"node\">\n<title>31</title>\n<polygon fill=\"#c1ffc1\" stroke=\"transparent\" points=\"229.5,-360 52.5,-360 52.5,-318 229.5,-318 229.5,-360\"/>\n<polygon fill=\"none\" stroke=\"black\" points=\"53,-318 53,-360 106,-360 106,-318 53,-318\"/>\n<text text-anchor=\"start\" x=\"61\" y=\"-342\" font-family=\"Linux libertine\" font-size=\"10.00\">Linear</text>\n<text text-anchor=\"start\" x=\"58\" y=\"-331\" font-family=\"Linux libertine\" font-size=\"10.00\">depth:2</text>\n<polygon fill=\"none\" stroke=\"black\" points=\"106,-339 106,-360 165,-360 165,-339 106,-339\"/>\n<text text-anchor=\"start\" x=\"117\" y=\"-347\" font-family=\"Linux libertine\" font-size=\"10.00\">input:</text>\n<polygon fill=\"none\" stroke=\"black\" points=\"165,-339 165,-360 230,-360 230,-339 165,-339\"/>\n<text text-anchor=\"start\" x=\"170\" y=\"-347\" font-family=\"Linux libertine\" font-size=\"10.00\">(1, 512) </text>\n<polygon fill=\"none\" stroke=\"black\" points=\"106,-318 106,-339 165,-339 165,-318 106,-318\"/>\n<text text-anchor=\"start\" x=\"111\" y=\"-326\" font-family=\"Linux libertine\" font-size=\"10.00\">output: </text>\n<polygon fill=\"none\" stroke=\"black\" points=\"165,-318 165,-339 230,-339 230,-318 165,-318\"/>\n<text text-anchor=\"start\" x=\"170\" y=\"-326\" font-family=\"Linux libertine\" font-size=\"10.00\">(1, 512) </text>\n</g>\n<!-- 30&#45;&gt;31 -->\n<g id=\"edge31\" class=\"edge\">\n<title>30&#45;&gt;31</title>\n<path fill=\"none\" stroke=\"black\" d=\"M141,-396.77C141,-388.63 141,-379.08 141,-370.16\"/>\n<polygon fill=\"black\" stroke=\"black\" points=\"144.5,-370.1 141,-360.1 137.5,-370.1 144.5,-370.1\"/>\n</g>\n<!-- 32 -->\n<g id=\"node33\" class=\"node\">\n<title>32</title>\n<polygon fill=\"#c1ffc1\" stroke=\"transparent\" points=\"229.5,-282 52.5,-282 52.5,-240 229.5,-240 229.5,-282\"/>\n<polygon fill=\"none\" stroke=\"black\" points=\"53,-240 53,-282 106,-282 106,-240 53,-240\"/>\n<text text-anchor=\"start\" x=\"67\" y=\"-264\" font-family=\"Linux libertine\" font-size=\"10.00\">ReLU</text>\n<text text-anchor=\"start\" x=\"58\" y=\"-253\" font-family=\"Linux libertine\" font-size=\"10.00\">depth:2</text>\n<polygon fill=\"none\" stroke=\"black\" points=\"106,-261 106,-282 165,-282 165,-261 106,-261\"/>\n<text text-anchor=\"start\" x=\"117\" y=\"-269\" font-family=\"Linux libertine\" font-size=\"10.00\">input:</text>\n<polygon fill=\"none\" stroke=\"black\" points=\"165,-261 165,-282 230,-282 230,-261 165,-261\"/>\n<text text-anchor=\"start\" x=\"170\" y=\"-269\" font-family=\"Linux libertine\" font-size=\"10.00\">(1, 512) </text>\n<polygon fill=\"none\" stroke=\"black\" points=\"106,-240 106,-261 165,-261 165,-240 106,-240\"/>\n<text text-anchor=\"start\" x=\"111\" y=\"-248\" font-family=\"Linux libertine\" font-size=\"10.00\">output: </text>\n<polygon fill=\"none\" stroke=\"black\" points=\"165,-240 165,-261 230,-261 230,-240 165,-240\"/>\n<text text-anchor=\"start\" x=\"170\" y=\"-248\" font-family=\"Linux libertine\" font-size=\"10.00\">(1, 512) </text>\n</g>\n<!-- 31&#45;&gt;32 -->\n<g id=\"edge32\" class=\"edge\">\n<title>31&#45;&gt;32</title>\n<path fill=\"none\" stroke=\"black\" d=\"M141,-317.63C141,-309.82 141,-300.73 141,-292.18\"/>\n<polygon fill=\"black\" stroke=\"black\" points=\"144.5,-292.16 141,-282.16 137.5,-292.16 144.5,-292.16\"/>\n</g>\n<!-- 33 -->\n<g id=\"node34\" class=\"node\">\n<title>33</title>\n<polygon fill=\"#c1ffc1\" stroke=\"transparent\" points=\"229.5,-204 52.5,-204 52.5,-162 229.5,-162 229.5,-204\"/>\n<polygon fill=\"none\" stroke=\"black\" points=\"53,-162 53,-204 106,-204 106,-162 53,-162\"/>\n<text text-anchor=\"start\" x=\"58\" y=\"-186\" font-family=\"Linux libertine\" font-size=\"10.00\">Dropout</text>\n<text text-anchor=\"start\" x=\"58\" y=\"-175\" font-family=\"Linux libertine\" font-size=\"10.00\">depth:2</text>\n<polygon fill=\"none\" stroke=\"black\" points=\"106,-183 106,-204 165,-204 165,-183 106,-183\"/>\n<text text-anchor=\"start\" x=\"117\" y=\"-191\" font-family=\"Linux libertine\" font-size=\"10.00\">input:</text>\n<polygon fill=\"none\" stroke=\"black\" points=\"165,-183 165,-204 230,-204 230,-183 165,-183\"/>\n<text text-anchor=\"start\" x=\"170\" y=\"-191\" font-family=\"Linux libertine\" font-size=\"10.00\">(1, 512) </text>\n<polygon fill=\"none\" stroke=\"black\" points=\"106,-162 106,-183 165,-183 165,-162 106,-162\"/>\n<text text-anchor=\"start\" x=\"111\" y=\"-170\" font-family=\"Linux libertine\" font-size=\"10.00\">output: </text>\n<polygon fill=\"none\" stroke=\"black\" points=\"165,-162 165,-183 230,-183 230,-162 165,-162\"/>\n<text text-anchor=\"start\" x=\"170\" y=\"-170\" font-family=\"Linux libertine\" font-size=\"10.00\">(1, 512) </text>\n</g>\n<!-- 32&#45;&gt;33 -->\n<g id=\"edge33\" class=\"edge\">\n<title>32&#45;&gt;33</title>\n<path fill=\"none\" stroke=\"black\" d=\"M141,-239.63C141,-231.82 141,-222.73 141,-214.18\"/>\n<polygon fill=\"black\" stroke=\"black\" points=\"144.5,-214.16 141,-204.16 137.5,-214.16 144.5,-214.16\"/>\n</g>\n<!-- 34 -->\n<g id=\"node35\" class=\"node\">\n<title>34</title>\n<polygon fill=\"#c1ffc1\" stroke=\"transparent\" points=\"229.5,-126 52.5,-126 52.5,-84 229.5,-84 229.5,-126\"/>\n<polygon fill=\"none\" stroke=\"black\" points=\"53,-84 53,-126 106,-126 106,-84 53,-84\"/>\n<text text-anchor=\"start\" x=\"61\" y=\"-108\" font-family=\"Linux libertine\" font-size=\"10.00\">Linear</text>\n<text text-anchor=\"start\" x=\"58\" y=\"-97\" font-family=\"Linux libertine\" font-size=\"10.00\">depth:2</text>\n<polygon fill=\"none\" stroke=\"black\" points=\"106,-105 106,-126 165,-126 165,-105 106,-105\"/>\n<text text-anchor=\"start\" x=\"117\" y=\"-113\" font-family=\"Linux libertine\" font-size=\"10.00\">input:</text>\n<polygon fill=\"none\" stroke=\"black\" points=\"165,-105 165,-126 230,-126 230,-105 165,-105\"/>\n<text text-anchor=\"start\" x=\"170\" y=\"-113\" font-family=\"Linux libertine\" font-size=\"10.00\">(1, 512) </text>\n<polygon fill=\"none\" stroke=\"black\" points=\"106,-84 106,-105 165,-105 165,-84 106,-84\"/>\n<text text-anchor=\"start\" x=\"111\" y=\"-92\" font-family=\"Linux libertine\" font-size=\"10.00\">output: </text>\n<polygon fill=\"none\" stroke=\"black\" points=\"165,-84 165,-105 230,-105 230,-84 165,-84\"/>\n<text text-anchor=\"start\" x=\"173\" y=\"-92\" font-family=\"Linux libertine\" font-size=\"10.00\">(1, 10) </text>\n</g>\n<!-- 33&#45;&gt;34 -->\n<g id=\"edge34\" class=\"edge\">\n<title>33&#45;&gt;34</title>\n<path fill=\"none\" stroke=\"black\" d=\"M141,-161.63C141,-153.82 141,-144.73 141,-136.18\"/>\n<polygon fill=\"black\" stroke=\"black\" points=\"144.5,-136.16 141,-126.16 137.5,-136.16 144.5,-136.16\"/>\n</g>\n<!-- 35 -->\n<g id=\"node36\" class=\"node\">\n<title>35</title>\n<polygon fill=\"lightyellow\" stroke=\"transparent\" points=\"212,-48 70,-48 70,-16 212,-16 212,-48\"/>\n<polygon fill=\"none\" stroke=\"black\" points=\"70,-16 70,-48 159,-48 159,-16 70,-16\"/>\n<text text-anchor=\"start\" x=\"75\" y=\"-35\" font-family=\"Linux libertine\" font-size=\"10.00\">output&#45;tensor</text>\n<text text-anchor=\"start\" x=\"93\" y=\"-24\" font-family=\"Linux libertine\" font-size=\"10.00\">depth:0</text>\n<polygon fill=\"none\" stroke=\"black\" points=\"159,-16 159,-48 212,-48 212,-16 159,-16\"/>\n<text text-anchor=\"start\" x=\"164\" y=\"-29.5\" font-family=\"Linux libertine\" font-size=\"10.00\">(1, 10)</text>\n</g>\n<!-- 34&#45;&gt;35 -->\n<g id=\"edge35\" class=\"edge\">\n<title>34&#45;&gt;35</title>\n<path fill=\"none\" stroke=\"black\" d=\"M141,-83.84C141,-75.89 141,-66.66 141,-58.26\"/>\n<polygon fill=\"black\" stroke=\"black\" points=\"144.5,-58.24 141,-48.24 137.5,-58.24 144.5,-58.24\"/>\n</g>\n</g>\n</svg>\n",
            "text/plain": [
              "<graphviz.graphs.Digraph at 0x7bc0d3c37c10>"
            ]
          },
          "metadata": {},
          "execution_count": 21
        }
      ]
    },
    {
      "cell_type": "markdown",
      "metadata": {
        "id": "1A06ZEUnnNbK"
      },
      "source": [
        "plotting"
      ]
    },
    {
      "cell_type": "code",
      "execution_count": 22,
      "metadata": {
        "colab": {
          "base_uri": "https://localhost:8080/",
          "height": 439
        },
        "id": "NeiDnq5S3tJx",
        "outputId": "56efead5-620f-4d13-db4c-0de42e398339"
      },
      "outputs": [
        {
          "output_type": "display_data",
          "data": {
            "text/plain": [
              "<Figure size 1800x500 with 2 Axes>"
            ],
            "image/png": "[encoded data removed]"
          },
          "metadata": {}
        }
      ],
      "source": [
        "plt.figure(figsize=(18, 5))\n",
        "\n",
        "plt.subplot(1, 2, 1)\n",
        "plt.plot(range(1, config['epochs']+1), train_losses, label='Training Loss')\n",
        "plt.plot(range(1, config['epochs']+1), val_losses, label='Validation Loss')\n",
        "plt.xlabel('Epochs')\n",
        "plt.ylabel('Loss')\n",
        "plt.legend()\n",
        "plt.title('Loss vs. Epochs')\n",
        "\n",
        "plt.subplot(1, 2, 2)\n",
        "plt.plot(range(1, config['epochs']+1), train_accuracies, label='Training Accuracy')\n",
        "plt.plot(range(1, config['epochs']+1), val_accuracies, label='Validation Accuracy')\n",
        "plt.xlabel('Epochs')\n",
        "plt.ylabel('Accuracy')\n",
        "plt.legend()\n",
        "plt.title('Accuracy vs. Epochs')\n",
        "\n",
        "plt.show()"
      ]
    },
    {
      "cell_type": "markdown",
      "metadata": {
        "id": "fcqyyJpc9w4s"
      },
      "source": [
        "download saved files"
      ]
    },
    {
      "cell_type": "code",
      "execution_count": null,
      "metadata": {
        "id": "acZGYwSN95k9"
      },
      "outputs": [],
      "source": [
        "from google.colab import files"
      ]
    },
    {
      "cell_type": "code",
      "execution_count": null,
      "metadata": {
        "colab": {
          "base_uri": "https://localhost:8080/"
        },
        "id": "ict9xwwZ9B1i",
        "outputId": "273eaf50-461a-44f2-99c6-c4afc47b0329"
      },
      "outputs": [
        {
          "name": "stdout",
          "output_type": "stream",
          "text": [
            "/content\n"
          ]
        }
      ],
      "source": [
        "%cd /content"
      ]
    },
    {
      "cell_type": "code",
      "execution_count": null,
      "metadata": {
        "colab": {
          "base_uri": "https://localhost:8080/"
        },
        "id": "C8N6Xs729mNY",
        "outputId": "7c7e8331-bbc4-41b9-d42a-21200d7e9d17"
      },
      "outputs": [
        {
          "name": "stdout",
          "output_type": "stream",
          "text": [
            "  adding: model_checkpoints/ (stored 0%)\n",
            "  adding: model_checkpoints/model_epoch_15.pth (deflated 7%)\n",
            "  adding: model_checkpoints/model_epoch_17.pth (deflated 7%)\n",
            "  adding: model_checkpoints/model_epoch_38.pth (deflated 7%)\n",
            "  adding: model_checkpoints/model_epoch_45.pth (deflated 7%)\n",
            "  adding: model_checkpoints/model_epoch_18.pth (deflated 7%)\n",
            "  adding: model_checkpoints/model_epoch_31.pth (deflated 7%)\n",
            "  adding: model_checkpoints/model_epoch_21.pth (deflated 7%)\n",
            "  adding: model_checkpoints/best_model.pth (deflated 7%)\n",
            "  adding: model_checkpoints/model_epoch_50.pth (deflated 7%)\n",
            "  adding: model_checkpoints/model_epoch_2.pth (deflated 8%)\n",
            "  adding: model_checkpoints/model_epoch_47.pth (deflated 7%)\n",
            "  adding: model_checkpoints/final_model.pth (deflated 7%)\n",
            "  adding: model_checkpoints/model_epoch_7.pth (deflated 8%)\n",
            "  adding: model_checkpoints/model_epoch_40.pth (deflated 7%)\n",
            "  adding: model_checkpoints/model_epoch_12.pth (deflated 7%)\n",
            "  adding: model_checkpoints/model_epoch_46.pth (deflated 7%)\n",
            "  adding: model_checkpoints/model_epoch_43.pth (deflated 7%)\n",
            "  adding: model_checkpoints/model_epoch_10.pth (deflated 8%)\n",
            "  adding: model_checkpoints/model_epoch_41.pth (deflated 7%)\n",
            "  adding: model_checkpoints/model_epoch_37.pth (deflated 7%)\n",
            "  adding: model_checkpoints/model_epoch_42.pth (deflated 7%)\n",
            "  adding: model_checkpoints/model_epoch_22.pth (deflated 7%)\n",
            "  adding: model_checkpoints/model_epoch_44.pth (deflated 7%)\n",
            "  adding: model_checkpoints/model_epoch_4.pth (deflated 8%)\n",
            "  adding: model_checkpoints/model_epoch_34.pth (deflated 7%)\n",
            "  adding: model_checkpoints/model_epoch_13.pth (deflated 7%)\n",
            "  adding: model_checkpoints/model_epoch_28.pth (deflated 7%)\n",
            "  adding: model_checkpoints/model_epoch_32.pth (deflated 7%)\n",
            "  adding: model_checkpoints/model_epoch_25.pth (deflated 7%)\n",
            "  adding: model_checkpoints/model_epoch_35.pth (deflated 7%)\n",
            "  adding: model_checkpoints/model_epoch_16.pth (deflated 7%)\n",
            "  adding: model_checkpoints/model_epoch_30.pth (deflated 7%)\n",
            "  adding: model_checkpoints/model_epoch_36.pth (deflated 7%)\n",
            "  adding: model_checkpoints/model_epoch_24.pth (deflated 7%)\n",
            "  adding: model_checkpoints/model_epoch_39.pth (deflated 7%)\n",
            "  adding: model_checkpoints/model_epoch_19.pth (deflated 7%)\n",
            "  adding: model_checkpoints/model_epoch_49.pth (deflated 7%)\n",
            "  adding: model_checkpoints/model_epoch_8.pth (deflated 8%)\n",
            "  adding: model_checkpoints/model_epoch_14.pth (deflated 7%)\n",
            "  adding: model_checkpoints/model_epoch_33.pth (deflated 7%)\n",
            "  adding: model_checkpoints/model_epoch_11.pth (deflated 8%)\n",
            "  adding: model_checkpoints/model_epoch_29.pth (deflated 7%)\n",
            "  adding: model_checkpoints/model_epoch_26.pth (deflated 7%)\n",
            "  adding: model_checkpoints/model_epoch_20.pth (deflated 7%)\n",
            "  adding: model_checkpoints/model_epoch_27.pth (deflated 7%)\n",
            "  adding: model_checkpoints/model_epoch_23.pth (deflated 7%)\n",
            "  adding: model_checkpoints/model_epoch_48.pth (deflated 7%)\n",
            "  adding: model_checkpoints/model_epoch_9.pth (deflated 8%)\n",
            "  adding: model_checkpoints/model_epoch_3.pth (deflated 8%)\n",
            "  adding: model_checkpoints/model_epoch_6.pth (deflated 8%)\n",
            "  adding: model_checkpoints/model_epoch_5.pth (deflated 8%)\n",
            "  adding: model_checkpoints/model_epoch_1.pth (deflated 8%)\n",
            "  adding: model_checkpoints/config.json (deflated 48%)\n"
          ]
        }
      ],
      "source": [
        "!zip -r model_checkpoints.zip model_checkpoints/"
      ]
    },
    {
      "cell_type": "code",
      "execution_count": null,
      "metadata": {
        "colab": {
          "base_uri": "https://localhost:8080/",
          "height": 34
        },
        "id": "5Qa9pNhd-T55",
        "outputId": "a969ca69-9a45-400f-a184-0414582434c6"
      },
      "outputs": [
        {
          "data": {
            "application/javascript": "\n    async function download(id, filename, size) {\n      if (!google.colab.kernel.accessAllowed) {\n        return;\n      }\n      const div = document.createElement('div');\n      const label = document.createElement('label');\n      label.textContent = `Downloading \"${filename}\": `;\n      div.appendChild(label);\n      const progress = document.createElement('progress');\n      progress.max = size;\n      div.appendChild(progress);\n      document.body.appendChild(div);\n\n      const buffers = [];\n      let downloaded = 0;\n\n      const channel = await google.colab.kernel.comms.open(id);\n      // Send a message to notify the kernel that we're ready.\n      channel.send({})\n\n      for await (const message of channel.messages) {\n        // Send a message to notify the kernel that we're ready.\n        channel.send({})\n        if (message.buffers) {\n          for (const buffer of message.buffers) {\n            buffers.push(buffer);\n            downloaded += buffer.byteLength;\n            progress.value = downloaded;\n          }\n        }\n      }\n      const blob = new Blob(buffers, {type: 'application/binary'});\n      const a = document.createElement('a');\n      a.href = window.URL.createObjectURL(blob);\n      a.download = filename;\n      div.appendChild(a);\n      a.click();\n      div.remove();\n    }\n  ",
            "text/plain": [
              "<IPython.core.display.Javascript object>"
            ]
          },
          "metadata": {},
          "output_type": "display_data"
        },
        {
          "data": {
            "application/javascript": "download(\"download_a0d8e194-b74d-4986-9c2a-438e5603acb9\", \"model_checkpoints.zip\", 1829541440)",
            "text/plain": [
              "<IPython.core.display.Javascript object>"
            ]
          },
          "metadata": {},
          "output_type": "display_data"
        }
      ],
      "source": [
        "files.download('model_checkpoints.zip')"
      ]
    }
  ],
  "metadata": {
    "accelerator": "GPU",
    "colab": {
      "gpuType": "T4",
      "provenance": []
    },
    "kernelspec": {
      "display_name": "Python 3",
      "name": "python3"
    },
    "language_info": {
      "codemirror_mode": {
        "name": "ipython",
        "version": 3
      },
      "file_extension": ".py",
      "mimetype": "text/x-python",
      "name": "python",
      "nbconvert_exporter": "python",
      "pygments_lexer": "ipython3",
      "version": "3.11.0"
    }
  },
  "nbformat": 4,
  "nbformat_minor": 0
}