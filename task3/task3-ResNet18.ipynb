{
  "cells": [
    {
      "cell_type": "code",
      "execution_count": 1,
      "metadata": {
        "id": "VyZ-2j374jRo"
      },
      "outputs": [],
      "source": [
        "import torch\n",
        "import torch.nn as nn\n",
        "import torch.optim as optim\n",
        "import torchvision\n",
        "import torchvision.transforms as transforms\n",
        "from torch.utils.data import DataLoader, random_split\n",
        "import numpy as np\n",
        "from torchvision.datasets import CIFAR10\n",
        "import matplotlib.pyplot as plt\n",
        "import os\n",
        "import certifi\n",
        "import json\n",
        "from torch.optim.lr_scheduler import StepLR"
      ]
    },
    {
      "cell_type": "code",
      "execution_count": 2,
      "metadata": {
        "id": "KvVb3BEO4jRq"
      },
      "outputs": [],
      "source": [
        "os.environ['SSL_CERT_FILE'] = certifi.where()"
      ]
    },
    {
      "cell_type": "markdown",
      "metadata": {
        "id": "WEDIuycH4jRq"
      },
      "source": [
        "data augmentation and normalization for training"
      ]
    },
    {
      "cell_type": "code",
      "execution_count": 3,
      "metadata": {
        "id": "5mvBVkJi4jRr"
      },
      "outputs": [],
      "source": [
        "transform_train = transforms.Compose([\n",
        "    transforms.RandomResizedCrop(224),\n",
        "    transforms.RandomHorizontalFlip(),\n",
        "    transforms.RandomRotation(15),\n",
        "    transforms.ColorJitter(brightness=0.2, contrast=0.2, saturation=0.2),\n",
        "    transforms.ToTensor(),\n",
        "    transforms.Normalize((0.4914, 0.4822, 0.4465), (0.2023, 0.1994, 0.2010)),\n",
        "])\n"
      ]
    },
    {
      "cell_type": "markdown",
      "metadata": {
        "id": "pUiLcgDE4jRr"
      },
      "source": [
        "data normalization for testing"
      ]
    },
    {
      "cell_type": "code",
      "execution_count": 4,
      "metadata": {
        "id": "7YfFKCZr4jRr"
      },
      "outputs": [],
      "source": [
        "transform_test = transforms.Compose([\n",
        "    transforms.Resize(256),\n",
        "    transforms.CenterCrop(224),\n",
        "    transforms.ToTensor(),\n",
        "    transforms.Normalize((0.4914, 0.4822, 0.4465), (0.2023, 0.1994, 0.2010)),\n",
        "])"
      ]
    },
    {
      "cell_type": "markdown",
      "metadata": {
        "id": "mAp3jKUR4jRr"
      },
      "source": [
        "load dataset"
      ]
    },
    {
      "cell_type": "code",
      "execution_count": 5,
      "metadata": {
        "colab": {
          "base_uri": "https://localhost:8080/"
        },
        "id": "Tfw2Dedk4jRs",
        "outputId": "3492b9a2-ef1b-4ac0-8a11-30c69321f62f"
      },
      "outputs": [
        {
          "output_type": "stream",
          "name": "stdout",
          "text": [
            "Downloading https://www.cs.toronto.edu/~kriz/cifar-10-python.tar.gz to ./data_cifar/cifar-10-python.tar.gz\n"
          ]
        },
        {
          "output_type": "stream",
          "name": "stderr",
          "text": [
            "100%|██████████| 170498071/170498071 [00:19<00:00, 8649823.71it/s]\n"
          ]
        },
        {
          "output_type": "stream",
          "name": "stdout",
          "text": [
            "Extracting ./data_cifar/cifar-10-python.tar.gz to ./data_cifar/\n",
            "Files already downloaded and verified\n"
          ]
        }
      ],
      "source": [
        "data_path = './data_cifar/'\n",
        "cifar10_train = CIFAR10(data_path, train=True, download=True, transform=transform_train)\n",
        "cifar10_test = CIFAR10(data_path, train=False, download=True, transform=transform_test)"
      ]
    },
    {
      "cell_type": "markdown",
      "metadata": {
        "id": "OcTNuSkS4jRs"
      },
      "source": [
        "split trainset to train an validation sets"
      ]
    },
    {
      "cell_type": "code",
      "execution_count": 6,
      "metadata": {
        "id": "Vt47K6L04jRs"
      },
      "outputs": [],
      "source": [
        "train_size = int(0.9 * len(cifar10_train))\n",
        "val_size = len(cifar10_train) - train_size\n",
        "train_dataset, val_dataset = random_split(cifar10_train, [train_size, val_size])"
      ]
    },
    {
      "cell_type": "markdown",
      "metadata": {
        "id": "onze4dTn4jRt"
      },
      "source": [
        "define dataloaders"
      ]
    },
    {
      "cell_type": "code",
      "execution_count": 7,
      "metadata": {
        "id": "10JE-EY14jRt"
      },
      "outputs": [],
      "source": [
        "batch_size = 128\n",
        "trainloader = DataLoader(train_dataset, batch_size=batch_size, shuffle=True, num_workers=2)\n",
        "valloader = DataLoader(val_dataset, batch_size=batch_size, shuffle=True, num_workers=2)\n",
        "testloader = DataLoader(cifar10_test, batch_size=batch_size, shuffle=False, num_workers=2)"
      ]
    },
    {
      "cell_type": "markdown",
      "metadata": {
        "id": "8630xMJx4jRt"
      },
      "source": [
        "define model"
      ]
    },
    {
      "cell_type": "code",
      "execution_count": 8,
      "metadata": {
        "id": "5TzvHMTN4jRt"
      },
      "outputs": [],
      "source": [
        "class ResNet18(nn.Module):\n",
        "    def __init__(self, n_classes):\n",
        "        super(ResNet18, self).__init__()\n",
        "\n",
        "        self.dropout_percentage = 0.5\n",
        "        self.relu = nn.ReLU()\n",
        "\n",
        "        # BLOCK-1 (starting block) input=(224x224) output=(56x56)\n",
        "        self.conv1 = nn.Conv2d(in_channels=3, out_channels=64, kernel_size=(7,7), stride=(2,2), padding=(3,3))\n",
        "        self.batchnorm1 = nn.BatchNorm2d(64)\n",
        "        self.maxpool1 = nn.MaxPool2d(kernel_size=(3,3), stride=(2,2), padding=(1,1))\n",
        "\n",
        "        # BLOCK-2 (1) input=(56x56) output = (56x56)\n",
        "        self.conv2_1_1 = nn.Conv2d(in_channels=64, out_channels=64, kernel_size=(3,3), stride=(1,1), padding=(1,1))\n",
        "        self.batchnorm2_1_1 = nn.BatchNorm2d(64)\n",
        "        self.conv2_1_2 = nn.Conv2d(in_channels=64, out_channels=64, kernel_size=(3,3), stride=(1,1), padding=(1,1))\n",
        "        self.batchnorm2_1_2 = nn.BatchNorm2d(64)\n",
        "        self.dropout2_1 = nn.Dropout(p=self.dropout_percentage)\n",
        "        # BLOCK-2 (2)\n",
        "        self.conv2_2_1 = nn.Conv2d(in_channels=64, out_channels=64, kernel_size=(3,3), stride=(1,1), padding=(1,1))\n",
        "        self.batchnorm2_2_1 = nn.BatchNorm2d(64)\n",
        "        self.conv2_2_2 = nn.Conv2d(in_channels=64, out_channels=64, kernel_size=(3,3), stride=(1,1), padding=(1,1))\n",
        "        self.batchnorm2_2_2 = nn.BatchNorm2d(64)\n",
        "        self.dropout2_2 = nn.Dropout(p=self.dropout_percentage)\n",
        "\n",
        "        # BLOCK-3 (1) input=(56x56) output = (28x28)\n",
        "        self.conv3_1_1 = nn.Conv2d(in_channels=64, out_channels=128, kernel_size=(3,3), stride=(2,2), padding=(1,1))\n",
        "        self.batchnorm3_1_1 = nn.BatchNorm2d(128)\n",
        "        self.conv3_1_2 = nn.Conv2d(in_channels=128, out_channels=128, kernel_size=(3,3), stride=(1,1), padding=(1,1))\n",
        "        self.batchnorm3_1_2 = nn.BatchNorm2d(128)\n",
        "        self.concat_adjust_3 = nn.Conv2d(in_channels=64, out_channels=128, kernel_size=(1,1), stride=(2,2), padding=(0,0))\n",
        "        self.dropout3_1 = nn.Dropout(p=self.dropout_percentage)\n",
        "        # BLOCK-3 (2)\n",
        "        self.conv3_2_1 = nn.Conv2d(in_channels=128, out_channels=128, kernel_size=(3,3), stride=(1,1), padding=(1,1))\n",
        "        self.batchnorm3_2_1 = nn.BatchNorm2d(128)\n",
        "        self.conv3_2_2 = nn.Conv2d(in_channels=128, out_channels=128, kernel_size=(3,3), stride=(1,1), padding=(1,1))\n",
        "        self.batchnorm3_2_2 = nn.BatchNorm2d(128)\n",
        "        self.dropout3_2 = nn.Dropout(p=self.dropout_percentage)\n",
        "\n",
        "        # BLOCK-4 (1) input=(28x28) output = (14x14)\n",
        "        self.conv4_1_1 = nn.Conv2d(in_channels=128, out_channels=256, kernel_size=(3,3), stride=(2,2), padding=(1,1))\n",
        "        self.batchnorm4_1_1 = nn.BatchNorm2d(256)\n",
        "        self.conv4_1_2 = nn.Conv2d(in_channels=256, out_channels=256, kernel_size=(3,3), stride=(1,1), padding=(1,1))\n",
        "        self.batchnorm4_1_2 = nn.BatchNorm2d(256)\n",
        "        self.concat_adjust_4 = nn.Conv2d(in_channels=128, out_channels=256, kernel_size=(1,1), stride=(2,2), padding=(0,0))\n",
        "        self.dropout4_1 = nn.Dropout(p=self.dropout_percentage)\n",
        "        # BLOCK-4 (2)\n",
        "        self.conv4_2_1 = nn.Conv2d(in_channels=256, out_channels=256, kernel_size=(3,3), stride=(1,1), padding=(1,1))\n",
        "        self.batchnorm4_2_1 = nn.BatchNorm2d(256)\n",
        "        self.conv4_2_2 = nn.Conv2d(in_channels=256, out_channels=256, kernel_size=(3,3), stride=(1,1), padding=(1,1))\n",
        "        self.batchnorm4_2_2 = nn.BatchNorm2d(256)\n",
        "        self.dropout4_2 = nn.Dropout(p=self.dropout_percentage)\n",
        "\n",
        "        # BLOCK-5 (1) input=(14x14) output = (7x7)\n",
        "        self.conv5_1_1 = nn.Conv2d(in_channels=256, out_channels=512, kernel_size=(3,3), stride=(2,2), padding=(1,1))\n",
        "        self.batchnorm5_1_1 = nn.BatchNorm2d(512)\n",
        "        self.conv5_1_2 = nn.Conv2d(in_channels=512, out_channels=512, kernel_size=(3,3), stride=(1,1), padding=(1,1))\n",
        "        self.batchnorm5_1_2 = nn.BatchNorm2d(512)\n",
        "        self.concat_adjust_5 = nn.Conv2d(in_channels=256, out_channels=512, kernel_size=(1,1), stride=(2,2), padding=(0,0))\n",
        "        self.dropout5_1 = nn.Dropout(p=self.dropout_percentage)\n",
        "        # BLOCK-5 (2)\n",
        "        self.conv5_2_1 = nn.Conv2d(in_channels=512, out_channels=512, kernel_size=(3,3), stride=(1,1), padding=(1,1))\n",
        "        self.batchnorm5_2_1 = nn.BatchNorm2d(512)\n",
        "        self.conv5_2_2 = nn.Conv2d(in_channels=512, out_channels=512, kernel_size=(3,3), stride=(1,1), padding=(1,1))\n",
        "        self.batchnorm5_2_2 = nn.BatchNorm2d(512)\n",
        "        self.dropout5_2 = nn.Dropout(p=self.dropout_percentage)\n",
        "\n",
        "        # Final Block input=(7x7)\n",
        "        self.avgpool = nn.AvgPool2d(kernel_size=(7,7), stride=(1,1))\n",
        "        self.fc = nn.Linear(in_features=1*1*512, out_features=1000)\n",
        "        self.out = nn.Linear(in_features=1000, out_features=n_classes)\n",
        "\n",
        "    def forward(self, x):\n",
        "\n",
        "        # Block 1 --> Starting block\n",
        "        x = self.relu(self.batchnorm1(self.conv1(x)))\n",
        "        op1 = self.maxpool1(x)\n",
        "\n",
        "        # Block2 - 1\n",
        "        x = self.relu(self.batchnorm2_1_1(self.conv2_1_1(op1)))    # conv2_1\n",
        "        x = self.batchnorm2_1_2(self.conv2_1_2(x))                 # conv2_1\n",
        "        x = self.dropout2_1(x)\n",
        "        # Block2 - Concatenate 1\n",
        "        op2_1 = self.relu(x + op1)\n",
        "        # Block2 - 2\n",
        "        x = self.relu(self.batchnorm2_2_1(self.conv2_2_1(op2_1)))  # conv2_2\n",
        "        x = self.batchnorm2_2_2(self.conv2_2_2(x))                 # conv2_2\n",
        "        x = self.dropout2_2(x)\n",
        "        # op - block2\n",
        "        op2 = self.relu(x + op2_1)\n",
        "\n",
        "        # Block3 - 1[Convolution block]\n",
        "        x = self.relu(self.batchnorm3_1_1(self.conv3_1_1(op2)))    # conv3_1\n",
        "        x = self.batchnorm3_1_2(self.conv3_1_2(x))                 # conv3_1\n",
        "        x = self.dropout3_1(x)\n",
        "        # Block3 - Adjust\n",
        "        op2 = self.concat_adjust_3(op2) # SKIP CONNECTION\n",
        "        # Block3 - Concatenate 1\n",
        "        op3_1 = self.relu(x + op2)\n",
        "        # Block3 - 2[Identity Block]\n",
        "        x = self.relu(self.batchnorm3_2_1(self.conv3_2_1(op3_1)))  # conv3_2\n",
        "        x = self.batchnorm3_2_2(self.conv3_2_2(x))                 # conv3_2\n",
        "        x = self.dropout3_2(x)\n",
        "        # op - block3\n",
        "        op3 = self.relu(x + op3_1)\n",
        "\n",
        "        # Block4 - 1[Convolition block]\n",
        "        x = self.relu(self.batchnorm4_1_1(self.conv4_1_1(op3)))    # conv4_1\n",
        "        x = self.batchnorm4_1_2(self.conv4_1_2(x))                 # conv4_1\n",
        "        x = self.dropout4_1(x)\n",
        "        # Block4 - Adjust\n",
        "        op3 = self.concat_adjust_4(op3) # SKIP CONNECTION\n",
        "        # Block4 - Concatenate 1\n",
        "        op4_1 = self.relu(x + op3)\n",
        "        # Block4 - 2[Identity Block]\n",
        "        x = self.relu(self.batchnorm4_2_1(self.conv4_2_1(op4_1)))  # conv4_2\n",
        "        x = self.batchnorm4_2_2(self.conv4_2_2(x))                 # conv4_2\n",
        "        x = self.dropout4_2(x)\n",
        "        # op - block4\n",
        "        op4 = self.relu(x + op4_1)\n",
        "\n",
        "        # Block5 - 1[Convolution Block]\n",
        "        x = self.relu(self.batchnorm5_1_1(self.conv5_1_1(op4)))    # conv5_1\n",
        "        x = self.batchnorm5_1_2(self.conv5_1_2(x))                 # conv5_1\n",
        "        x = self.dropout5_1(x)\n",
        "        # Block5 - Adjust\n",
        "        op4 = self.concat_adjust_5(op4) # SKIP CONNECTION\n",
        "        # Block5 - Concatenate 1\n",
        "        op5_1 = self.relu(x + op4)\n",
        "        # Block5 - 2[Identity Block]\n",
        "        x = self.relu(self.batchnorm5_2_1(self.conv5_2_1(op5_1)))  # conv5_2\n",
        "        x = self.batchnorm5_2_2(self.conv5_2_1(x))                 # conv5_2\n",
        "        x = self.dropout5_2(x)\n",
        "        # op - block5\n",
        "        op5 = self.relu(x + op5_1)\n",
        "\n",
        "        # FINAL BLOCK - classifier\n",
        "        x = self.avgpool(op5)\n",
        "        x = x.view(x.size(0), -1)\n",
        "        x = self.relu(self.fc(x))\n",
        "        x = self.out(x)\n",
        "\n",
        "        return x"
      ]
    },
    {
      "cell_type": "markdown",
      "metadata": {
        "id": "VxyGxlmp4jRt"
      },
      "source": [
        "initialize the model, loss function, and optimizer"
      ]
    },
    {
      "cell_type": "code",
      "execution_count": 14,
      "metadata": {
        "id": "cvKE_L2t4jRt"
      },
      "outputs": [],
      "source": [
        "device = torch.device(\"cuda\" if torch.cuda.is_available() else \"cpu\")\n",
        "n_classes = 10\n",
        "model = ResNet18(n_classes=n_classes).to(device)\n",
        "criterion = nn.CrossEntropyLoss()\n",
        "optimizer = optim.SGD(model.parameters(), lr=0.01, momentum=0.9, weight_decay=5e-4)\n",
        "scheduler = StepLR(optimizer, step_size=10, gamma=0.1)"
      ]
    },
    {
      "cell_type": "markdown",
      "metadata": {
        "id": "SYF11NlT4jRt"
      },
      "source": [
        "training function"
      ]
    },
    {
      "cell_type": "code",
      "execution_count": 11,
      "metadata": {
        "id": "Khu3mZr74jRt"
      },
      "outputs": [],
      "source": [
        "def train(model, device, trainloader, criterion, optimizer):\n",
        "    model.train()\n",
        "    running_loss = 0.0\n",
        "    correct = 0\n",
        "    total = 0\n",
        "\n",
        "    for inputs, labels in trainloader:\n",
        "        inputs, labels = inputs.to(device), labels.to(device)\n",
        "        optimizer.zero_grad()\n",
        "        outputs = model(inputs)\n",
        "        loss = criterion(outputs, labels)\n",
        "        loss.backward()\n",
        "        optimizer.step()\n",
        "        running_loss += loss.item() * inputs.size(0)\n",
        "\n",
        "        _, predicted = outputs.max(1)\n",
        "        total += labels.size(0)\n",
        "        correct += predicted.eq(labels).sum().item()\n",
        "\n",
        "    train_loss = running_loss / len(trainloader.dataset)\n",
        "    train_accuracy = 100. * correct / total\n",
        "\n",
        "    return train_loss, train_accuracy"
      ]
    },
    {
      "cell_type": "markdown",
      "metadata": {
        "id": "NId_6MFM4jRt"
      },
      "source": [
        "evaluate function"
      ]
    },
    {
      "cell_type": "code",
      "execution_count": 12,
      "metadata": {
        "id": "794AT-804jRt"
      },
      "outputs": [],
      "source": [
        "def evaluate(model, device, dataloader, criterion):\n",
        "    model.eval()\n",
        "    total_loss = 0.0\n",
        "    correct = 0\n",
        "    total = 0\n",
        "\n",
        "    with torch.no_grad():\n",
        "        for inputs, labels in dataloader:\n",
        "            inputs, labels = inputs.to(device), labels.to(device)\n",
        "            outputs = model(inputs)\n",
        "            loss = criterion(outputs, labels)\n",
        "            total_loss += loss.item() * inputs.size(0)\n",
        "\n",
        "            _, predicted = outputs.max(1)\n",
        "            total += labels.size(0)\n",
        "            correct += predicted.eq(labels).sum().item()\n",
        "\n",
        "    average_loss = total_loss / len(dataloader.dataset)\n",
        "    accuracy = 100. * correct / total\n",
        "\n",
        "    return average_loss, accuracy"
      ]
    },
    {
      "cell_type": "markdown",
      "metadata": {
        "id": "GBOLGEXlyID6"
      },
      "source": [
        "create directory for saving model"
      ]
    },
    {
      "cell_type": "code",
      "execution_count": null,
      "metadata": {
        "id": "HwfQPqD6yE74"
      },
      "outputs": [],
      "source": [
        "os.makedirs('./model_checkpoints', exist_ok=True)"
      ]
    },
    {
      "cell_type": "markdown",
      "metadata": {
        "id": "p5fL9wRjyNAi"
      },
      "source": [
        "save configurations"
      ]
    },
    {
      "cell_type": "code",
      "execution_count": null,
      "metadata": {
        "id": "v32MHyzqyB79"
      },
      "outputs": [],
      "source": [
        "config = {\n",
        "    \"batch_size\": 128,\n",
        "    \"learning_rate\": 0.001,\n",
        "    \"epochs\": 50,\n",
        "    \"transform_train\": str(transform_train),\n",
        "    \"transform_test\": str(transform_test),\n",
        "    \"device\": str(device)\n",
        "}\n",
        "with open('./model_checkpoints/config.json', 'w') as f:\n",
        "    json.dump(config, f, indent=4)"
      ]
    },
    {
      "cell_type": "markdown",
      "metadata": {
        "id": "xX3QlCYAmwOB"
      },
      "source": [
        "training phase"
      ]
    },
    {
      "cell_type": "code",
      "source": [
        "train_losses = []\n",
        "val_losses = []\n",
        "train_accuracies = []\n",
        "val_accuracies = []\n",
        "\n",
        "num_epochs = 50\n",
        "patience = 7\n",
        "best_val_loss = float('inf')\n",
        "patience_counter = 0\n",
        "\n",
        "for epoch in range(num_epochs):\n",
        "    train_loss, train_accuracy = train(model, device, trainloader, criterion, optimizer)\n",
        "    train_losses.append(train_loss)\n",
        "    train_accuracies.append(train_accuracy)\n",
        "\n",
        "    val_loss, val_accuracy = evaluate(model, device, valloader, criterion)\n",
        "    val_losses.append(val_loss)\n",
        "    val_accuracies.append(val_accuracy)\n",
        "\n",
        "    scheduler.step()\n",
        "\n",
        "    print(f'Epoch {epoch+1}/{num_epochs}, Train Loss: {train_loss:.4f}, Train Accuracy: {train_accuracy:.2f}%, '\n",
        "          f'Val Loss: {val_loss:.4f}, Val Accuracy: {val_accuracy:.2f}%')\n",
        "\n",
        "    if val_loss < best_val_loss:\n",
        "        best_val_loss = val_loss\n",
        "        patience_counter = 0\n",
        "        torch.save(model.state_dict(), 'best_resnet18.pth')\n",
        "    else:\n",
        "        patience_counter += 1\n",
        "\n",
        "    if patience_counter >= patience:\n",
        "        print(\"Early stopping triggered.\")\n",
        "        break"
      ],
      "metadata": {
        "id": "CZpNep6sswnM",
        "colab": {
          "base_uri": "https://localhost:8080/"
        },
        "outputId": "06702d7d-8022-44a5-ea33-ad682d5b7959"
      },
      "execution_count": 16,
      "outputs": [
        {
          "output_type": "stream",
          "name": "stdout",
          "text": [
            "Epoch 1/50, Train Loss: 1.7179, Train Accuracy: 36.20%, Val Loss: 1.7974, Val Accuracy: 36.54%\n",
            "Epoch 2/50, Train Loss: 1.5532, Train Accuracy: 43.25%, Val Loss: 1.5115, Val Accuracy: 45.86%\n",
            "Epoch 3/50, Train Loss: 1.4330, Train Accuracy: 48.04%, Val Loss: 1.5182, Val Accuracy: 46.78%\n",
            "Epoch 4/50, Train Loss: 1.3386, Train Accuracy: 51.94%, Val Loss: 1.3677, Val Accuracy: 50.46%\n",
            "Epoch 5/50, Train Loss: 1.2739, Train Accuracy: 54.21%, Val Loss: 1.4508, Val Accuracy: 50.90%\n",
            "Epoch 6/50, Train Loss: 1.2083, Train Accuracy: 56.76%, Val Loss: 1.3275, Val Accuracy: 52.74%\n",
            "Epoch 7/50, Train Loss: 1.1523, Train Accuracy: 59.02%, Val Loss: 1.1538, Val Accuracy: 59.28%\n",
            "Epoch 8/50, Train Loss: 1.1110, Train Accuracy: 60.44%, Val Loss: 1.1446, Val Accuracy: 59.08%\n",
            "Epoch 9/50, Train Loss: 1.0738, Train Accuracy: 62.20%, Val Loss: 1.1826, Val Accuracy: 58.50%\n",
            "Epoch 10/50, Train Loss: 0.9620, Train Accuracy: 66.06%, Val Loss: 0.9588, Val Accuracy: 66.42%\n",
            "Epoch 11/50, Train Loss: 0.9382, Train Accuracy: 66.99%, Val Loss: 0.9321, Val Accuracy: 67.32%\n",
            "Epoch 12/50, Train Loss: 0.9309, Train Accuracy: 67.18%, Val Loss: 0.9545, Val Accuracy: 67.18%\n",
            "Epoch 13/50, Train Loss: 0.9150, Train Accuracy: 67.78%, Val Loss: 0.9038, Val Accuracy: 68.58%\n",
            "Epoch 14/50, Train Loss: 0.9027, Train Accuracy: 68.09%, Val Loss: 0.9148, Val Accuracy: 68.60%\n",
            "Epoch 15/50, Train Loss: 0.8979, Train Accuracy: 68.46%, Val Loss: 0.9222, Val Accuracy: 67.46%\n",
            "Epoch 16/50, Train Loss: 0.8917, Train Accuracy: 68.72%, Val Loss: 0.9206, Val Accuracy: 67.64%\n",
            "Epoch 17/50, Train Loss: 0.8904, Train Accuracy: 68.81%, Val Loss: 0.9185, Val Accuracy: 67.92%\n",
            "Epoch 18/50, Train Loss: 0.8802, Train Accuracy: 68.93%, Val Loss: 0.9157, Val Accuracy: 67.72%\n",
            "Epoch 19/50, Train Loss: 0.8676, Train Accuracy: 69.22%, Val Loss: 0.8965, Val Accuracy: 68.34%\n",
            "Epoch 20/50, Train Loss: 0.8561, Train Accuracy: 69.65%, Val Loss: 0.8771, Val Accuracy: 69.04%\n",
            "Epoch 21/50, Train Loss: 0.8506, Train Accuracy: 70.04%, Val Loss: 0.8725, Val Accuracy: 68.90%\n",
            "Epoch 22/50, Train Loss: 0.8483, Train Accuracy: 70.29%, Val Loss: 0.8895, Val Accuracy: 69.20%\n",
            "Epoch 23/50, Train Loss: 0.8461, Train Accuracy: 70.39%, Val Loss: 0.8859, Val Accuracy: 68.80%\n",
            "Epoch 25/50, Train Loss: 0.8444, Train Accuracy: 70.28%, Val Loss: 0.8716, Val Accuracy: 69.24%\n",
            "Epoch 26/50, Train Loss: 0.8474, Train Accuracy: 70.15%, Val Loss: 0.9014, Val Accuracy: 68.52%\n",
            "Epoch 27/50, Train Loss: 0.8439, Train Accuracy: 70.45%, Val Loss: 0.8835, Val Accuracy: 69.38%\n",
            "Epoch 28/50, Train Loss: 0.8463, Train Accuracy: 70.28%, Val Loss: 0.8678, Val Accuracy: 69.78%\n",
            "Epoch 29/50, Train Loss: 0.8446, Train Accuracy: 70.51%, Val Loss: 0.8742, Val Accuracy: 69.86%\n",
            "Epoch 30/50, Train Loss: 0.8439, Train Accuracy: 70.31%, Val Loss: 0.8821, Val Accuracy: 68.86%\n",
            "Epoch 31/50, Train Loss: 0.8416, Train Accuracy: 70.50%, Val Loss: 0.8640, Val Accuracy: 69.90%\n",
            "Early stopping triggered.\n"
          ]
        }
      ]
    },
    {
      "cell_type": "markdown",
      "metadata": {
        "id": "vqvWcLL6nFGy"
      },
      "source": [
        "test phase"
      ]
    },
    {
      "cell_type": "code",
      "execution_count": 18,
      "metadata": {
        "colab": {
          "base_uri": "https://localhost:8080/"
        },
        "id": "QuliYst-nERG",
        "outputId": "b9322557-f0d9-45bf-e57a-75d101da080c"
      },
      "outputs": [
        {
          "output_type": "stream",
          "name": "stdout",
          "text": [
            "Test Loss: 0.5236, Test Accuracy: 82.06%\n"
          ]
        }
      ],
      "source": [
        "model.load_state_dict(torch.load('best_resnet18.pth'))\n",
        "test_loss, test_accuracy = evaluate(model, device, testloader, criterion)\n",
        "print(f'Test Loss: {test_loss:.4f}, Test Accuracy: {test_accuracy:.2f}%')"
      ]
    },
    {
      "cell_type": "markdown",
      "metadata": {
        "id": "1A06ZEUnnNbK"
      },
      "source": [
        "plotting"
      ]
    },
    {
      "cell_type": "code",
      "execution_count": 19,
      "metadata": {
        "colab": {
          "base_uri": "https://localhost:8080/",
          "height": 507
        },
        "id": "NeiDnq5S3tJx",
        "outputId": "d233ed8a-721b-4019-dd3a-ac613308d0ff"
      },
      "outputs": [
        {
          "output_type": "display_data",
          "data": {
            "text/plain": [
              "<Figure size 1200x500 with 2 Axes>"
            ],
            "image/png": "[encoded data removed]"
          },
          "metadata": {}
        }
      ],
      "source": [
        "plt.figure(figsize=(12, 5))\n",
        "\n",
        "plt.subplot(1, 2, 1)\n",
        "plt.plot(train_losses, label='Training Loss')\n",
        "plt.plot(val_losses, label='Validation Loss')\n",
        "plt.xlabel('Epochs')\n",
        "plt.ylabel('Loss')\n",
        "plt.title('Loss vs Epochs')\n",
        "plt.legend()\n",
        "\n",
        "plt.subplot(1, 2, 2)\n",
        "plt.plot(train_accuracies, label='Training Accuracy')\n",
        "plt.plot(val_accuracies, label='Validation Accuracy')\n",
        "plt.xlabel('Epochs')\n",
        "plt.ylabel('Accuracy (%)')\n",
        "plt.title('Accuracy vs Epochs')\n",
        "plt.legend()\n",
        "\n",
        "plt.tight_layout()\n",
        "plt.show()"
      ]
    }
  ],
  "metadata": {
    "colab": {
      "provenance": [],
      "gpuType": "T4"
    },
    "kernelspec": {
      "display_name": "Python 3",
      "name": "python3"
    },
    "language_info": {
      "codemirror_mode": {
        "name": "ipython",
        "version": 3
      },
      "file_extension": ".py",
      "mimetype": "text/x-python",
      "name": "python",
      "nbconvert_exporter": "python",
      "pygments_lexer": "ipython3",
      "version": "3.11.0"
    },
    "accelerator": "GPU"
  },
  "nbformat": 4,
  "nbformat_minor": 0
}