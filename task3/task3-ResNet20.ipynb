{
  "cells": [
    {
      "cell_type": "code",
      "execution_count": 1,
      "metadata": {
        "id": "VyZ-2j374jRo"
      },
      "outputs": [],
      "source": [
        "import torch\n",
        "import torch.nn as nn\n",
        "import torch.optim as optim\n",
        "import torchvision\n",
        "import torchvision.transforms as transforms\n",
        "from torch.utils.data import DataLoader, random_split\n",
        "import numpy as np\n",
        "from torchvision.datasets import CIFAR10\n",
        "import matplotlib.pyplot as plt\n",
        "import os\n",
        "import certifi\n",
        "import json\n",
        "from torch.optim.lr_scheduler import StepLR"
      ]
    },
    {
      "cell_type": "code",
      "execution_count": 2,
      "metadata": {
        "id": "KvVb3BEO4jRq"
      },
      "outputs": [],
      "source": [
        "os.environ['SSL_CERT_FILE'] = certifi.where()"
      ]
    },
    {
      "cell_type": "markdown",
      "metadata": {
        "id": "WEDIuycH4jRq"
      },
      "source": [
        "data augmentation and normalization for training"
      ]
    },
    {
      "cell_type": "code",
      "execution_count": 3,
      "metadata": {
        "id": "5mvBVkJi4jRr"
      },
      "outputs": [],
      "source": [
        "transform_train = transforms.Compose([\n",
        "    transforms.RandomResizedCrop(32),\n",
        "    transforms.RandomHorizontalFlip(),\n",
        "    transforms.RandomRotation(15),\n",
        "    transforms.ColorJitter(brightness=0.2, contrast=0.2, saturation=0.2),\n",
        "    transforms.ToTensor(),\n",
        "    transforms.Normalize((0.4914, 0.4822, 0.4465), (0.2023, 0.1994, 0.2010)),\n",
        "])\n"
      ]
    },
    {
      "cell_type": "markdown",
      "metadata": {
        "id": "pUiLcgDE4jRr"
      },
      "source": [
        "data normalization for testing"
      ]
    },
    {
      "cell_type": "code",
      "execution_count": 4,
      "metadata": {
        "id": "7YfFKCZr4jRr"
      },
      "outputs": [],
      "source": [
        "transform_test = transforms.Compose([\n",
        "    transforms.Resize(32),\n",
        "    transforms.CenterCrop(32),\n",
        "    transforms.ToTensor(),\n",
        "    transforms.Normalize((0.4914, 0.4822, 0.4465), (0.2023, 0.1994, 0.2010)),\n",
        "])"
      ]
    },
    {
      "cell_type": "markdown",
      "metadata": {
        "id": "mAp3jKUR4jRr"
      },
      "source": [
        "load dataset"
      ]
    },
    {
      "cell_type": "code",
      "execution_count": 5,
      "metadata": {
        "colab": {
          "base_uri": "https://localhost:8080/"
        },
        "id": "Tfw2Dedk4jRs",
        "outputId": "3f7142d7-ca5f-4d45-f90b-d40a7bae6c74"
      },
      "outputs": [
        {
          "name": "stdout",
          "output_type": "stream",
          "text": [
            "Downloading https://www.cs.toronto.edu/~kriz/cifar-10-python.tar.gz to ./data_cifar/cifar-10-python.tar.gz\n"
          ]
        },
        {
          "name": "stderr",
          "output_type": "stream",
          "text": [
            "100%|██████████| 170498071/170498071 [00:03<00:00, 46460592.39it/s]\n"
          ]
        },
        {
          "name": "stdout",
          "output_type": "stream",
          "text": [
            "Extracting ./data_cifar/cifar-10-python.tar.gz to ./data_cifar/\n",
            "Files already downloaded and verified\n"
          ]
        }
      ],
      "source": [
        "data_path = './data_cifar/'\n",
        "cifar10_train = CIFAR10(data_path, train=True, download=True, transform=transform_train)\n",
        "cifar10_test = CIFAR10(data_path, train=False, download=True, transform=transform_test)"
      ]
    },
    {
      "cell_type": "markdown",
      "metadata": {
        "id": "OcTNuSkS4jRs"
      },
      "source": [
        "split trainset to train an validation sets"
      ]
    },
    {
      "cell_type": "code",
      "execution_count": 6,
      "metadata": {
        "id": "Vt47K6L04jRs"
      },
      "outputs": [],
      "source": [
        "train_size = int(0.9 * len(cifar10_train))\n",
        "val_size = len(cifar10_train) - train_size\n",
        "train_dataset, val_dataset = random_split(cifar10_train, [train_size, val_size])"
      ]
    },
    {
      "cell_type": "markdown",
      "metadata": {
        "id": "onze4dTn4jRt"
      },
      "source": [
        "define dataloaders"
      ]
    },
    {
      "cell_type": "code",
      "execution_count": 7,
      "metadata": {
        "id": "10JE-EY14jRt"
      },
      "outputs": [],
      "source": [
        "batch_size = 128\n",
        "trainloader = DataLoader(train_dataset, batch_size=batch_size, shuffle=True, num_workers=2)\n",
        "valloader = DataLoader(val_dataset, batch_size=batch_size, shuffle=True, num_workers=2)\n",
        "testloader = DataLoader(cifar10_test, batch_size=batch_size, shuffle=False, num_workers=2)"
      ]
    },
    {
      "cell_type": "markdown",
      "metadata": {
        "id": "8630xMJx4jRt"
      },
      "source": [
        "define model"
      ]
    },
    {
      "cell_type": "code",
      "execution_count": 18,
      "metadata": {
        "id": "5TzvHMTN4jRt"
      },
      "outputs": [],
      "source": [
        "class ResNet20(nn.Module):\n",
        "    def __init__(self, n_classes):\n",
        "        super(ResNet20, self).__init__()\n",
        "\n",
        "        self.dropout_percentage = 0.5\n",
        "        self.relu = nn.ReLU(inplace=True)\n",
        "\n",
        "        self.conv1 = nn.Conv2d(in_channels=3, out_channels=16, kernel_size=(3, 3), stride=(1, 1), padding=(1, 1), bias=False)\n",
        "        self.batchnorm1 = nn.BatchNorm2d(16)\n",
        "\n",
        "        self.conv2_1_1 = nn.Conv2d(in_channels=16, out_channels=16, kernel_size=(3, 3), stride=(1, 1), padding=(1, 1), bias=False)\n",
        "        self.batchnorm2_1_1 = nn.BatchNorm2d(16)\n",
        "        self.conv2_1_2 = nn.Conv2d(in_channels=16, out_channels=16, kernel_size=(3, 3), stride=(1, 1), padding=(1, 1), bias=False)\n",
        "        self.batchnorm2_1_2 = nn.BatchNorm2d(16)\n",
        "\n",
        "        self.conv2_2_1 = nn.Conv2d(in_channels=16, out_channels=16, kernel_size=(3, 3), stride=(1, 1), padding=(1, 1), bias=False)\n",
        "        self.batchnorm2_2_1 = nn.BatchNorm2d(16)\n",
        "        self.conv2_2_2 = nn.Conv2d(in_channels=16, out_channels=16, kernel_size=(3, 3), stride=(1, 1), padding=(1, 1), bias=False)\n",
        "        self.batchnorm2_2_2 = nn.BatchNorm2d(16)\n",
        "\n",
        "\n",
        "        self.conv3_1_1 = nn.Conv2d(in_channels=16, out_channels=32, kernel_size=(3, 3), stride=(2, 2), padding=(1, 1), bias=False)\n",
        "        self.batchnorm3_1_1 = nn.BatchNorm2d(32)\n",
        "        self.conv3_1_2 = nn.Conv2d(in_channels=32, out_channels=32, kernel_size=(3, 3), stride=(1, 1), padding=(1, 1), bias=False)\n",
        "        self.batchnorm3_1_2 = nn.BatchNorm2d(32)\n",
        "        self.concat_adjust_3 = nn.Conv2d(in_channels=16, out_channels=32, kernel_size=(1, 1), stride=(2, 2), padding=(0, 0), bias=False)\n",
        "\n",
        "        self.conv3_2_1 = nn.Conv2d(in_channels=32, out_channels=32, kernel_size=(3, 3), stride=(1, 1), padding=(1, 1), bias=False)\n",
        "        self.batchnorm3_2_1 = nn.BatchNorm2d(32)\n",
        "        self.conv3_2_2 = nn.Conv2d(in_channels=32, out_channels=32, kernel_size=(3, 3), stride=(1, 1), padding=(1, 1), bias=False)\n",
        "        self.batchnorm3_2_2 = nn.BatchNorm2d(32)\n",
        "\n",
        "\n",
        "        self.conv4_1_1 = nn.Conv2d(in_channels=32, out_channels=64, kernel_size=(3, 3), stride=(2, 2), padding=(1, 1), bias=False)\n",
        "        self.batchnorm4_1_1 = nn.BatchNorm2d(64)\n",
        "        self.conv4_1_2 = nn.Conv2d(in_channels=64, out_channels=64, kernel_size=(3, 3), stride=(1, 1), padding=(1, 1), bias=False)\n",
        "        self.batchnorm4_1_2 = nn.BatchNorm2d(64)\n",
        "        self.concat_adjust_4 = nn.Conv2d(in_channels=32, out_channels=64, kernel_size=(1, 1), stride=(2, 2), padding=(0, 0), bias=False)\n",
        "\n",
        "        self.conv4_2_1 = nn.Conv2d(in_channels=64, out_channels=64, kernel_size=(3, 3), stride=(1, 1), padding=(1, 1), bias=False)\n",
        "        self.batchnorm4_2_1 = nn.BatchNorm2d(64)\n",
        "        self.conv4_2_2 = nn.Conv2d(in_channels=64, out_channels=64, kernel_size=(3, 3), stride=(1, 1), padding=(1, 1), bias=False)\n",
        "        self.batchnorm4_2_2 = nn.BatchNorm2d(64)\n",
        "\n",
        "        self.avgpool = nn.AdaptiveAvgPool2d((1, 1))\n",
        "        self.fc = nn.Linear(in_features=64, out_features=n_classes)\n",
        "\n",
        "    def forward(self, x):\n",
        "\n",
        "        x = self.relu(self.batchnorm1(self.conv1(x)))\n",
        "        x = self.relu(self.batchnorm2_1_1(self.conv2_1_1(x)))   \n",
        "        x = self.batchnorm2_1_2(self.conv2_1_2(x))              \n",
        "        x = self.relu(self.batchnorm2_2_1(self.conv2_2_1(x)))    \n",
        "        op2 = self.batchnorm2_2_2(self.conv2_2_2(x))             \n",
        "        x = self.relu(self.batchnorm3_1_1(self.conv3_1_1(op2))) \n",
        "        x = self.batchnorm3_1_2(self.conv3_1_2(x))              \n",
        "        op2 = self.concat_adjust_3(op2)                         \n",
        "        op3 = self.relu(x + op2)\n",
        "        x = self.relu(self.batchnorm3_2_1(self.conv3_2_1(op3)))  \n",
        "        op3 = self.batchnorm3_2_2(self.conv3_2_2(x))             \n",
        "        x = self.relu(self.batchnorm4_1_1(self.conv4_1_1(op3))) \n",
        "        x = self.batchnorm4_1_2(self.conv4_1_2(x))               \n",
        "        op3 = self.concat_adjust_4(op3)                          \n",
        "        op4 = self.relu(x + op3)\n",
        "        x = self.relu(self.batchnorm4_2_1(self.conv4_2_1(op4)))  \n",
        "        op4 = self.batchnorm4_2_2(self.conv4_2_2(x))             \n",
        "        x = self.avgpool(op4)\n",
        "        x = torch.flatten(x, 1)\n",
        "        x = self.fc(x)\n",
        "        return x"
      ]
    },
    {
      "cell_type": "markdown",
      "metadata": {
        "id": "VxyGxlmp4jRt"
      },
      "source": [
        "initialize the model, loss function, and optimizer"
      ]
    },
    {
      "cell_type": "code",
      "execution_count": 20,
      "metadata": {
        "id": "cvKE_L2t4jRt"
      },
      "outputs": [],
      "source": [
        "device = torch.device(\"cuda\" if torch.cuda.is_available() else \"cpu\")\n",
        "n_classes = 10\n",
        "model = ResNet20(n_classes=n_classes).to(device)\n",
        "criterion = nn.CrossEntropyLoss()\n",
        "optimizer = optim.SGD(model.parameters(), lr=0.01, momentum=0.9, weight_decay=5e-4)\n",
        "scheduler = StepLR(optimizer, step_size=10, gamma=0.1)"
      ]
    },
    {
      "cell_type": "markdown",
      "metadata": {
        "id": "SYF11NlT4jRt"
      },
      "source": [
        "training function"
      ]
    },
    {
      "cell_type": "code",
      "execution_count": 21,
      "metadata": {
        "id": "Khu3mZr74jRt"
      },
      "outputs": [],
      "source": [
        "def train(model, device, trainloader, criterion, optimizer):\n",
        "    model.train()\n",
        "    running_loss = 0.0\n",
        "    correct = 0\n",
        "    total = 0\n",
        "\n",
        "    for inputs, labels in trainloader:\n",
        "        inputs, labels = inputs.to(device), labels.to(device)\n",
        "        optimizer.zero_grad()\n",
        "        outputs = model(inputs)\n",
        "        loss = criterion(outputs, labels)\n",
        "        loss.backward()\n",
        "        optimizer.step()\n",
        "        running_loss += loss.item() * inputs.size(0)\n",
        "\n",
        "        _, predicted = outputs.max(1)\n",
        "        total += labels.size(0)\n",
        "        correct += predicted.eq(labels).sum().item()\n",
        "\n",
        "    train_loss = running_loss / len(trainloader.dataset)\n",
        "    train_accuracy = 100. * correct / total\n",
        "\n",
        "    return train_loss, train_accuracy"
      ]
    },
    {
      "cell_type": "markdown",
      "metadata": {
        "id": "NId_6MFM4jRt"
      },
      "source": [
        "evaluate function"
      ]
    },
    {
      "cell_type": "code",
      "execution_count": 22,
      "metadata": {
        "id": "794AT-804jRt"
      },
      "outputs": [],
      "source": [
        "def evaluate(model, device, dataloader, criterion):\n",
        "    model.eval()\n",
        "    total_loss = 0.0\n",
        "    correct = 0\n",
        "    total = 0\n",
        "\n",
        "    with torch.no_grad():\n",
        "        for inputs, labels in dataloader:\n",
        "            inputs, labels = inputs.to(device), labels.to(device)\n",
        "            outputs = model(inputs)\n",
        "            loss = criterion(outputs, labels)\n",
        "            total_loss += loss.item() * inputs.size(0)\n",
        "\n",
        "            _, predicted = outputs.max(1)\n",
        "            total += labels.size(0)\n",
        "            correct += predicted.eq(labels).sum().item()\n",
        "\n",
        "    average_loss = total_loss / len(dataloader.dataset)\n",
        "    accuracy = 100. * correct / total\n",
        "\n",
        "    return average_loss, accuracy"
      ]
    },
    {
      "cell_type": "markdown",
      "metadata": {
        "id": "GBOLGEXlyID6"
      },
      "source": [
        "create directory for saving model"
      ]
    },
    {
      "cell_type": "code",
      "execution_count": 23,
      "metadata": {
        "id": "HwfQPqD6yE74"
      },
      "outputs": [],
      "source": [
        "os.makedirs('./model_checkpoints', exist_ok=True)"
      ]
    },
    {
      "cell_type": "markdown",
      "metadata": {
        "id": "p5fL9wRjyNAi"
      },
      "source": [
        "save configurations"
      ]
    },
    {
      "cell_type": "code",
      "execution_count": 24,
      "metadata": {
        "id": "v32MHyzqyB79"
      },
      "outputs": [],
      "source": [
        "config = {\n",
        "    \"batch_size\": 128,\n",
        "    \"learning_rate\": 0.001,\n",
        "    \"epochs\": 50,\n",
        "    \"transform_train\": str(transform_train),\n",
        "    \"transform_test\": str(transform_test),\n",
        "    \"device\": str(device)\n",
        "}\n",
        "with open('./model_checkpoints/config.json', 'w') as f:\n",
        "    json.dump(config, f, indent=4)"
      ]
    },
    {
      "cell_type": "markdown",
      "metadata": {
        "id": "xX3QlCYAmwOB"
      },
      "source": [
        "training phase"
      ]
    },
    {
      "cell_type": "code",
      "execution_count": 25,
      "metadata": {
        "colab": {
          "base_uri": "https://localhost:8080/"
        },
        "id": "CZpNep6sswnM",
        "outputId": "09e63de7-00b8-4d0b-f07d-1f6a3dc980b3"
      },
      "outputs": [
        {
          "name": "stdout",
          "output_type": "stream",
          "text": [
            "Epoch 1/50, Train Loss: 1.8612, Train Accuracy: 30.36%, Val Loss: 1.7551, Val Accuracy: 36.36%\n",
            "Epoch 2/50, Train Loss: 1.6432, Train Accuracy: 39.64%, Val Loss: 1.5646, Val Accuracy: 41.90%\n",
            "Epoch 3/50, Train Loss: 1.5090, Train Accuracy: 45.70%, Val Loss: 1.5502, Val Accuracy: 43.82%\n",
            "Epoch 4/50, Train Loss: 1.4184, Train Accuracy: 49.27%, Val Loss: 1.4654, Val Accuracy: 48.10%\n",
            "Epoch 5/50, Train Loss: 1.3521, Train Accuracy: 51.58%, Val Loss: 1.4287, Val Accuracy: 47.46%\n",
            "Epoch 6/50, Train Loss: 1.3048, Train Accuracy: 53.64%, Val Loss: 1.3885, Val Accuracy: 49.28%\n",
            "Epoch 7/50, Train Loss: 1.2545, Train Accuracy: 55.59%, Val Loss: 1.3103, Val Accuracy: 54.50%\n",
            "Epoch 8/50, Train Loss: 1.2108, Train Accuracy: 57.20%, Val Loss: 1.3757, Val Accuracy: 52.96%\n",
            "Epoch 9/50, Train Loss: 1.1956, Train Accuracy: 57.78%, Val Loss: 1.2640, Val Accuracy: 54.98%\n",
            "Epoch 10/50, Train Loss: 1.1615, Train Accuracy: 59.26%, Val Loss: 1.2484, Val Accuracy: 56.22%\n",
            "Epoch 11/50, Train Loss: 1.0754, Train Accuracy: 62.12%, Val Loss: 1.0465, Val Accuracy: 63.54%\n",
            "Epoch 12/50, Train Loss: 1.0467, Train Accuracy: 63.22%, Val Loss: 1.0453, Val Accuracy: 62.54%\n",
            "Epoch 13/50, Train Loss: 1.0362, Train Accuracy: 63.72%, Val Loss: 1.0103, Val Accuracy: 64.30%\n",
            "Epoch 14/50, Train Loss: 1.0244, Train Accuracy: 64.01%, Val Loss: 1.0149, Val Accuracy: 63.96%\n",
            "Epoch 15/50, Train Loss: 1.0200, Train Accuracy: 64.17%, Val Loss: 1.0216, Val Accuracy: 63.54%\n",
            "Epoch 16/50, Train Loss: 1.0149, Train Accuracy: 64.33%, Val Loss: 1.0139, Val Accuracy: 64.30%\n",
            "Epoch 17/50, Train Loss: 1.0165, Train Accuracy: 64.39%, Val Loss: 0.9989, Val Accuracy: 65.32%\n",
            "Epoch 18/50, Train Loss: 1.0053, Train Accuracy: 64.72%, Val Loss: 0.9984, Val Accuracy: 64.54%\n",
            "Epoch 19/50, Train Loss: 0.9975, Train Accuracy: 65.36%, Val Loss: 0.9927, Val Accuracy: 64.92%\n",
            "Epoch 20/50, Train Loss: 0.9857, Train Accuracy: 65.50%, Val Loss: 0.9910, Val Accuracy: 64.76%\n",
            "Epoch 21/50, Train Loss: 0.9837, Train Accuracy: 65.60%, Val Loss: 0.9721, Val Accuracy: 65.22%\n",
            "Epoch 22/50, Train Loss: 0.9822, Train Accuracy: 65.44%, Val Loss: 0.9830, Val Accuracy: 65.62%\n",
            "Epoch 23/50, Train Loss: 0.9841, Train Accuracy: 65.74%, Val Loss: 0.9626, Val Accuracy: 65.54%\n",
            "Epoch 24/50, Train Loss: 0.9770, Train Accuracy: 65.97%, Val Loss: 0.9699, Val Accuracy: 65.64%\n",
            "Epoch 25/50, Train Loss: 0.9749, Train Accuracy: 65.81%, Val Loss: 0.9768, Val Accuracy: 64.80%\n",
            "Epoch 26/50, Train Loss: 0.9822, Train Accuracy: 65.59%, Val Loss: 0.9912, Val Accuracy: 64.84%\n",
            "Epoch 27/50, Train Loss: 0.9703, Train Accuracy: 66.02%, Val Loss: 0.9747, Val Accuracy: 65.98%\n",
            "Epoch 28/50, Train Loss: 0.9782, Train Accuracy: 65.76%, Val Loss: 0.9682, Val Accuracy: 66.12%\n",
            "Epoch 29/50, Train Loss: 0.9735, Train Accuracy: 65.98%, Val Loss: 0.9779, Val Accuracy: 66.16%\n",
            "Epoch 30/50, Train Loss: 0.9647, Train Accuracy: 66.20%, Val Loss: 0.9524, Val Accuracy: 66.82%\n",
            "Epoch 31/50, Train Loss: 0.9717, Train Accuracy: 65.89%, Val Loss: 0.9550, Val Accuracy: 66.94%\n",
            "Epoch 32/50, Train Loss: 0.9740, Train Accuracy: 65.81%, Val Loss: 0.9877, Val Accuracy: 65.44%\n",
            "Epoch 33/50, Train Loss: 0.9629, Train Accuracy: 66.22%, Val Loss: 0.9583, Val Accuracy: 66.40%\n",
            "Epoch 34/50, Train Loss: 0.9766, Train Accuracy: 65.86%, Val Loss: 0.9685, Val Accuracy: 66.06%\n",
            "Epoch 35/50, Train Loss: 0.9713, Train Accuracy: 65.86%, Val Loss: 0.9569, Val Accuracy: 65.94%\n",
            "Epoch 36/50, Train Loss: 0.9737, Train Accuracy: 66.09%, Val Loss: 0.9545, Val Accuracy: 66.46%\n",
            "Epoch 37/50, Train Loss: 0.9739, Train Accuracy: 66.01%, Val Loss: 0.9778, Val Accuracy: 64.92%\n",
            "Early stopping triggered.\n"
          ]
        }
      ],
      "source": [
        "train_losses = []\n",
        "val_losses = []\n",
        "train_accuracies = []\n",
        "val_accuracies = []\n",
        "\n",
        "num_epochs = 50\n",
        "patience = 7\n",
        "best_val_loss = float('inf')\n",
        "patience_counter = 0\n",
        "\n",
        "for epoch in range(num_epochs):\n",
        "    train_loss, train_accuracy = train(model, device, trainloader, criterion, optimizer)\n",
        "    train_losses.append(train_loss)\n",
        "    train_accuracies.append(train_accuracy)\n",
        "\n",
        "    val_loss, val_accuracy = evaluate(model, device, valloader, criterion)\n",
        "    val_losses.append(val_loss)\n",
        "    val_accuracies.append(val_accuracy)\n",
        "\n",
        "    scheduler.step()\n",
        "\n",
        "    print(f'Epoch {epoch+1}/{num_epochs}, Train Loss: {train_loss:.4f}, Train Accuracy: {train_accuracy:.2f}%, '\n",
        "          f'Val Loss: {val_loss:.4f}, Val Accuracy: {val_accuracy:.2f}%')\n",
        "\n",
        "    if val_loss < best_val_loss:\n",
        "        best_val_loss = val_loss\n",
        "        patience_counter = 0\n",
        "        torch.save(model.state_dict(), 'best_resnet20.pth')\n",
        "    else:\n",
        "        patience_counter += 1\n",
        "\n",
        "    if patience_counter >= patience:\n",
        "        print(\"Early stopping triggered.\")\n",
        "        break"
      ]
    },
    {
      "cell_type": "markdown",
      "metadata": {
        "id": "vqvWcLL6nFGy"
      },
      "source": [
        "test phase"
      ]
    },
    {
      "cell_type": "code",
      "execution_count": 27,
      "metadata": {
        "colab": {
          "base_uri": "https://localhost:8080/"
        },
        "id": "QuliYst-nERG",
        "outputId": "f452ea18-5619-4808-bfc2-4a9d4d8b3407"
      },
      "outputs": [
        {
          "name": "stdout",
          "output_type": "stream",
          "text": [
            "Test Loss: 0.6872, Test Accuracy: 76.40%\n"
          ]
        }
      ],
      "source": [
        "model.load_state_dict(torch.load('best_resnet20.pth'))\n",
        "test_loss, test_accuracy = evaluate(model, device, testloader, criterion)\n",
        "print(f'Test Loss: {test_loss:.4f}, Test Accuracy: {test_accuracy:.2f}%')"
      ]
    },
    {
      "cell_type": "markdown",
      "metadata": {
        "id": "1A06ZEUnnNbK"
      },
      "source": [
        "plotting"
      ]
    },
    {
      "cell_type": "code",
      "execution_count": 28,
      "metadata": {
        "colab": {
          "base_uri": "https://localhost:8080/",
          "height": 507
        },
        "id": "NeiDnq5S3tJx",
        "outputId": "c994c269-3872-48e1-d26a-4c4527553e47"
      },
      "outputs": [
        {
          "data": {
            "image/png": "[encoded data removed]",
            "text/plain": [
              "<Figure size 1200x500 with 2 Axes>"
            ]
          },
          "metadata": {},
          "output_type": "display_data"
        }
      ],
      "source": [
        "plt.figure(figsize=(12, 5))\n",
        "\n",
        "plt.subplot(1, 2, 1)\n",
        "plt.plot(train_losses, label='Training Loss')\n",
        "plt.plot(val_losses, label='Validation Loss')\n",
        "plt.xlabel('Epochs')\n",
        "plt.ylabel('Loss')\n",
        "plt.title('Loss vs Epochs')\n",
        "plt.legend()\n",
        "\n",
        "plt.subplot(1, 2, 2)\n",
        "plt.plot(train_accuracies, label='Training Accuracy')\n",
        "plt.plot(val_accuracies, label='Validation Accuracy')\n",
        "plt.xlabel('Epochs')\n",
        "plt.ylabel('Accuracy (%)')\n",
        "plt.title('Accuracy vs Epochs')\n",
        "plt.legend()\n",
        "\n",
        "plt.tight_layout()\n",
        "plt.show()"
      ]
    }
  ],
  "metadata": {
    "accelerator": "GPU",
    "colab": {
      "gpuType": "T4",
      "provenance": []
    },
    "kernelspec": {
      "display_name": "Python 3",
      "name": "python3"
    },
    "language_info": {
      "codemirror_mode": {
        "name": "ipython",
        "version": 3
      },
      "file_extension": ".py",
      "mimetype": "text/x-python",
      "name": "python",
      "nbconvert_exporter": "python",
      "pygments_lexer": "ipython3",
      "version": "3.11.0"
    }
  },
  "nbformat": 4,
  "nbformat_minor": 0
}
